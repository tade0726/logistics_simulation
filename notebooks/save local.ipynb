{
 "cells": [
  {
   "cell_type": "code",
   "execution_count": 1,
   "metadata": {
    "collapsed": true
   },
   "outputs": [],
   "source": [
    "import sys\n",
    "sys.path.append(\"..\")\n",
    "\n",
    "import os\n",
    "from os.path import join, splitext\n",
    "\n",
    "import pandas as pd\n",
    "from src.db import *\n",
    "from src.config import *\n",
    "from sqlalchemy import MetaData"
   ]
  },
  {
   "cell_type": "code",
   "execution_count": 2,
   "metadata": {
    "collapsed": true,
    "scrolled": true
   },
   "outputs": [],
   "source": [
    "table_names = RemoteMySQLConfig.engine.table_names()\n",
    "i_tables = [x for x in table_names if x.startswith('i')]"
   ]
  },
  {
   "cell_type": "code",
   "execution_count": 3,
   "metadata": {
    "scrolled": true
   },
   "outputs": [
    {
     "data": {
      "text/plain": [
       "['i_container_capacity',\n",
       " 'i_container_capacity_default',\n",
       " 'i_container_capacity_past_run',\n",
       " 'i_dest_cutoff_time',\n",
       " 'i_dest_cutoff_time_default',\n",
       " 'i_dest_cutoff_time_past_run',\n",
       " 'i_equipment_io',\n",
       " 'i_equipment_io_default',\n",
       " 'i_equipment_io_past_run',\n",
       " 'i_equipment_parameter',\n",
       " 'i_equipment_parameter_default',\n",
       " 'i_equipment_parameter_past_run',\n",
       " 'i_equipment_resource',\n",
       " 'i_equipment_resource_default',\n",
       " 'i_equipment_resource_past_run',\n",
       " 'i_od_parcel_airside',\n",
       " 'i_od_parcel_airside_day',\n",
       " 'i_od_parcel_airside_day_bak',\n",
       " 'i_od_parcel_airside_past_run',\n",
       " 'i_od_parcel_landside',\n",
       " 'i_od_parcel_landside_day',\n",
       " 'i_od_parcel_landside_day_bak',\n",
       " 'i_od_parcel_landside_past_run',\n",
       " 'i_od_small_airside',\n",
       " 'i_od_small_airside_day',\n",
       " 'i_od_small_airside_day_bak',\n",
       " 'i_od_small_airside_past_run',\n",
       " 'i_od_small_landside',\n",
       " 'i_od_small_landside_day',\n",
       " 'i_od_small_landside_day_bak',\n",
       " 'i_od_small_landside_past_run',\n",
       " 'i_queue_io',\n",
       " 'i_queue_io_default',\n",
       " 'i_queue_io_past_run',\n",
       " 'i_reload_setting',\n",
       " 'i_reload_setting_default',\n",
       " 'i_reload_setting_past_run',\n",
       " 'i_resource_limit',\n",
       " 'i_resource_limit_default',\n",
       " 'i_resource_limit_past_run',\n",
       " 'i_unload_setting',\n",
       " 'i_unload_setting_default',\n",
       " 'i_unload_setting_past_run']"
      ]
     },
     "execution_count": 3,
     "metadata": {},
     "output_type": "execute_result"
    }
   ],
   "source": [
    "i_tables"
   ]
  },
  {
   "cell_type": "code",
   "execution_count": 4,
   "metadata": {
    "collapsed": true
   },
   "outputs": [],
   "source": [
    "def checking(x):\n",
    "    if 'default' in x or 'past_run' in x:\n",
    "        return False\n",
    "    else:\n",
    "        return True"
   ]
  },
  {
   "cell_type": "code",
   "execution_count": 5,
   "metadata": {
    "collapsed": true,
    "scrolled": true
   },
   "outputs": [],
   "source": [
    "final_tables = [x for x in i_tables if checking(x)]"
   ]
  },
  {
   "cell_type": "code",
   "execution_count": 8,
   "metadata": {
    "scrolled": true
   },
   "outputs": [
    {
     "name": "stderr",
     "output_type": "stream",
     "text": [
      "2017-08-30 14:01:29,566 - simulation - INFO - Reading mysql table i_container_capacity\n",
      "2017-08-30 14:01:29,597 - simulation - INFO - pkl write table i_container_capacity succeed!\n",
      "2017-08-30 14:01:29,598 - simulation - INFO - Reading mysql table i_dest_cutoff_time\n",
      "2017-08-30 14:01:29,621 - simulation - INFO - pkl write table i_dest_cutoff_time succeed!\n",
      "2017-08-30 14:01:29,624 - simulation - INFO - Reading mysql table i_equipment_io\n",
      "2017-08-30 14:01:30,938 - simulation - INFO - pkl write table i_equipment_io succeed!\n",
      "2017-08-30 14:01:30,940 - simulation - INFO - Reading mysql table i_equipment_parameter\n",
      "2017-08-30 14:01:30,973 - simulation - INFO - pkl write table i_equipment_parameter succeed!\n",
      "2017-08-30 14:01:30,974 - simulation - INFO - Reading mysql table i_equipment_resource\n",
      "2017-08-30 14:01:31,006 - simulation - INFO - pkl write table i_equipment_resource succeed!\n",
      "2017-08-30 14:01:31,008 - simulation - INFO - Reading mysql table i_od_parcel_airside\n",
      "2017-08-30 14:01:31,886 - simulation - INFO - pkl write table i_od_parcel_airside succeed!\n",
      "2017-08-30 14:01:31,888 - simulation - INFO - Reading mysql table i_od_parcel_airside_day\n",
      "2017-08-30 14:01:32,754 - simulation - INFO - pkl write table i_od_parcel_airside_day succeed!\n",
      "2017-08-30 14:01:32,755 - simulation - INFO - Reading mysql table i_od_parcel_airside_day_bak\n",
      "2017-08-30 14:01:41,060 - simulation - INFO - pkl write table i_od_parcel_airside_day_bak succeed!\n",
      "2017-08-30 14:01:41,062 - simulation - INFO - Reading mysql table i_od_parcel_landside\n",
      "2017-08-30 14:01:53,751 - simulation - INFO - pkl write table i_od_parcel_landside succeed!\n",
      "2017-08-30 14:01:53,752 - simulation - INFO - Reading mysql table i_od_parcel_landside_day\n",
      "2017-08-30 14:02:06,462 - simulation - INFO - pkl write table i_od_parcel_landside_day succeed!\n",
      "2017-08-30 14:02:06,464 - simulation - INFO - Reading mysql table i_od_parcel_landside_day_bak\n",
      "2017-08-30 14:02:26,236 - simulation - INFO - pkl write table i_od_parcel_landside_day_bak succeed!\n",
      "2017-08-30 14:02:26,239 - simulation - INFO - Reading mysql table i_od_small_airside\n",
      "2017-08-30 14:02:27,137 - simulation - INFO - pkl write table i_od_small_airside succeed!\n",
      "2017-08-30 14:02:27,139 - simulation - INFO - Reading mysql table i_od_small_airside_day\n",
      "2017-08-30 14:02:28,045 - simulation - INFO - pkl write table i_od_small_airside_day succeed!\n",
      "2017-08-30 14:02:28,047 - simulation - INFO - Reading mysql table i_od_small_airside_day_bak\n",
      "2017-08-30 14:02:37,104 - simulation - INFO - pkl write table i_od_small_airside_day_bak succeed!\n",
      "2017-08-30 14:02:37,105 - simulation - INFO - Reading mysql table i_od_small_landside\n",
      "2017-08-30 14:02:45,238 - simulation - INFO - pkl write table i_od_small_landside succeed!\n",
      "2017-08-30 14:02:45,240 - simulation - INFO - Reading mysql table i_od_small_landside_day\n",
      "2017-08-30 14:02:53,361 - simulation - INFO - pkl write table i_od_small_landside_day succeed!\n",
      "2017-08-30 14:02:53,363 - simulation - INFO - Reading mysql table i_od_small_landside_day_bak\n",
      "2017-08-30 14:03:05,020 - simulation - INFO - pkl write table i_od_small_landside_day_bak succeed!\n",
      "2017-08-30 14:03:05,021 - simulation - INFO - Reading mysql table i_queue_io\n",
      "2017-08-30 14:03:06,692 - simulation - INFO - pkl write table i_queue_io succeed!\n",
      "2017-08-30 14:03:06,693 - simulation - INFO - Reading mysql table i_reload_setting\n",
      "2017-08-30 14:03:21,831 - simulation - INFO - pkl write table i_reload_setting succeed!\n",
      "2017-08-30 14:03:21,832 - simulation - INFO - Reading mysql table i_resource_limit\n",
      "2017-08-30 14:03:22,045 - simulation - INFO - pkl write table i_resource_limit succeed!\n",
      "2017-08-30 14:03:22,047 - simulation - INFO - Reading mysql table i_unload_setting\n",
      "2017-08-30 14:03:22,075 - simulation - INFO - pkl write table i_unload_setting succeed!\n"
     ]
    }
   ],
   "source": [
    "data_dict = dict()\n",
    "for table in final_tables:\n",
    "    data_dict[table] = load_from_mysql(table)"
   ]
  },
  {
   "cell_type": "code",
   "execution_count": 9,
   "metadata": {},
   "outputs": [
    {
     "name": "stderr",
     "output_type": "stream",
     "text": [
      "2017-08-30 14:03:59,363 - simulation - INFO - Reading local table i_equipment_io\n"
     ]
    },
    {
     "data": {
      "text/plain": [
       "(14800, 9)"
      ]
     },
     "execution_count": 9,
     "metadata": {},
     "output_type": "execute_result"
    }
   ],
   "source": [
    "load_from_mysql('i_equipment_io').shape"
   ]
  }
 ],
 "metadata": {
  "kernelspec": {
   "display_name": "Python 3",
   "language": "python",
   "name": "python3"
  },
  "language_info": {
   "codemirror_mode": {
    "name": "ipython",
    "version": 3
   },
   "file_extension": ".py",
   "mimetype": "text/x-python",
   "name": "python",
   "nbconvert_exporter": "python",
   "pygments_lexer": "ipython3",
   "version": "3.6.1"
  }
 },
 "nbformat": 4,
 "nbformat_minor": 2
}
