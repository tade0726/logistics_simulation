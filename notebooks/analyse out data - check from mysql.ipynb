{
 "cells": [
  {
   "cell_type": "code",
   "execution_count": null,
   "metadata": {},
   "outputs": [
    {
     "name": "stderr",
     "output_type": "stream",
     "text": [
      "2017-09-08 10:20:00,088 - sim - INFO - Reading mysql table i_reload_setting\n"
     ]
    }
   ],
   "source": [
    "import sys\n",
    "sys.path.append(\"..\")\n",
    "\n",
    "import os\n",
    "from os.path import join, splitext\n",
    "\n",
    "import pandas as pd\n",
    "from sim.db import *\n",
    "from sim.config import *"
   ]
  },
  {
   "cell_type": "code",
   "execution_count": 3,
   "metadata": {},
   "outputs": [
    {
     "name": "stderr",
     "output_type": "stream",
     "text": [
      "2017-09-07 17:41:56,476 - sim - INFO - Reading mysql table o_machine_table\n"
     ]
    }
   ],
   "source": [
    "machine_table = load_last_result_table(table_name='o_machine_table')"
   ]
  },
  {
   "cell_type": "code",
   "execution_count": 17,
   "metadata": {},
   "outputs": [
    {
     "name": "stderr",
     "output_type": "stream",
     "text": [
      "2017-09-07 18:04:11,514 - sim - INFO - Reading mysql table o_path_table\n"
     ]
    }
   ],
   "source": [
    "path_table = load_last_result_table(table_name='o_path_table')"
   ]
  },
  {
   "cell_type": "code",
   "execution_count": 23,
   "metadata": {
    "collapsed": true,
    "scrolled": true
   },
   "outputs": [],
   "source": [
    "table_names = RemoteMySQLConfig.engine.table_names()"
   ]
  },
  {
   "cell_type": "code",
   "execution_count": 4,
   "metadata": {},
   "outputs": [
    {
     "name": "stdout",
     "output_type": "stream",
     "text": [
      "<class 'pandas.core.frame.DataFrame'>\n",
      "RangeIndex: 3217189 entries, 0 to 3217188\n",
      "Data columns (total 8 columns):\n",
      "equipment_id       object\n",
      "parcel_id          object\n",
      "small_id           object\n",
      "parcel_type        object\n",
      "time_stamp         float64\n",
      "action             object\n",
      "real_time_stamp    datetime64[ns]\n",
      "run_time           datetime64[ns]\n",
      "dtypes: datetime64[ns](2), float64(1), object(5)\n",
      "memory usage: 196.4+ MB\n"
     ]
    }
   ],
   "source": [
    "machine_table.info()"
   ]
  },
  {
   "cell_type": "code",
   "execution_count": 16,
   "metadata": {},
   "outputs": [
    {
     "name": "stdout",
     "output_type": "stream",
     "text": [
      "105023 151107\n"
     ]
    }
   ],
   "source": [
    "u_parcel_id = len(machine_table.parcel_id.unique())\n",
    "u_small_id = len(machine_table.small_id.unique())\n",
    "\n",
    "print(u_parcel_id, u_small_id)"
   ]
  },
  {
   "cell_type": "code",
   "execution_count": 26,
   "metadata": {
    "collapsed": true
   },
   "outputs": [],
   "source": [
    "ind_j = machine_table.equipment_id.str.startswith('j')\n",
    "ind_m = machine_table.equipment_id.str.startswith('m')\n",
    "\n",
    "ind_start = machine_table.action == 'start'\n",
    "\n",
    "j_table = machine_table[ind_j & ind_start]"
   ]
  },
  {
   "cell_type": "code",
   "execution_count": 27,
   "metadata": {
    "collapsed": true
   },
   "outputs": [],
   "source": [
    "m_table = machine_table[ind_m & ind_start]"
   ]
  },
  {
   "cell_type": "code",
   "execution_count": 14,
   "metadata": {
    "scrolled": true
   },
   "outputs": [
    {
     "data": {
      "text/plain": [
       "equipment_id\n",
       "j10_1    2050\n",
       "j11_1    2283\n",
       "j13_1    2283\n",
       "j15_1    2283\n",
       "j16_1    2048\n",
       "j17_1    2282\n",
       "j19_1    2282\n",
       "j1_1     2575\n",
       "j21_1    2046\n",
       "j22_1    2045\n",
       "j23_1    1491\n",
       "j24_1    1490\n",
       "j28_1    2574\n",
       "j2_1     2574\n",
       "j33_1    4259\n",
       "j34_1    4258\n",
       "j37_1    2573\n",
       "j38_1    4257\n",
       "j41_1    2492\n",
       "j9_1     2282\n",
       "Name: parcel_id, dtype: int64"
      ]
     },
     "execution_count": 14,
     "metadata": {},
     "output_type": "execute_result"
    }
   ],
   "source": [
    "j_table.groupby('equipment_id')['parcel_id'].apply(set).apply(len)"
   ]
  },
  {
   "cell_type": "code",
   "execution_count": 28,
   "metadata": {},
   "outputs": [
    {
     "data": {
      "text/plain": [
       "equipment_id\n",
       "m1_2      5150\n",
       "m1_3      4629\n",
       "m1_4       652\n",
       "m2_1      8440\n",
       "m2_10    13984\n",
       "m2_4       833\n",
       "m2_5      6063\n",
       "m2_6      2151\n",
       "m2_7      7918\n",
       "m2_8     11255\n",
       "m2_9      6631\n",
       "m3_1     11406\n",
       "m3_2      7792\n",
       "m4_1       581\n",
       "m4_3       565\n",
       "m4_4       568\n",
       "m4_5       577\n",
       "m4_6      1158\n",
       "m4_7      2026\n",
       "m4_8       571\n",
       "Name: parcel_id, dtype: int64"
      ]
     },
     "execution_count": 28,
     "metadata": {},
     "output_type": "execute_result"
    }
   ],
   "source": [
    "m_table.groupby('equipment_id')['parcel_id'].apply(set).apply(len)"
   ]
  }
 ],
 "metadata": {
  "kernelspec": {
   "display_name": "Python 3",
   "language": "python",
   "name": "python3"
  },
  "language_info": {
   "codemirror_mode": {
    "name": "ipython",
    "version": 3
   },
   "file_extension": ".py",
   "mimetype": "text/x-python",
   "name": "python",
   "nbconvert_exporter": "python",
   "pygments_lexer": "ipython3",
   "version": "3.6.1"
  }
 },
 "nbformat": 4,
 "nbformat_minor": 2
}
