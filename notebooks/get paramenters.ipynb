{
 "cells": [
  {
   "cell_type": "code",
   "execution_count": 2,
   "metadata": {
    "collapsed": true
   },
   "outputs": [],
   "source": [
    "import sys\n",
    "import pandas as pd\n",
    "\n",
    "sys.path.append('..')\n",
    "from src.db import *"
   ]
  },
  {
   "cell_type": "markdown",
   "metadata": {},
   "source": [
    "test"
   ]
  },
  {
   "cell_type": "code",
   "execution_count": 3,
   "metadata": {},
   "outputs": [
    {
     "name": "stderr",
     "output_type": "stream",
     "text": [
      "/opt/miniconda3/envs/simpy_py36/lib/python3.6/site-packages/pymysql/cursors.py:166: Warning: (1366, \"Incorrect string value: '\\\\xD6\\\\xD0\\\\xB9\\\\xFA\\\\xB1\\\\xEA...' for column 'VARIABLE_VALUE' at row 496\")\n",
      "  result = self._query(query)\n"
     ]
    }
   ],
   "source": [
    "table = load_from_mysql(\"i_queue_io\")"
   ]
  },
  {
   "cell_type": "code",
   "execution_count": 6,
   "metadata": {},
   "outputs": [
    {
     "data": {
      "text/html": [
       "<div>\n",
       "<style>\n",
       "    .dataframe thead tr:only-child th {\n",
       "        text-align: right;\n",
       "    }\n",
       "\n",
       "    .dataframe thead th {\n",
       "        text-align: left;\n",
       "    }\n",
       "\n",
       "    .dataframe tbody tr th {\n",
       "        vertical-align: top;\n",
       "    }\n",
       "</style>\n",
       "<table border=\"1\" class=\"dataframe\">\n",
       "  <thead>\n",
       "    <tr style=\"text-align: right;\">\n",
       "      <th></th>\n",
       "      <th>equipment_port_last</th>\n",
       "      <th>equipment_port_next</th>\n",
       "      <th>equipment_type</th>\n",
       "      <th>queue_id</th>\n",
       "      <th>process_time</th>\n",
       "      <th>allocate_rule</th>\n",
       "      <th>parcel_type</th>\n",
       "      <th>sorter_zone</th>\n",
       "      <th>dest_type</th>\n",
       "      <th>inserted_on</th>\n",
       "      <th>modified_on</th>\n",
       "    </tr>\n",
       "  </thead>\n",
       "  <tbody>\n",
       "    <tr>\n",
       "      <th>17384</th>\n",
       "      <td>i17_1</td>\n",
       "      <td>e3_1</td>\n",
       "      <td>e</td>\n",
       "      <td>i17_e3</td>\n",
       "      <td>731.0</td>\n",
       "      <td>None</td>\n",
       "      <td>Parcel</td>\n",
       "      <td>AS1</td>\n",
       "      <td>None</td>\n",
       "      <td>NaT</td>\n",
       "      <td>NaT</td>\n",
       "    </tr>\n",
       "    <tr>\n",
       "      <th>17471</th>\n",
       "      <td>i17_2</td>\n",
       "      <td>e3_1</td>\n",
       "      <td>e</td>\n",
       "      <td>i17_e3</td>\n",
       "      <td>731.0</td>\n",
       "      <td>None</td>\n",
       "      <td>Parcel</td>\n",
       "      <td>AS1</td>\n",
       "      <td>None</td>\n",
       "      <td>NaT</td>\n",
       "      <td>NaT</td>\n",
       "    </tr>\n",
       "    <tr>\n",
       "      <th>17558</th>\n",
       "      <td>i17_3</td>\n",
       "      <td>e3_1</td>\n",
       "      <td>e</td>\n",
       "      <td>i17_e3</td>\n",
       "      <td>731.0</td>\n",
       "      <td>None</td>\n",
       "      <td>Parcel</td>\n",
       "      <td>AS1</td>\n",
       "      <td>None</td>\n",
       "      <td>NaT</td>\n",
       "      <td>NaT</td>\n",
       "    </tr>\n",
       "    <tr>\n",
       "      <th>17645</th>\n",
       "      <td>i17_4</td>\n",
       "      <td>e3_1</td>\n",
       "      <td>e</td>\n",
       "      <td>i17_e3</td>\n",
       "      <td>731.0</td>\n",
       "      <td>None</td>\n",
       "      <td>Parcel</td>\n",
       "      <td>AS1</td>\n",
       "      <td>None</td>\n",
       "      <td>NaT</td>\n",
       "      <td>NaT</td>\n",
       "    </tr>\n",
       "  </tbody>\n",
       "</table>\n",
       "</div>"
      ],
      "text/plain": [
       "      equipment_port_last equipment_port_next equipment_type queue_id  \\\n",
       "17384               i17_1                e3_1              e   i17_e3   \n",
       "17471               i17_2                e3_1              e   i17_e3   \n",
       "17558               i17_3                e3_1              e   i17_e3   \n",
       "17645               i17_4                e3_1              e   i17_e3   \n",
       "\n",
       "       process_time allocate_rule parcel_type sorter_zone dest_type  \\\n",
       "17384         731.0          None      Parcel         AS1      None   \n",
       "17471         731.0          None      Parcel         AS1      None   \n",
       "17558         731.0          None      Parcel         AS1      None   \n",
       "17645         731.0          None      Parcel         AS1      None   \n",
       "\n",
       "      inserted_on modified_on  \n",
       "17384         NaT         NaT  \n",
       "17471         NaT         NaT  \n",
       "17558         NaT         NaT  \n",
       "17645         NaT         NaT  "
      ]
     },
     "execution_count": 6,
     "metadata": {},
     "output_type": "execute_result"
    }
   ],
   "source": [
    "table[table.equipment_port_next.str.startswith('e3')]"
   ]
  },
  {
   "cell_type": "code",
   "execution_count": 48,
   "metadata": {
    "collapsed": true
   },
   "outputs": [],
   "source": [
    "?pd.DataFrame.to_dict"
   ]
  },
  {
   "cell_type": "code",
   "execution_count": 55,
   "metadata": {
    "collapsed": true
   },
   "outputs": [],
   "source": [
    "# change parameter name\n",
    "table[\"parameter_id\"] = table[\"parameter_id\"].replace(\n",
    "    {'uld_turnaround_time': 'vehicle_turnaround_time',\n",
    "     'truck_turnaround_time': 'vehicle_turnaround_time',})\n",
    "\n",
    "table_dict = \\\n",
    "    table.groupby([\"equipment_id\"])[\"parameter_id\", \"parameter_value\"]\\\n",
    "        .apply(lambda x: x.groupby(\"parameter_id\")[\"parameter_value\"].apply(lambda x: list(x)[0]).to_dict())"
   ]
  },
  {
   "cell_type": "code",
   "execution_count": 56,
   "metadata": {},
   "outputs": [
    {
     "data": {
      "text/plain": [
       "{'prob_of_nc': 0.059999999999999998, 'vehicle_turnaround_time': 90.0}"
      ]
     },
     "execution_count": 56,
     "metadata": {},
     "output_type": "execute_result"
    }
   ],
   "source": [
    "table_dict['r3']"
   ]
  }
 ],
 "metadata": {
  "kernelspec": {
   "display_name": "Python 3",
   "language": "python",
   "name": "python3"
  },
  "language_info": {
   "codemirror_mode": {
    "name": "ipython",
    "version": 3
   },
   "file_extension": ".py",
   "mimetype": "text/x-python",
   "name": "python",
   "nbconvert_exporter": "python",
   "pygments_lexer": "ipython3",
   "version": "3.6.1"
  }
 },
 "nbformat": 4,
 "nbformat_minor": 2
}
