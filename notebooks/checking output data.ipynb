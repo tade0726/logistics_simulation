{
 "cells": [
  {
   "cell_type": "code",
   "execution_count": 23,
   "metadata": {
    "collapsed": false
   },
   "outputs": [],
   "source": [
    "import sys\n",
    "sys.path.append('..')\n",
    "\n",
    "from config import *\n",
    "from src.db.tools import *\n",
    "\n",
    "import pandas as pd\n",
    "import numpy as np"
   ]
  },
  {
   "cell_type": "code",
   "execution_count": 24,
   "metadata": {
    "collapsed": false,
    "scrolled": true
   },
   "outputs": [
    {
     "name": "stdout",
     "output_type": "stream",
     "text": [
      "table names: dict_keys(['machine_table', 'path_table', 'pipeline_table', 'truck_table'])\n"
     ]
    }
   ],
   "source": [
    "data_dict = reading_csv(SaveConfig.OUT_DIR)\n",
    "\n",
    "machine_table = data_dict['machine_table']\n",
    "truck_table = data_dict['truck_table']\n",
    "path_table = data_dict['path_table']\n",
    "\n",
    "print(f\"table names: {data_dict.keys()}\")"
   ]
  },
  {
   "cell_type": "markdown",
   "metadata": {},
   "source": [
    "## checking path"
   ]
  },
  {
   "cell_type": "code",
   "execution_count": 25,
   "metadata": {
    "collapsed": false
   },
   "outputs": [],
   "source": [
    "temp = machine_table.groupby('small_id')['equipment_id'].apply(lambda x: len(x.unique()))"
   ]
  },
  {
   "cell_type": "code",
   "execution_count": 26,
   "metadata": {
    "collapsed": false
   },
   "outputs": [
    {
     "data": {
      "text/plain": [
       "11    1942\n",
       "10    1193\n",
       "12     853\n",
       "7      826\n",
       "13     402\n",
       "1      250\n",
       "9      170\n",
       "14     114\n",
       "5      110\n",
       "6       60\n",
       "4       50\n",
       "15      47\n",
       "8       27\n",
       "16       4\n",
       "Name: equipment_id, dtype: int64"
      ]
     },
     "execution_count": 26,
     "metadata": {},
     "output_type": "execute_result"
    }
   ],
   "source": [
    "temp.value_counts()"
   ]
  },
  {
   "cell_type": "code",
   "execution_count": 27,
   "metadata": {
    "collapsed": false
   },
   "outputs": [
    {
     "data": {
      "text/plain": [
       "6048"
      ]
     },
     "execution_count": 27,
     "metadata": {},
     "output_type": "execute_result"
    }
   ],
   "source": [
    "temp.value_counts().sum()"
   ]
  },
  {
   "cell_type": "markdown",
   "metadata": {},
   "source": [
    "## checking a/r m wait time"
   ]
  },
  {
   "cell_type": "code",
   "execution_count": 28,
   "metadata": {
    "collapsed": false
   },
   "outputs": [],
   "source": [
    "targe_small = machine_table[machine_table.equipment_id.str.contains('m')].small_id.unique()\n",
    "\n",
    "target_table = machine_table[machine_table.small_id.isin(targe_small)]\n",
    "\n",
    "ind_m = target_table.equipment_id.str.startswith('m')\n",
    "ind_a = target_table.equipment_id.str.startswith('a')\n",
    "ind_r = target_table.equipment_id.str.startswith('r')\n",
    "\n",
    "\n",
    "ind_wait = target_table.action == 'wait'\n",
    "ind_end = target_table.action == 'end'\n",
    "ind_start = target_table.action == 'start'\n",
    "\n",
    "arm_table = target_table[(ind_a & ind_end) | (ind_m & ind_start) | (ind_r & ind_end) ]\n",
    "\n",
    "result_diff = \\\n",
    "    arm_table.set_index(['equipment_id', 'small_id', 'action'])['time_stamp'].diff().reset_index()\n",
    "\n",
    "arm_table.set_index(['equipment_id', 'small_id', 'action'])\\\n",
    "    .groupby(level=1)['time_stamp'].apply(lambda x: x.diff()).reset_index()\n",
    "\n",
    "result = result_diff[result_diff.action == 'start']"
   ]
  },
  {
   "cell_type": "code",
   "execution_count": 29,
   "metadata": {
    "collapsed": false
   },
   "outputs": [
    {
     "data": {
      "text/plain": [
       "count    5798.000000\n",
       "mean      563.346119\n",
       "std      1417.851243\n",
       "min        12.980000\n",
       "25%        14.310000\n",
       "50%        14.310000\n",
       "75%        57.910000\n",
       "max      7254.780000\n",
       "Name: time_stamp, dtype: float64"
      ]
     },
     "execution_count": 29,
     "metadata": {},
     "output_type": "execute_result"
    }
   ],
   "source": [
    "result.time_stamp.replace(0, np.nan).describe()"
   ]
  },
  {
   "cell_type": "code",
   "execution_count": 30,
   "metadata": {
    "collapsed": false
   },
   "outputs": [
    {
     "data": {
      "text/plain": [
       "<matplotlib.axes._subplots.AxesSubplot at 0x112856da0>"
      ]
     },
     "execution_count": 30,
     "metadata": {},
     "output_type": "execute_result"
    },
    {
     "data": {
      "image/png": "[encoded data removed]",
      "text/plain": [
       "<matplotlib.figure.Figure at 0x114880e80>"
      ]
     },
     "metadata": {},
     "output_type": "display_data"
    }
   ],
   "source": [
    "%matplotlib inline\n",
    "result.time_stamp.plot(kind='hist')"
   ]
  },
  {
   "cell_type": "code",
   "execution_count": 31,
   "metadata": {
    "collapsed": false
   },
   "outputs": [
    {
     "data": {
      "text/html": [
       "<div>\n",
       "<table border=\"1\" class=\"dataframe\">\n",
       "  <thead>\n",
       "    <tr style=\"text-align: right;\">\n",
       "      <th></th>\n",
       "      <th>equipment_id</th>\n",
       "      <th>small_id</th>\n",
       "      <th>action</th>\n",
       "      <th>time_stamp</th>\n",
       "    </tr>\n",
       "  </thead>\n",
       "  <tbody>\n",
       "    <tr>\n",
       "      <th>31</th>\n",
       "      <td>m2_9</td>\n",
       "      <td>254445</td>\n",
       "      <td>start</td>\n",
       "      <td>5598.78</td>\n",
       "    </tr>\n",
       "    <tr>\n",
       "      <th>39</th>\n",
       "      <td>m2_5</td>\n",
       "      <td>74814</td>\n",
       "      <td>start</td>\n",
       "      <td>6986.78</td>\n",
       "    </tr>\n",
       "    <tr>\n",
       "      <th>57</th>\n",
       "      <td>m2_3</td>\n",
       "      <td>92960</td>\n",
       "      <td>start</td>\n",
       "      <td>7232.74</td>\n",
       "    </tr>\n",
       "    <tr>\n",
       "      <th>67</th>\n",
       "      <td>m2_5</td>\n",
       "      <td>129036</td>\n",
       "      <td>start</td>\n",
       "      <td>3093.65</td>\n",
       "    </tr>\n",
       "    <tr>\n",
       "      <th>75</th>\n",
       "      <td>m2_9</td>\n",
       "      <td>274021</td>\n",
       "      <td>start</td>\n",
       "      <td>555.65</td>\n",
       "    </tr>\n",
       "    <tr>\n",
       "      <th>95</th>\n",
       "      <td>m3_1</td>\n",
       "      <td>141996</td>\n",
       "      <td>start</td>\n",
       "      <td>4627.52</td>\n",
       "    </tr>\n",
       "    <tr>\n",
       "      <th>103</th>\n",
       "      <td>m3_2</td>\n",
       "      <td>286657</td>\n",
       "      <td>start</td>\n",
       "      <td>697.78</td>\n",
       "    </tr>\n",
       "    <tr>\n",
       "      <th>105</th>\n",
       "      <td>m2_10</td>\n",
       "      <td>20128</td>\n",
       "      <td>start</td>\n",
       "      <td>2312.65</td>\n",
       "    </tr>\n",
       "    <tr>\n",
       "      <th>123</th>\n",
       "      <td>m3_1</td>\n",
       "      <td>22873</td>\n",
       "      <td>start</td>\n",
       "      <td>4627.65</td>\n",
       "    </tr>\n",
       "    <tr>\n",
       "      <th>127</th>\n",
       "      <td>m3_2</td>\n",
       "      <td>33856</td>\n",
       "      <td>start</td>\n",
       "      <td>1722.39</td>\n",
       "    </tr>\n",
       "    <tr>\n",
       "      <th>141</th>\n",
       "      <td>m2_10</td>\n",
       "      <td>83366</td>\n",
       "      <td>start</td>\n",
       "      <td>4776.13</td>\n",
       "    </tr>\n",
       "    <tr>\n",
       "      <th>151</th>\n",
       "      <td>m2_5</td>\n",
       "      <td>75146</td>\n",
       "      <td>start</td>\n",
       "      <td>3147.52</td>\n",
       "    </tr>\n",
       "    <tr>\n",
       "      <th>157</th>\n",
       "      <td>m3_1</td>\n",
       "      <td>260569</td>\n",
       "      <td>start</td>\n",
       "      <td>824.65</td>\n",
       "    </tr>\n",
       "    <tr>\n",
       "      <th>165</th>\n",
       "      <td>m2_4</td>\n",
       "      <td>135360</td>\n",
       "      <td>start</td>\n",
       "      <td>582.78</td>\n",
       "    </tr>\n",
       "    <tr>\n",
       "      <th>167</th>\n",
       "      <td>m2_10</td>\n",
       "      <td>117504</td>\n",
       "      <td>start</td>\n",
       "      <td>4776.26</td>\n",
       "    </tr>\n",
       "    <tr>\n",
       "      <th>173</th>\n",
       "      <td>m3_2</td>\n",
       "      <td>98077</td>\n",
       "      <td>start</td>\n",
       "      <td>1704.52</td>\n",
       "    </tr>\n",
       "    <tr>\n",
       "      <th>177</th>\n",
       "      <td>m2_3</td>\n",
       "      <td>33233</td>\n",
       "      <td>start</td>\n",
       "      <td>540.78</td>\n",
       "    </tr>\n",
       "    <tr>\n",
       "      <th>179</th>\n",
       "      <td>m2_9</td>\n",
       "      <td>109330</td>\n",
       "      <td>start</td>\n",
       "      <td>2087.78</td>\n",
       "    </tr>\n",
       "    <tr>\n",
       "      <th>185</th>\n",
       "      <td>m2_5</td>\n",
       "      <td>178398</td>\n",
       "      <td>start</td>\n",
       "      <td>3147.65</td>\n",
       "    </tr>\n",
       "    <tr>\n",
       "      <th>187</th>\n",
       "      <td>m2_3</td>\n",
       "      <td>208288</td>\n",
       "      <td>start</td>\n",
       "      <td>7254.65</td>\n",
       "    </tr>\n",
       "    <tr>\n",
       "      <th>189</th>\n",
       "      <td>m2_10</td>\n",
       "      <td>251142</td>\n",
       "      <td>start</td>\n",
       "      <td>2312.65</td>\n",
       "    </tr>\n",
       "    <tr>\n",
       "      <th>197</th>\n",
       "      <td>m2_5</td>\n",
       "      <td>197806</td>\n",
       "      <td>start</td>\n",
       "      <td>3150.52</td>\n",
       "    </tr>\n",
       "    <tr>\n",
       "      <th>243</th>\n",
       "      <td>m2_7</td>\n",
       "      <td>285229</td>\n",
       "      <td>start</td>\n",
       "      <td>3007.78</td>\n",
       "    </tr>\n",
       "    <tr>\n",
       "      <th>249</th>\n",
       "      <td>m2_5</td>\n",
       "      <td>36373</td>\n",
       "      <td>start</td>\n",
       "      <td>3096.78</td>\n",
       "    </tr>\n",
       "    <tr>\n",
       "      <th>263</th>\n",
       "      <td>m2_3</td>\n",
       "      <td>71302</td>\n",
       "      <td>start</td>\n",
       "      <td>7235.74</td>\n",
       "    </tr>\n",
       "    <tr>\n",
       "      <th>265</th>\n",
       "      <td>m1_4</td>\n",
       "      <td>156342</td>\n",
       "      <td>start</td>\n",
       "      <td>1573.58</td>\n",
       "    </tr>\n",
       "    <tr>\n",
       "      <th>271</th>\n",
       "      <td>m1_3</td>\n",
       "      <td>155637</td>\n",
       "      <td>start</td>\n",
       "      <td>2905.01</td>\n",
       "    </tr>\n",
       "    <tr>\n",
       "      <th>309</th>\n",
       "      <td>m2_5</td>\n",
       "      <td>164473</td>\n",
       "      <td>start</td>\n",
       "      <td>6430.13</td>\n",
       "    </tr>\n",
       "    <tr>\n",
       "      <th>333</th>\n",
       "      <td>m2_5</td>\n",
       "      <td>269075</td>\n",
       "      <td>start</td>\n",
       "      <td>6433.13</td>\n",
       "    </tr>\n",
       "    <tr>\n",
       "      <th>393</th>\n",
       "      <td>m1_3</td>\n",
       "      <td>155422</td>\n",
       "      <td>start</td>\n",
       "      <td>7232.33</td>\n",
       "    </tr>\n",
       "    <tr>\n",
       "      <th>...</th>\n",
       "      <td>...</td>\n",
       "      <td>...</td>\n",
       "      <td>...</td>\n",
       "      <td>...</td>\n",
       "    </tr>\n",
       "    <tr>\n",
       "      <th>11253</th>\n",
       "      <td>m1_2</td>\n",
       "      <td>670874</td>\n",
       "      <td>start</td>\n",
       "      <td>7240.58</td>\n",
       "    </tr>\n",
       "    <tr>\n",
       "      <th>11255</th>\n",
       "      <td>m1_2</td>\n",
       "      <td>704381</td>\n",
       "      <td>start</td>\n",
       "      <td>7240.58</td>\n",
       "    </tr>\n",
       "    <tr>\n",
       "      <th>11257</th>\n",
       "      <td>m1_2</td>\n",
       "      <td>716590</td>\n",
       "      <td>start</td>\n",
       "      <td>7240.58</td>\n",
       "    </tr>\n",
       "    <tr>\n",
       "      <th>11259</th>\n",
       "      <td>m1_2</td>\n",
       "      <td>718908</td>\n",
       "      <td>start</td>\n",
       "      <td>7240.58</td>\n",
       "    </tr>\n",
       "    <tr>\n",
       "      <th>11261</th>\n",
       "      <td>m1_2</td>\n",
       "      <td>721662</td>\n",
       "      <td>start</td>\n",
       "      <td>7240.58</td>\n",
       "    </tr>\n",
       "    <tr>\n",
       "      <th>11263</th>\n",
       "      <td>m2_5</td>\n",
       "      <td>658587</td>\n",
       "      <td>start</td>\n",
       "      <td>6427.65</td>\n",
       "    </tr>\n",
       "    <tr>\n",
       "      <th>11265</th>\n",
       "      <td>m2_5</td>\n",
       "      <td>671768</td>\n",
       "      <td>start</td>\n",
       "      <td>6427.65</td>\n",
       "    </tr>\n",
       "    <tr>\n",
       "      <th>11537</th>\n",
       "      <td>m2_5</td>\n",
       "      <td>659383</td>\n",
       "      <td>start</td>\n",
       "      <td>6430.65</td>\n",
       "    </tr>\n",
       "    <tr>\n",
       "      <th>11539</th>\n",
       "      <td>m2_5</td>\n",
       "      <td>659384</td>\n",
       "      <td>start</td>\n",
       "      <td>6430.65</td>\n",
       "    </tr>\n",
       "    <tr>\n",
       "      <th>11541</th>\n",
       "      <td>m2_5</td>\n",
       "      <td>659385</td>\n",
       "      <td>start</td>\n",
       "      <td>6430.65</td>\n",
       "    </tr>\n",
       "    <tr>\n",
       "      <th>11543</th>\n",
       "      <td>m2_5</td>\n",
       "      <td>660045</td>\n",
       "      <td>start</td>\n",
       "      <td>6430.65</td>\n",
       "    </tr>\n",
       "    <tr>\n",
       "      <th>11545</th>\n",
       "      <td>m2_5</td>\n",
       "      <td>661299</td>\n",
       "      <td>start</td>\n",
       "      <td>6430.65</td>\n",
       "    </tr>\n",
       "    <tr>\n",
       "      <th>11547</th>\n",
       "      <td>m2_5</td>\n",
       "      <td>661796</td>\n",
       "      <td>start</td>\n",
       "      <td>6430.65</td>\n",
       "    </tr>\n",
       "    <tr>\n",
       "      <th>11549</th>\n",
       "      <td>m2_5</td>\n",
       "      <td>662165</td>\n",
       "      <td>start</td>\n",
       "      <td>6430.65</td>\n",
       "    </tr>\n",
       "    <tr>\n",
       "      <th>11551</th>\n",
       "      <td>m2_5</td>\n",
       "      <td>662400</td>\n",
       "      <td>start</td>\n",
       "      <td>6430.65</td>\n",
       "    </tr>\n",
       "    <tr>\n",
       "      <th>11553</th>\n",
       "      <td>m2_5</td>\n",
       "      <td>669226</td>\n",
       "      <td>start</td>\n",
       "      <td>6430.65</td>\n",
       "    </tr>\n",
       "    <tr>\n",
       "      <th>11555</th>\n",
       "      <td>m2_5</td>\n",
       "      <td>673334</td>\n",
       "      <td>start</td>\n",
       "      <td>6430.65</td>\n",
       "    </tr>\n",
       "    <tr>\n",
       "      <th>11557</th>\n",
       "      <td>m2_5</td>\n",
       "      <td>674666</td>\n",
       "      <td>start</td>\n",
       "      <td>6430.65</td>\n",
       "    </tr>\n",
       "    <tr>\n",
       "      <th>11559</th>\n",
       "      <td>m2_5</td>\n",
       "      <td>674873</td>\n",
       "      <td>start</td>\n",
       "      <td>6430.65</td>\n",
       "    </tr>\n",
       "    <tr>\n",
       "      <th>11561</th>\n",
       "      <td>m2_5</td>\n",
       "      <td>677417</td>\n",
       "      <td>start</td>\n",
       "      <td>6430.65</td>\n",
       "    </tr>\n",
       "    <tr>\n",
       "      <th>11563</th>\n",
       "      <td>m2_5</td>\n",
       "      <td>677523</td>\n",
       "      <td>start</td>\n",
       "      <td>6430.65</td>\n",
       "    </tr>\n",
       "    <tr>\n",
       "      <th>11565</th>\n",
       "      <td>m2_5</td>\n",
       "      <td>689766</td>\n",
       "      <td>start</td>\n",
       "      <td>6430.65</td>\n",
       "    </tr>\n",
       "    <tr>\n",
       "      <th>11569</th>\n",
       "      <td>m2_5</td>\n",
       "      <td>718827</td>\n",
       "      <td>start</td>\n",
       "      <td>6430.65</td>\n",
       "    </tr>\n",
       "    <tr>\n",
       "      <th>11571</th>\n",
       "      <td>m2_5</td>\n",
       "      <td>719365</td>\n",
       "      <td>start</td>\n",
       "      <td>6430.65</td>\n",
       "    </tr>\n",
       "    <tr>\n",
       "      <th>11573</th>\n",
       "      <td>m2_5</td>\n",
       "      <td>721467</td>\n",
       "      <td>start</td>\n",
       "      <td>6430.65</td>\n",
       "    </tr>\n",
       "    <tr>\n",
       "      <th>11575</th>\n",
       "      <td>m2_5</td>\n",
       "      <td>723402</td>\n",
       "      <td>start</td>\n",
       "      <td>6430.65</td>\n",
       "    </tr>\n",
       "    <tr>\n",
       "      <th>11577</th>\n",
       "      <td>m2_5</td>\n",
       "      <td>724471</td>\n",
       "      <td>start</td>\n",
       "      <td>6430.65</td>\n",
       "    </tr>\n",
       "    <tr>\n",
       "      <th>11579</th>\n",
       "      <td>m2_5</td>\n",
       "      <td>735162</td>\n",
       "      <td>start</td>\n",
       "      <td>6430.65</td>\n",
       "    </tr>\n",
       "    <tr>\n",
       "      <th>11585</th>\n",
       "      <td>m3_2</td>\n",
       "      <td>700973</td>\n",
       "      <td>start</td>\n",
       "      <td>4209.78</td>\n",
       "    </tr>\n",
       "    <tr>\n",
       "      <th>11587</th>\n",
       "      <td>m3_2</td>\n",
       "      <td>705487</td>\n",
       "      <td>start</td>\n",
       "      <td>4209.78</td>\n",
       "    </tr>\n",
       "  </tbody>\n",
       "</table>\n",
       "<p>1152 rows × 4 columns</p>\n",
       "</div>"
      ],
      "text/plain": [
       "      equipment_id  small_id action  time_stamp\n",
       "31            m2_9    254445  start     5598.78\n",
       "39            m2_5     74814  start     6986.78\n",
       "57            m2_3     92960  start     7232.74\n",
       "67            m2_5    129036  start     3093.65\n",
       "75            m2_9    274021  start      555.65\n",
       "95            m3_1    141996  start     4627.52\n",
       "103           m3_2    286657  start      697.78\n",
       "105          m2_10     20128  start     2312.65\n",
       "123           m3_1     22873  start     4627.65\n",
       "127           m3_2     33856  start     1722.39\n",
       "141          m2_10     83366  start     4776.13\n",
       "151           m2_5     75146  start     3147.52\n",
       "157           m3_1    260569  start      824.65\n",
       "165           m2_4    135360  start      582.78\n",
       "167          m2_10    117504  start     4776.26\n",
       "173           m3_2     98077  start     1704.52\n",
       "177           m2_3     33233  start      540.78\n",
       "179           m2_9    109330  start     2087.78\n",
       "185           m2_5    178398  start     3147.65\n",
       "187           m2_3    208288  start     7254.65\n",
       "189          m2_10    251142  start     2312.65\n",
       "197           m2_5    197806  start     3150.52\n",
       "243           m2_7    285229  start     3007.78\n",
       "249           m2_5     36373  start     3096.78\n",
       "263           m2_3     71302  start     7235.74\n",
       "265           m1_4    156342  start     1573.58\n",
       "271           m1_3    155637  start     2905.01\n",
       "309           m2_5    164473  start     6430.13\n",
       "333           m2_5    269075  start     6433.13\n",
       "393           m1_3    155422  start     7232.33\n",
       "...            ...       ...    ...         ...\n",
       "11253         m1_2    670874  start     7240.58\n",
       "11255         m1_2    704381  start     7240.58\n",
       "11257         m1_2    716590  start     7240.58\n",
       "11259         m1_2    718908  start     7240.58\n",
       "11261         m1_2    721662  start     7240.58\n",
       "11263         m2_5    658587  start     6427.65\n",
       "11265         m2_5    671768  start     6427.65\n",
       "11537         m2_5    659383  start     6430.65\n",
       "11539         m2_5    659384  start     6430.65\n",
       "11541         m2_5    659385  start     6430.65\n",
       "11543         m2_5    660045  start     6430.65\n",
       "11545         m2_5    661299  start     6430.65\n",
       "11547         m2_5    661796  start     6430.65\n",
       "11549         m2_5    662165  start     6430.65\n",
       "11551         m2_5    662400  start     6430.65\n",
       "11553         m2_5    669226  start     6430.65\n",
       "11555         m2_5    673334  start     6430.65\n",
       "11557         m2_5    674666  start     6430.65\n",
       "11559         m2_5    674873  start     6430.65\n",
       "11561         m2_5    677417  start     6430.65\n",
       "11563         m2_5    677523  start     6430.65\n",
       "11565         m2_5    689766  start     6430.65\n",
       "11569         m2_5    718827  start     6430.65\n",
       "11571         m2_5    719365  start     6430.65\n",
       "11573         m2_5    721467  start     6430.65\n",
       "11575         m2_5    723402  start     6430.65\n",
       "11577         m2_5    724471  start     6430.65\n",
       "11579         m2_5    735162  start     6430.65\n",
       "11585         m3_2    700973  start     4209.78\n",
       "11587         m3_2    705487  start     4209.78\n",
       "\n",
       "[1152 rows x 4 columns]"
      ]
     },
     "execution_count": 31,
     "metadata": {},
     "output_type": "execute_result"
    }
   ],
   "source": [
    "result[result.time_stamp > 500]"
   ]
  },
  {
   "cell_type": "code",
   "execution_count": 13,
   "metadata": {
    "collapsed": false
   },
   "outputs": [
    {
     "data": {
      "text/html": [
       "<div>\n",
       "<table border=\"1\" class=\"dataframe\">\n",
       "  <thead>\n",
       "    <tr style=\"text-align: right;\">\n",
       "      <th></th>\n",
       "      <th>equipment_id</th>\n",
       "      <th>parcel_id</th>\n",
       "      <th>small_id</th>\n",
       "      <th>parcel_type</th>\n",
       "      <th>time_stamp</th>\n",
       "      <th>action</th>\n",
       "      <th>real_time_stamp</th>\n",
       "      <th>run_time</th>\n",
       "    </tr>\n",
       "  </thead>\n",
       "  <tbody>\n",
       "    <tr>\n",
       "      <th>280</th>\n",
       "      <td>r3_4</td>\n",
       "      <td>55238</td>\n",
       "      <td>55238</td>\n",
       "      <td>parcel</td>\n",
       "      <td>0.000</td>\n",
       "      <td>wait</td>\n",
       "      <td>2017-07-25 21:00:00.000</td>\n",
       "      <td>2017-08-21 13:23:58.620346</td>\n",
       "    </tr>\n",
       "    <tr>\n",
       "      <th>281</th>\n",
       "      <td>r3_4</td>\n",
       "      <td>55238</td>\n",
       "      <td>55238</td>\n",
       "      <td>parcel</td>\n",
       "      <td>3.130</td>\n",
       "      <td>start</td>\n",
       "      <td>2017-07-25 21:00:03.130</td>\n",
       "      <td>2017-08-21 13:23:58.620346</td>\n",
       "    </tr>\n",
       "    <tr>\n",
       "      <th>282</th>\n",
       "      <td>r3_4</td>\n",
       "      <td>55238</td>\n",
       "      <td>55238</td>\n",
       "      <td>parcel</td>\n",
       "      <td>6.260</td>\n",
       "      <td>end</td>\n",
       "      <td>2017-07-25 21:00:06.260</td>\n",
       "      <td>2017-08-21 13:23:58.620346</td>\n",
       "    </tr>\n",
       "    <tr>\n",
       "      <th>283</th>\n",
       "      <td>m2_3</td>\n",
       "      <td>55238</td>\n",
       "      <td>55238</td>\n",
       "      <td>parcel</td>\n",
       "      <td>7257.910</td>\n",
       "      <td>wait</td>\n",
       "      <td>2017-07-25 23:00:57.910</td>\n",
       "      <td>2017-08-21 13:23:58.620346</td>\n",
       "    </tr>\n",
       "    <tr>\n",
       "      <th>284</th>\n",
       "      <td>m2_3</td>\n",
       "      <td>55238</td>\n",
       "      <td>55238</td>\n",
       "      <td>parcel</td>\n",
       "      <td>7260.910</td>\n",
       "      <td>start</td>\n",
       "      <td>2017-07-25 23:01:00.910</td>\n",
       "      <td>2017-08-21 13:23:58.620346</td>\n",
       "    </tr>\n",
       "    <tr>\n",
       "      <th>285</th>\n",
       "      <td>m2_3</td>\n",
       "      <td>55238</td>\n",
       "      <td>55238</td>\n",
       "      <td>parcel</td>\n",
       "      <td>7263.910</td>\n",
       "      <td>end</td>\n",
       "      <td>2017-07-25 23:01:03.910</td>\n",
       "      <td>2017-08-21 13:23:58.620346</td>\n",
       "    </tr>\n",
       "    <tr>\n",
       "      <th>286</th>\n",
       "      <td>j16_1</td>\n",
       "      <td>55238</td>\n",
       "      <td>55238</td>\n",
       "      <td>parcel</td>\n",
       "      <td>7405.540</td>\n",
       "      <td>wait</td>\n",
       "      <td>2017-07-25 23:03:25.540</td>\n",
       "      <td>2017-08-21 13:23:58.620346</td>\n",
       "    </tr>\n",
       "    <tr>\n",
       "      <th>287</th>\n",
       "      <td>j16_1</td>\n",
       "      <td>55238</td>\n",
       "      <td>55238</td>\n",
       "      <td>parcel</td>\n",
       "      <td>7405.540</td>\n",
       "      <td>start</td>\n",
       "      <td>2017-07-25 23:03:25.540</td>\n",
       "      <td>2017-08-21 13:23:58.620346</td>\n",
       "    </tr>\n",
       "    <tr>\n",
       "      <th>288</th>\n",
       "      <td>j16_1</td>\n",
       "      <td>55238</td>\n",
       "      <td>55238</td>\n",
       "      <td>parcel</td>\n",
       "      <td>7410.305</td>\n",
       "      <td>end</td>\n",
       "      <td>2017-07-25 23:03:30.305</td>\n",
       "      <td>2017-08-21 13:23:58.620346</td>\n",
       "    </tr>\n",
       "    <tr>\n",
       "      <th>289</th>\n",
       "      <td>i19_2</td>\n",
       "      <td>55238</td>\n",
       "      <td>55238</td>\n",
       "      <td>parcel</td>\n",
       "      <td>7526.535</td>\n",
       "      <td>wait</td>\n",
       "      <td>2017-07-25 23:05:26.535</td>\n",
       "      <td>2017-08-21 13:23:58.620346</td>\n",
       "    </tr>\n",
       "    <tr>\n",
       "      <th>290</th>\n",
       "      <td>i19_2</td>\n",
       "      <td>55238</td>\n",
       "      <td>55238</td>\n",
       "      <td>parcel</td>\n",
       "      <td>7526.535</td>\n",
       "      <td>start</td>\n",
       "      <td>2017-07-25 23:05:26.535</td>\n",
       "      <td>2017-08-21 13:23:58.620346</td>\n",
       "    </tr>\n",
       "    <tr>\n",
       "      <th>291</th>\n",
       "      <td>i19_2</td>\n",
       "      <td>55238</td>\n",
       "      <td>55238</td>\n",
       "      <td>parcel</td>\n",
       "      <td>7526.855</td>\n",
       "      <td>end</td>\n",
       "      <td>2017-07-25 23:05:26.855</td>\n",
       "      <td>2017-08-21 13:23:58.620346</td>\n",
       "    </tr>\n",
       "    <tr>\n",
       "      <th>292</th>\n",
       "      <td>i18_2</td>\n",
       "      <td>55238</td>\n",
       "      <td>55238</td>\n",
       "      <td>parcel</td>\n",
       "      <td>7590.545</td>\n",
       "      <td>wait</td>\n",
       "      <td>2017-07-25 23:06:30.545</td>\n",
       "      <td>2017-08-21 13:23:58.620346</td>\n",
       "    </tr>\n",
       "    <tr>\n",
       "      <th>293</th>\n",
       "      <td>i18_2</td>\n",
       "      <td>55238</td>\n",
       "      <td>55238</td>\n",
       "      <td>parcel</td>\n",
       "      <td>7590.545</td>\n",
       "      <td>start</td>\n",
       "      <td>2017-07-25 23:06:30.545</td>\n",
       "      <td>2017-08-21 13:23:58.620346</td>\n",
       "    </tr>\n",
       "    <tr>\n",
       "      <th>294</th>\n",
       "      <td>i18_2</td>\n",
       "      <td>55238</td>\n",
       "      <td>55238</td>\n",
       "      <td>parcel</td>\n",
       "      <td>7590.865</td>\n",
       "      <td>end</td>\n",
       "      <td>2017-07-25 23:06:30.865</td>\n",
       "      <td>2017-08-21 13:23:58.620346</td>\n",
       "    </tr>\n",
       "    <tr>\n",
       "      <th>295</th>\n",
       "      <td>c17_17</td>\n",
       "      <td>55238</td>\n",
       "      <td>55238</td>\n",
       "      <td>parcel</td>\n",
       "      <td>7686.825</td>\n",
       "      <td>wait</td>\n",
       "      <td>2017-07-25 23:08:06.825</td>\n",
       "      <td>2017-08-21 13:23:58.620346</td>\n",
       "    </tr>\n",
       "  </tbody>\n",
       "</table>\n",
       "</div>"
      ],
      "text/plain": [
       "    equipment_id  parcel_id  small_id parcel_type  time_stamp action  \\\n",
       "280         r3_4      55238     55238      parcel       0.000   wait   \n",
       "281         r3_4      55238     55238      parcel       3.130  start   \n",
       "282         r3_4      55238     55238      parcel       6.260    end   \n",
       "283         m2_3      55238     55238      parcel    7257.910   wait   \n",
       "284         m2_3      55238     55238      parcel    7260.910  start   \n",
       "285         m2_3      55238     55238      parcel    7263.910    end   \n",
       "286        j16_1      55238     55238      parcel    7405.540   wait   \n",
       "287        j16_1      55238     55238      parcel    7405.540  start   \n",
       "288        j16_1      55238     55238      parcel    7410.305    end   \n",
       "289        i19_2      55238     55238      parcel    7526.535   wait   \n",
       "290        i19_2      55238     55238      parcel    7526.535  start   \n",
       "291        i19_2      55238     55238      parcel    7526.855    end   \n",
       "292        i18_2      55238     55238      parcel    7590.545   wait   \n",
       "293        i18_2      55238     55238      parcel    7590.545  start   \n",
       "294        i18_2      55238     55238      parcel    7590.865    end   \n",
       "295       c17_17      55238     55238      parcel    7686.825   wait   \n",
       "\n",
       "             real_time_stamp                    run_time  \n",
       "280  2017-07-25 21:00:00.000  2017-08-21 13:23:58.620346  \n",
       "281  2017-07-25 21:00:03.130  2017-08-21 13:23:58.620346  \n",
       "282  2017-07-25 21:00:06.260  2017-08-21 13:23:58.620346  \n",
       "283  2017-07-25 23:00:57.910  2017-08-21 13:23:58.620346  \n",
       "284  2017-07-25 23:01:00.910  2017-08-21 13:23:58.620346  \n",
       "285  2017-07-25 23:01:03.910  2017-08-21 13:23:58.620346  \n",
       "286  2017-07-25 23:03:25.540  2017-08-21 13:23:58.620346  \n",
       "287  2017-07-25 23:03:25.540  2017-08-21 13:23:58.620346  \n",
       "288  2017-07-25 23:03:30.305  2017-08-21 13:23:58.620346  \n",
       "289  2017-07-25 23:05:26.535  2017-08-21 13:23:58.620346  \n",
       "290  2017-07-25 23:05:26.535  2017-08-21 13:23:58.620346  \n",
       "291  2017-07-25 23:05:26.855  2017-08-21 13:23:58.620346  \n",
       "292  2017-07-25 23:06:30.545  2017-08-21 13:23:58.620346  \n",
       "293  2017-07-25 23:06:30.545  2017-08-21 13:23:58.620346  \n",
       "294  2017-07-25 23:06:30.865  2017-08-21 13:23:58.620346  \n",
       "295  2017-07-25 23:08:06.825  2017-08-21 13:23:58.620346  "
      ]
     },
     "execution_count": 13,
     "metadata": {},
     "output_type": "execute_result"
    }
   ],
   "source": [
    "machine_table[machine_table.small_id == 55238]"
   ]
  },
  {
   "cell_type": "markdown",
   "metadata": {},
   "source": [
    "## checking m j wait time"
   ]
  },
  {
   "cell_type": "code",
   "execution_count": 33,
   "metadata": {
    "collapsed": false,
    "scrolled": false
   },
   "outputs": [],
   "source": [
    "targe_small = machine_table[machine_table.equipment_id.str.contains('j')].small_id.unique()\n",
    "\n",
    "target_table = machine_table[machine_table.small_id.isin(targe_small)]\n",
    "\n",
    "ind_m = target_table.equipment_id.str.startswith('m')\n",
    "ind_j = target_table.equipment_id.str.startswith('j')\n",
    "\n",
    "ind_wait = target_table.action == 'wait'\n",
    "ind_end = target_table.action == 'end'\n",
    "ind_start = target_table.action == 'start'\n",
    "\n",
    "mj_table = target_table[(ind_m & ind_end) | (ind_j & ind_start)]\n",
    "\n",
    "result_diff = \\\n",
    "    mj_table.set_index(['equipment_id', 'small_id', 'action'])['time_stamp'].diff().reset_index()\n",
    "\n",
    "mj_table.set_index(['equipment_id', 'small_id', 'action'])\\\n",
    "    .groupby(level=1)['time_stamp'].apply(lambda x: x.diff()).reset_index()\n",
    "\n",
    "result = result_diff[result_diff.action == 'start']"
   ]
  },
  {
   "cell_type": "code",
   "execution_count": 34,
   "metadata": {
    "collapsed": false,
    "scrolled": true
   },
   "outputs": [
    {
     "data": {
      "text/plain": [
       "count    1201.000000\n",
       "mean     6890.700329\n",
       "std      2272.872506\n",
       "min       141.630000\n",
       "25%      6799.770000\n",
       "50%      7700.670000\n",
       "75%      8159.875000\n",
       "max      8709.085000\n",
       "Name: time_stamp, dtype: float64"
      ]
     },
     "execution_count": 34,
     "metadata": {},
     "output_type": "execute_result"
    }
   ],
   "source": [
    "result.time_stamp.replace(0, np.nan).describe()"
   ]
  },
  {
   "cell_type": "code",
   "execution_count": 35,
   "metadata": {
    "collapsed": false,
    "scrolled": true
   },
   "outputs": [
    {
     "data": {
      "text/plain": [
       "<matplotlib.axes._subplots.AxesSubplot at 0x1157530b8>"
      ]
     },
     "execution_count": 35,
     "metadata": {},
     "output_type": "execute_result"
    },
    {
     "data": {
      "image/png": "[encoded data removed]",
      "text/plain": [
       "<matplotlib.figure.Figure at 0x1143c6cf8>"
      ]
     },
     "metadata": {},
     "output_type": "display_data"
    }
   ],
   "source": [
    "%matplotlib inline\n",
    "result.time_stamp.plot(kind='hist')"
   ]
  },
  {
   "cell_type": "code",
   "execution_count": 39,
   "metadata": {
    "collapsed": false
   },
   "outputs": [
    {
     "data": {
      "text/plain": [
       "array(['j21_1', 'j9_1', 'j23_1', 'j15_1', 'j41_1'], dtype=object)"
      ]
     },
     "execution_count": 39,
     "metadata": {},
     "output_type": "execute_result"
    }
   ],
   "source": [
    "result[result.time_stamp > 300].equipment_id.unique()"
   ]
  },
  {
   "cell_type": "code",
   "execution_count": 40,
   "metadata": {
    "collapsed": false
   },
   "outputs": [
    {
     "data": {
      "text/html": [
       "<div>\n",
       "<table border=\"1\" class=\"dataframe\">\n",
       "  <thead>\n",
       "    <tr style=\"text-align: right;\">\n",
       "      <th></th>\n",
       "      <th>equipment_id</th>\n",
       "      <th>parcel_id</th>\n",
       "      <th>small_id</th>\n",
       "      <th>parcel_type</th>\n",
       "      <th>time_stamp</th>\n",
       "      <th>action</th>\n",
       "      <th>real_time_stamp</th>\n",
       "      <th>run_time</th>\n",
       "    </tr>\n",
       "  </thead>\n",
       "  <tbody>\n",
       "  </tbody>\n",
       "</table>\n",
       "</div>"
      ],
      "text/plain": [
       "Empty DataFrame\n",
       "Columns: [equipment_id, parcel_id, small_id, parcel_type, time_stamp, action, real_time_stamp, run_time]\n",
       "Index: []"
      ]
     },
     "execution_count": 40,
     "metadata": {},
     "output_type": "execute_result"
    }
   ],
   "source": [
    "machine_table[machine_table.small_id == 695625]"
   ]
  },
  {
   "cell_type": "markdown",
   "metadata": {},
   "source": [
    "## checking r/a last work time"
   ]
  },
  {
   "cell_type": "code",
   "execution_count": 41,
   "metadata": {
    "collapsed": false
   },
   "outputs": [
    {
     "name": "stderr",
     "output_type": "stream",
     "text": [
      "2017-08-21 13:43:08,312 - simulation - INFO - Reading Redis i_unload_setting\n"
     ]
    }
   ],
   "source": [
    "r_a_table = machine_table[machine_table.equipment_id.str.get(0).isin(['r', 'a'])]\n",
    "\n",
    "r_a_table_last = r_a_table.groupby('equipment_id')['real_time_stamp'].max().reset_index()\n",
    "\n",
    "unload_setting = get_unload_setting()\n",
    "\n",
    "r_a_table_last['real_time_stamp'] = pd.to_datetime(r_a_table_last['real_time_stamp'])\n",
    "\n",
    "r_a_table_last_res = \\\n",
    "    r_a_table_last\\\n",
    "        .groupby([r_a_table_last['equipment_id']\\\n",
    "                  .apply(lambda x: tuple(unload_setting[x])), 'equipment_id'])\\\n",
    "            ['real_time_stamp'].apply(lambda x: list(x)[0])\n",
    "\n",
    "r_a_table_last_res = r_a_table_last_res.rename_axis(['unload_type', 'equipment_id']).reset_index()\n",
    "\n",
    "cols = ['unload_type', 'real_time_stamp']\n",
    "\n",
    "r_a_table_last_res_sort = \\\n",
    "    r_a_table_last_res.sort_values(cols).set_index(['unload_type', 'equipment_id'])"
   ]
  },
  {
   "cell_type": "markdown",
   "metadata": {},
   "source": [
    "## analysis truck"
   ]
  },
  {
   "cell_type": "code",
   "execution_count": null,
   "metadata": {
    "collapsed": false
   },
   "outputs": [],
   "source": [
    "truck_table_end = truck_table[truck_table.action == 'end']\n",
    "\n",
    "truck_table_end_store_count = \\\n",
    "    truck_table_end.groupby(\n",
    "        \n",
    "        [truck_table_end['equipment_id'].apply(lambda x: tuple(unload_setting[x])), 'equipment_id'])\\\n",
    "            ['store_size'].sum()\n",
    "\n",
    "truck_table_end_store_count = \\\n",
    "    truck_table_end_store_count.rename_axis(['unload_type', 'equipment_id']).reset_index()\n",
    "\n",
    "cols = ['unload_type', 'store_size']\n",
    "truck_table_end_store_count_sort = \\\n",
    "    truck_table_end_store_count.sort_values(cols).set_index(['unload_type', 'equipment_id'])\n",
    "\n",
    "truck_unload_table = \\\n",
    "    pd.concat([truck_table_end_store_count_sort, r_a_table_last_res_sort], axis=1)\n",
    "\n",
    "truck_unload_table.reset_index(inplace=True)"
   ]
  },
  {
   "cell_type": "code",
   "execution_count": null,
   "metadata": {
    "collapsed": false,
    "scrolled": true
   },
   "outputs": [],
   "source": [
    "truck_unload_table.sort_values(['unload_type', 'store_size']).set_index(['unload_type', 'equipment_id'])"
   ]
  },
  {
   "cell_type": "markdown",
   "metadata": {},
   "source": [
    "## j table"
   ]
  },
  {
   "cell_type": "markdown",
   "metadata": {},
   "source": [
    "需要过安检的量"
   ]
  },
  {
   "cell_type": "code",
   "execution_count": null,
   "metadata": {
    "collapsed": false
   },
   "outputs": [],
   "source": [
    "truck_table_end[truck_table_end.truck_type == 'LA'].store_size.sum()"
   ]
  },
  {
   "cell_type": "code",
   "execution_count": null,
   "metadata": {
    "collapsed": false
   },
   "outputs": [],
   "source": [
    "j_table = machine_table[machine_table.equipment_id.str.contains('j')]"
   ]
  },
  {
   "cell_type": "code",
   "execution_count": null,
   "metadata": {
    "collapsed": true
   },
   "outputs": [],
   "source": [
    "j41_table = machine_table[machine_table.equipment_id.str.contains('j41')]"
   ]
  },
  {
   "cell_type": "markdown",
   "metadata": {},
   "source": [
    "实际过安检的量"
   ]
  },
  {
   "cell_type": "code",
   "execution_count": null,
   "metadata": {
    "collapsed": false
   },
   "outputs": [],
   "source": [
    "len(j_table.parcel_id.unique())"
   ]
  },
  {
   "cell_type": "markdown",
   "metadata": {},
   "source": [
    "过 j41 安检的量"
   ]
  },
  {
   "cell_type": "code",
   "execution_count": null,
   "metadata": {
    "collapsed": false
   },
   "outputs": [],
   "source": [
    "len(j41_table.parcel_id.unique())"
   ]
  },
  {
   "cell_type": "markdown",
   "metadata": {},
   "source": [
    "每个安检机处理的量"
   ]
  },
  {
   "cell_type": "code",
   "execution_count": null,
   "metadata": {
    "collapsed": true
   },
   "outputs": [],
   "source": [
    "j_process_count = j_table.groupby('equipment_id')['parcel_id'].apply(lambda x: len(set(x)))"
   ]
  },
  {
   "cell_type": "code",
   "execution_count": null,
   "metadata": {
    "collapsed": false,
    "scrolled": true
   },
   "outputs": [],
   "source": [
    "j_process_count"
   ]
  },
  {
   "cell_type": "markdown",
   "metadata": {},
   "source": [
    "# random"
   ]
  },
  {
   "cell_type": "code",
   "execution_count": null,
   "metadata": {
    "collapsed": false,
    "scrolled": false
   },
   "outputs": [],
   "source": [
    "import random\n",
    "\n",
    "small_id_store = machine_table.small_id.unique()"
   ]
  },
  {
   "cell_type": "code",
   "execution_count": null,
   "metadata": {
    "collapsed": true
   },
   "outputs": [],
   "source": [
    "g = machine_table.groupby('small_id')"
   ]
  },
  {
   "cell_type": "code",
   "execution_count": null,
   "metadata": {
    "collapsed": false,
    "scrolled": false
   },
   "outputs": [],
   "source": [
    "small_id = random.choice(small_id_store)\n",
    "g.get_group(small_id)"
   ]
  },
  {
   "cell_type": "markdown",
   "metadata": {},
   "source": [
    "平均处理时间（总路径）"
   ]
  },
  {
   "cell_type": "code",
   "execution_count": null,
   "metadata": {
    "collapsed": true
   },
   "outputs": [],
   "source": [
    "table_diff = g['time_stamp'].apply(lambda x: x.max() - x.min())"
   ]
  },
  {
   "cell_type": "code",
   "execution_count": null,
   "metadata": {
    "collapsed": false
   },
   "outputs": [],
   "source": [
    "table_diff.describe()"
   ]
  },
  {
   "cell_type": "code",
   "execution_count": null,
   "metadata": {
    "collapsed": false,
    "scrolled": true
   },
   "outputs": [],
   "source": [
    "table_diff[table_diff > 30000]"
   ]
  },
  {
   "cell_type": "code",
   "execution_count": null,
   "metadata": {
    "collapsed": false
   },
   "outputs": [],
   "source": [
    "table_diff.plot(kind='hist')"
   ]
  },
  {
   "cell_type": "code",
   "execution_count": null,
   "metadata": {
    "collapsed": false
   },
   "outputs": [],
   "source": [
    "g.get_group(767)"
   ]
  },
  {
   "cell_type": "markdown",
   "metadata": {},
   "source": [
    "## 安检机"
   ]
  },
  {
   "cell_type": "code",
   "execution_count": null,
   "metadata": {
    "collapsed": false,
    "scrolled": true
   },
   "outputs": [],
   "source": [
    "security_dict = get_equipment_store_dict()"
   ]
  },
  {
   "cell_type": "code",
   "execution_count": null,
   "metadata": {
    "collapsed": true
   },
   "outputs": [],
   "source": [
    "from collections import defaultdict"
   ]
  },
  {
   "cell_type": "code",
   "execution_count": null,
   "metadata": {
    "collapsed": true
   },
   "outputs": [],
   "source": [
    "d = defaultdict(list)"
   ]
  },
  {
   "cell_type": "code",
   "execution_count": null,
   "metadata": {
    "collapsed": false,
    "scrolled": false
   },
   "outputs": [],
   "source": [
    "for k,v in security_dict.items():\n",
    "    d[v].append(k)"
   ]
  },
  {
   "cell_type": "code",
   "execution_count": null,
   "metadata": {
    "collapsed": false,
    "scrolled": true
   },
   "outputs": [],
   "source": [
    "d"
   ]
  },
  {
   "cell_type": "code",
   "execution_count": null,
   "metadata": {
    "collapsed": false,
    "scrolled": true
   },
   "outputs": [],
   "source": [
    "get_equipment_process_time()['j15_1']"
   ]
  },
  {
   "cell_type": "code",
   "execution_count": null,
   "metadata": {
    "collapsed": false
   },
   "outputs": [],
   "source": [
    "table_resource_limit = get_resource_limit()"
   ]
  },
  {
   "cell_type": "code",
   "execution_count": null,
   "metadata": {
    "collapsed": false,
    "scrolled": true
   },
   "outputs": [],
   "source": [
    "table_resource_limit[table_resource_limit.resource_id.str.contains('j15_1')]"
   ]
  },
  {
   "cell_type": "markdown",
   "metadata": {},
   "source": [
    "## 检查开关"
   ]
  },
  {
   "cell_type": "code",
   "execution_count": null,
   "metadata": {
    "collapsed": false
   },
   "outputs": [],
   "source": [
    "machine_table[machine_table.equipment_id == 'a1_1']"
   ]
  },
  {
   "cell_type": "code",
   "execution_count": null,
   "metadata": {
    "collapsed": false,
    "scrolled": true
   },
   "outputs": [],
   "source": [
    "sorted(machine_table.equipment_id.unique())"
   ]
  }
 ],
 "metadata": {
  "kernelspec": {
   "display_name": "Python 3",
   "language": "python",
   "name": "python3"
  }
 },
 "nbformat": 4,
 "nbformat_minor": 2
}
