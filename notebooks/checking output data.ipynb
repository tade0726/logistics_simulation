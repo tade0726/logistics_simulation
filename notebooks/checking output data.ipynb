{
 "cells": [
  {
   "cell_type": "code",
   "execution_count": 1,
   "metadata": {
    "collapsed": false
   },
   "outputs": [
    {
     "name": "stderr",
     "output_type": "stream",
     "text": [
      "2017-09-08 00:00:26,614 - sim - INFO - Reading mysql table i_reload_setting\n"
     ]
    }
   ],
   "source": [
    "import sys\n",
    "sys.path.append('..')\n",
    "\n",
    "import os\n",
    "from os.path import join, splitext\n",
    "\n",
    "from config import *\n",
    "from sim.db.tools import *\n",
    "\n",
    "import pandas as pd\n",
    "import numpy as np\n",
    "\n",
    "%matplotlib inline"
   ]
  },
  {
   "cell_type": "raw",
   "metadata": {
    "collapsed": false,
    "scrolled": true
   },
   "source": [
    "table_dict = reading_csv_output()"
   ]
  },
  {
   "cell_type": "code",
   "execution_count": 2,
   "metadata": {
    "collapsed": false
   },
   "outputs": [
    {
     "name": "stderr",
     "output_type": "stream",
     "text": [
      "2017-09-08 00:00:53,347 - sim - INFO - Reading mysql table o_machine_table\n"
     ]
    }
   ],
   "source": [
    "machine_table = load_last_result_table(table_name=\"o_machine_table\")\n",
    "# machine_table = table_dict.get(\"machine_table\")"
   ]
  },
  {
   "cell_type": "code",
   "execution_count": 3,
   "metadata": {
    "collapsed": false,
    "scrolled": true
   },
   "outputs": [
    {
     "name": "stdout",
     "output_type": "stream",
     "text": [
      "<class 'pandas.core.frame.DataFrame'>\n",
      "RangeIndex: 3227635 entries, 0 to 3227634\n",
      "Data columns (total 8 columns):\n",
      "equipment_id       object\n",
      "parcel_id          object\n",
      "small_id           object\n",
      "parcel_type        object\n",
      "time_stamp         float64\n",
      "action             object\n",
      "real_time_stamp    datetime64[ns]\n",
      "run_time           datetime64[ns]\n",
      "dtypes: datetime64[ns](2), float64(1), object(5)\n",
      "memory usage: 197.0+ MB\n"
     ]
    }
   ],
   "source": [
    "machine_table.info()"
   ]
  },
  {
   "cell_type": "code",
   "execution_count": 4,
   "metadata": {
    "collapsed": true
   },
   "outputs": [],
   "source": [
    "machine_table.sort_values(['small_id', 'time_stamp'], inplace=True)"
   ]
  },
  {
   "cell_type": "code",
   "execution_count": 5,
   "metadata": {
    "collapsed": false,
    "scrolled": false
   },
   "outputs": [
    {
     "data": {
      "text/html": [
       "<div>\n",
       "<style>\n",
       "    .dataframe thead tr:only-child th {\n",
       "        text-align: right;\n",
       "    }\n",
       "\n",
       "    .dataframe thead th {\n",
       "        text-align: left;\n",
       "    }\n",
       "\n",
       "    .dataframe tbody tr th {\n",
       "        vertical-align: top;\n",
       "    }\n",
       "</style>\n",
       "<table border=\"1\" class=\"dataframe\">\n",
       "  <thead>\n",
       "    <tr style=\"text-align: right;\">\n",
       "      <th></th>\n",
       "      <th>equipment_id</th>\n",
       "      <th>parcel_id</th>\n",
       "      <th>small_id</th>\n",
       "      <th>parcel_type</th>\n",
       "      <th>time_stamp</th>\n",
       "      <th>action</th>\n",
       "      <th>real_time_stamp</th>\n",
       "      <th>run_time</th>\n",
       "    </tr>\n",
       "  </thead>\n",
       "  <tbody>\n",
       "    <tr>\n",
       "      <th>2975016</th>\n",
       "      <td>a1_4</td>\n",
       "      <td>795320</td>\n",
       "      <td>1006939</td>\n",
       "      <td>small</td>\n",
       "      <td>17605.0</td>\n",
       "      <td>wait</td>\n",
       "      <td>2017-08-16 01:53:25</td>\n",
       "      <td>2017-09-07 23:47:40</td>\n",
       "    </tr>\n",
       "    <tr>\n",
       "      <th>2975034</th>\n",
       "      <td>a1_4</td>\n",
       "      <td>795320</td>\n",
       "      <td>1006939</td>\n",
       "      <td>small</td>\n",
       "      <td>17605.0</td>\n",
       "      <td>start</td>\n",
       "      <td>2017-08-16 01:53:25</td>\n",
       "      <td>2017-09-07 23:47:40</td>\n",
       "    </tr>\n",
       "    <tr>\n",
       "      <th>2975053</th>\n",
       "      <td>a1_4</td>\n",
       "      <td>795320</td>\n",
       "      <td>1006939</td>\n",
       "      <td>small</td>\n",
       "      <td>17605.0</td>\n",
       "      <td>end</td>\n",
       "      <td>2017-08-16 01:53:25</td>\n",
       "      <td>2017-09-07 23:47:40</td>\n",
       "    </tr>\n",
       "    <tr>\n",
       "      <th>2916934</th>\n",
       "      <td>m4_4</td>\n",
       "      <td>795320</td>\n",
       "      <td>1006939</td>\n",
       "      <td>small</td>\n",
       "      <td>17618.0</td>\n",
       "      <td>wait</td>\n",
       "      <td>2017-08-16 01:53:38</td>\n",
       "      <td>2017-09-07 23:47:40</td>\n",
       "    </tr>\n",
       "    <tr>\n",
       "      <th>2916950</th>\n",
       "      <td>m4_4</td>\n",
       "      <td>795320</td>\n",
       "      <td>1006939</td>\n",
       "      <td>small</td>\n",
       "      <td>17618.0</td>\n",
       "      <td>start</td>\n",
       "      <td>2017-08-16 01:53:38</td>\n",
       "      <td>2017-09-07 23:47:40</td>\n",
       "    </tr>\n",
       "    <tr>\n",
       "      <th>2937315</th>\n",
       "      <td>m4_4</td>\n",
       "      <td>795320</td>\n",
       "      <td>1006939</td>\n",
       "      <td>small</td>\n",
       "      <td>17621.0</td>\n",
       "      <td>end</td>\n",
       "      <td>2017-08-16 01:53:41</td>\n",
       "      <td>2017-09-07 23:47:40</td>\n",
       "    </tr>\n",
       "    <tr>\n",
       "      <th>2947086</th>\n",
       "      <td>x6_1</td>\n",
       "      <td>795320</td>\n",
       "      <td>1006939</td>\n",
       "      <td>small</td>\n",
       "      <td>17738.9</td>\n",
       "      <td>wait</td>\n",
       "      <td>2017-08-16 01:55:39</td>\n",
       "      <td>2017-09-07 23:47:40</td>\n",
       "    </tr>\n",
       "    <tr>\n",
       "      <th>2947100</th>\n",
       "      <td>x6_1</td>\n",
       "      <td>795320</td>\n",
       "      <td>1006939</td>\n",
       "      <td>small</td>\n",
       "      <td>17738.9</td>\n",
       "      <td>start</td>\n",
       "      <td>2017-08-16 01:55:39</td>\n",
       "      <td>2017-09-07 23:47:40</td>\n",
       "    </tr>\n",
       "    <tr>\n",
       "      <th>2947114</th>\n",
       "      <td>x6_1</td>\n",
       "      <td>795320</td>\n",
       "      <td>1006939</td>\n",
       "      <td>small</td>\n",
       "      <td>17738.9</td>\n",
       "      <td>end</td>\n",
       "      <td>2017-08-16 01:55:39</td>\n",
       "      <td>2017-09-07 23:47:40</td>\n",
       "    </tr>\n",
       "    <tr>\n",
       "      <th>2985255</th>\n",
       "      <td>u2_2</td>\n",
       "      <td>795320</td>\n",
       "      <td>1006939</td>\n",
       "      <td>small</td>\n",
       "      <td>17770.5</td>\n",
       "      <td>wait</td>\n",
       "      <td>2017-08-16 01:56:11</td>\n",
       "      <td>2017-09-07 23:47:40</td>\n",
       "    </tr>\n",
       "  </tbody>\n",
       "</table>\n",
       "</div>"
      ],
      "text/plain": [
       "        equipment_id parcel_id small_id parcel_type  time_stamp action  \\\n",
       "2975016         a1_4    795320  1006939       small     17605.0   wait   \n",
       "2975034         a1_4    795320  1006939       small     17605.0  start   \n",
       "2975053         a1_4    795320  1006939       small     17605.0    end   \n",
       "2916934         m4_4    795320  1006939       small     17618.0   wait   \n",
       "2916950         m4_4    795320  1006939       small     17618.0  start   \n",
       "2937315         m4_4    795320  1006939       small     17621.0    end   \n",
       "2947086         x6_1    795320  1006939       small     17738.9   wait   \n",
       "2947100         x6_1    795320  1006939       small     17738.9  start   \n",
       "2947114         x6_1    795320  1006939       small     17738.9    end   \n",
       "2985255         u2_2    795320  1006939       small     17770.5   wait   \n",
       "\n",
       "            real_time_stamp            run_time  \n",
       "2975016 2017-08-16 01:53:25 2017-09-07 23:47:40  \n",
       "2975034 2017-08-16 01:53:25 2017-09-07 23:47:40  \n",
       "2975053 2017-08-16 01:53:25 2017-09-07 23:47:40  \n",
       "2916934 2017-08-16 01:53:38 2017-09-07 23:47:40  \n",
       "2916950 2017-08-16 01:53:38 2017-09-07 23:47:40  \n",
       "2937315 2017-08-16 01:53:41 2017-09-07 23:47:40  \n",
       "2947086 2017-08-16 01:55:39 2017-09-07 23:47:40  \n",
       "2947100 2017-08-16 01:55:39 2017-09-07 23:47:40  \n",
       "2947114 2017-08-16 01:55:39 2017-09-07 23:47:40  \n",
       "2985255 2017-08-16 01:56:11 2017-09-07 23:47:40  "
      ]
     },
     "execution_count": 5,
     "metadata": {},
     "output_type": "execute_result"
    }
   ],
   "source": [
    "machine_table.head(10)"
   ]
  },
  {
   "cell_type": "code",
   "execution_count": 6,
   "metadata": {
    "collapsed": false,
    "scrolled": true
   },
   "outputs": [
    {
     "name": "stdout",
     "output_type": "stream",
     "text": [
      "105019 151107\n"
     ]
    }
   ],
   "source": [
    "unique_parcel_id = len(machine_table.parcel_id.unique())\n",
    "unique_small_id = len(machine_table.small_id.unique())\n",
    "# unique_truck_id = len(truck_table.truck_id.unique())\n",
    "\n",
    "print(unique_parcel_id, unique_small_id,)"
   ]
  },
  {
   "cell_type": "code",
   "execution_count": 7,
   "metadata": {
    "collapsed": false
   },
   "outputs": [],
   "source": [
    "# checking j balance~~~~~~\n",
    "\n",
    "ind_j = machine_table.equipment_id.str.startswith('j')\n",
    "ind_start = machine_table.action == 'start'\n",
    "\n",
    "j_table = machine_table[ind_j & ind_start]"
   ]
  },
  {
   "cell_type": "code",
   "execution_count": null,
   "metadata": {
    "collapsed": false
   },
   "outputs": [],
   "source": [
    "table_j38 = machine_table[machine_table.small_id.isin(j_table[j_table.equipment_id == 'j38_1']['small_id'])]"
   ]
  },
  {
   "cell_type": "code",
   "execution_count": null,
   "metadata": {
    "collapsed": false
   },
   "outputs": [],
   "source": [
    "table_j38_m = table_j38[table_j38.equipment_id.str.startswith('m')]"
   ]
  },
  {
   "cell_type": "code",
   "execution_count": null,
   "metadata": {
    "collapsed": false
   },
   "outputs": [],
   "source": [
    "table_j38_m.equipment_id.unique()"
   ]
  },
  {
   "cell_type": "code",
   "execution_count": 8,
   "metadata": {
    "collapsed": false
   },
   "outputs": [],
   "source": [
    "temp_j = j_table.groupby(['equipment_id'])['parcel_id'].unique().apply(len)"
   ]
  },
  {
   "cell_type": "code",
   "execution_count": 9,
   "metadata": {
    "collapsed": false
   },
   "outputs": [
    {
     "data": {
      "text/plain": [
       "equipment_id\n",
       "j10_1    3102\n",
       "j15_1    3102\n",
       "j16_1    3101\n",
       "j1_1     1988\n",
       "j21_1    2660\n",
       "j22_1    2660\n",
       "j23_1    1657\n",
       "j24_1    1657\n",
       "j27_1    1987\n",
       "j28_1    1987\n",
       "j2_1     1987\n",
       "j33_1    3192\n",
       "j34_1    3192\n",
       "j37_1    1987\n",
       "j38_1    3721\n",
       "j41_1    2578\n",
       "j5_1     1987\n",
       "j6_1     1987\n",
       "j7_1     1440\n",
       "j8_1     1440\n",
       "j9_1     3101\n",
       "Name: parcel_id, dtype: int64"
      ]
     },
     "execution_count": 9,
     "metadata": {},
     "output_type": "execute_result"
    }
   ],
   "source": [
    "temp_j"
   ]
  },
  {
   "cell_type": "code",
   "execution_count": 21,
   "metadata": {
    "collapsed": false
   },
   "outputs": [
    {
     "name": "stderr",
     "output_type": "stream",
     "text": [
      "2017-09-08 00:25:26,369 - sim - INFO - Reading mysql table i_equipment_io\n"
     ]
    }
   ],
   "source": [
    "time_table, _ = get_equipment_timetable()"
   ]
  },
  {
   "cell_type": "code",
   "execution_count": 20,
   "metadata": {
    "collapsed": false
   },
   "outputs": [],
   "source": [
    "time_table_j = {k: v for k, v in time_table.items() if k in temp_j.index}"
   ]
  },
  {
   "cell_type": "code",
   "execution_count": 22,
   "metadata": {
    "collapsed": true
   },
   "outputs": [],
   "source": [
    "from IPython.display import display"
   ]
  },
  {
   "cell_type": "code",
   "execution_count": 26,
   "metadata": {
    "collapsed": false
   },
   "outputs": [],
   "source": [
    "temp_j = temp_j.to_frame()"
   ]
  },
  {
   "cell_type": "code",
   "execution_count": 28,
   "metadata": {
    "collapsed": true
   },
   "outputs": [],
   "source": [
    "temp_j = temp_j.reset_index()"
   ]
  },
  {
   "cell_type": "code",
   "execution_count": 29,
   "metadata": {
    "collapsed": false
   },
   "outputs": [],
   "source": [
    "temp_j['time_table'] = temp_j['equipment_id'].apply(lambda x: time_table_j[x])"
   ]
  },
  {
   "cell_type": "code",
   "execution_count": 33,
   "metadata": {
    "collapsed": false
   },
   "outputs": [
    {
     "name": "stderr",
     "output_type": "stream",
     "text": [
      "2017-09-08 08:51:27,464 - sim - INFO - Reading mysql table i_queue_io\n"
     ]
    }
   ],
   "source": [
    "queue_io = load_from_mysql('i_queue_io')\n",
    "\n",
    "j_last_port_counts = queue_io[queue_io.equipment_port_next.str.contains('j')]\\\n",
    "                        .groupby('equipment_port_next')['equipment_port_last'].apply(set).apply(len)"
   ]
  },
  {
   "cell_type": "code",
   "execution_count": 44,
   "metadata": {
    "collapsed": true
   },
   "outputs": [],
   "source": [
    "j_last_port = queue_io[queue_io.equipment_port_next.str.contains('j')]\\\n",
    "                        .groupby('equipment_port_next')['equipment_port_last'].apply(set)"
   ]
  },
  {
   "cell_type": "code",
   "execution_count": 47,
   "metadata": {
    "collapsed": false,
    "scrolled": true
   },
   "outputs": [
    {
     "data": {
      "text/plain": [
       "{'m3_1', 'm3_2'}"
      ]
     },
     "execution_count": 47,
     "metadata": {},
     "output_type": "execute_result"
    }
   ],
   "source": [
    "j_last_port['j38_1'] - j_last_port['j10_1']"
   ]
  },
  {
   "cell_type": "code",
   "execution_count": 39,
   "metadata": {
    "collapsed": false
   },
   "outputs": [],
   "source": [
    "temp_j = temp_j.set_index('equipment_id')"
   ]
  },
  {
   "cell_type": "code",
   "execution_count": 41,
   "metadata": {
    "collapsed": false
   },
   "outputs": [],
   "source": [
    "temp_j['last_port_num'] = j_last_port_counts"
   ]
  },
  {
   "cell_type": "code",
   "execution_count": 43,
   "metadata": {
    "collapsed": false,
    "scrolled": true
   },
   "outputs": [
    {
     "data": {
      "text/html": [
       "<div>\n",
       "<style>\n",
       "    .dataframe thead tr:only-child th {\n",
       "        text-align: right;\n",
       "    }\n",
       "\n",
       "    .dataframe thead th {\n",
       "        text-align: left;\n",
       "    }\n",
       "\n",
       "    .dataframe tbody tr th {\n",
       "        vertical-align: top;\n",
       "    }\n",
       "</style>\n",
       "<table border=\"1\" class=\"dataframe\">\n",
       "  <thead>\n",
       "    <tr style=\"text-align: right;\">\n",
       "      <th></th>\n",
       "      <th>parcel_id</th>\n",
       "      <th>time_table</th>\n",
       "      <th>last_port_num</th>\n",
       "    </tr>\n",
       "    <tr>\n",
       "      <th>equipment_id</th>\n",
       "      <th></th>\n",
       "      <th></th>\n",
       "      <th></th>\n",
       "    </tr>\n",
       "  </thead>\n",
       "  <tbody>\n",
       "    <tr>\n",
       "      <th>j38_1</th>\n",
       "      <td>3721</td>\n",
       "      <td>[(0.0, inf)]</td>\n",
       "      <td>12</td>\n",
       "    </tr>\n",
       "    <tr>\n",
       "      <th>j34_1</th>\n",
       "      <td>3192</td>\n",
       "      <td>[(3600.0, inf)]</td>\n",
       "      <td>12</td>\n",
       "    </tr>\n",
       "    <tr>\n",
       "      <th>j33_1</th>\n",
       "      <td>3192</td>\n",
       "      <td>[(3600.0, inf)]</td>\n",
       "      <td>12</td>\n",
       "    </tr>\n",
       "    <tr>\n",
       "      <th>j10_1</th>\n",
       "      <td>3102</td>\n",
       "      <td>[(0.0, inf)]</td>\n",
       "      <td>10</td>\n",
       "    </tr>\n",
       "    <tr>\n",
       "      <th>j15_1</th>\n",
       "      <td>3102</td>\n",
       "      <td>[(0.0, inf)]</td>\n",
       "      <td>10</td>\n",
       "    </tr>\n",
       "    <tr>\n",
       "      <th>j9_1</th>\n",
       "      <td>3101</td>\n",
       "      <td>[(0.0, inf)]</td>\n",
       "      <td>10</td>\n",
       "    </tr>\n",
       "    <tr>\n",
       "      <th>j16_1</th>\n",
       "      <td>3101</td>\n",
       "      <td>[(0.0, inf)]</td>\n",
       "      <td>10</td>\n",
       "    </tr>\n",
       "    <tr>\n",
       "      <th>j22_1</th>\n",
       "      <td>2660</td>\n",
       "      <td>[(3600.0, inf)]</td>\n",
       "      <td>10</td>\n",
       "    </tr>\n",
       "    <tr>\n",
       "      <th>j21_1</th>\n",
       "      <td>2660</td>\n",
       "      <td>[(3600.0, inf)]</td>\n",
       "      <td>10</td>\n",
       "    </tr>\n",
       "    <tr>\n",
       "      <th>j41_1</th>\n",
       "      <td>2578</td>\n",
       "      <td>[(0.0, inf)]</td>\n",
       "      <td>208</td>\n",
       "    </tr>\n",
       "    <tr>\n",
       "      <th>j1_1</th>\n",
       "      <td>1988</td>\n",
       "      <td>[(7200.0, inf)]</td>\n",
       "      <td>12</td>\n",
       "    </tr>\n",
       "    <tr>\n",
       "      <th>j27_1</th>\n",
       "      <td>1987</td>\n",
       "      <td>[(7200.0, inf)]</td>\n",
       "      <td>12</td>\n",
       "    </tr>\n",
       "    <tr>\n",
       "      <th>j28_1</th>\n",
       "      <td>1987</td>\n",
       "      <td>[(7200.0, inf)]</td>\n",
       "      <td>12</td>\n",
       "    </tr>\n",
       "    <tr>\n",
       "      <th>j37_1</th>\n",
       "      <td>1987</td>\n",
       "      <td>[(7200.0, inf)]</td>\n",
       "      <td>12</td>\n",
       "    </tr>\n",
       "    <tr>\n",
       "      <th>j5_1</th>\n",
       "      <td>1987</td>\n",
       "      <td>[(7200.0, inf)]</td>\n",
       "      <td>12</td>\n",
       "    </tr>\n",
       "    <tr>\n",
       "      <th>j6_1</th>\n",
       "      <td>1987</td>\n",
       "      <td>[(7200.0, inf)]</td>\n",
       "      <td>12</td>\n",
       "    </tr>\n",
       "    <tr>\n",
       "      <th>j2_1</th>\n",
       "      <td>1987</td>\n",
       "      <td>[(7200.0, inf)]</td>\n",
       "      <td>12</td>\n",
       "    </tr>\n",
       "    <tr>\n",
       "      <th>j23_1</th>\n",
       "      <td>1657</td>\n",
       "      <td>[(7200.0, inf)]</td>\n",
       "      <td>10</td>\n",
       "    </tr>\n",
       "    <tr>\n",
       "      <th>j24_1</th>\n",
       "      <td>1657</td>\n",
       "      <td>[(7200.0, inf)]</td>\n",
       "      <td>10</td>\n",
       "    </tr>\n",
       "    <tr>\n",
       "      <th>j7_1</th>\n",
       "      <td>1440</td>\n",
       "      <td>[(10800.0, inf)]</td>\n",
       "      <td>12</td>\n",
       "    </tr>\n",
       "    <tr>\n",
       "      <th>j8_1</th>\n",
       "      <td>1440</td>\n",
       "      <td>[(10800.0, inf)]</td>\n",
       "      <td>12</td>\n",
       "    </tr>\n",
       "  </tbody>\n",
       "</table>\n",
       "</div>"
      ],
      "text/plain": [
       "              parcel_id        time_table  last_port_num\n",
       "equipment_id                                            \n",
       "j38_1              3721      [(0.0, inf)]             12\n",
       "j34_1              3192   [(3600.0, inf)]             12\n",
       "j33_1              3192   [(3600.0, inf)]             12\n",
       "j10_1              3102      [(0.0, inf)]             10\n",
       "j15_1              3102      [(0.0, inf)]             10\n",
       "j9_1               3101      [(0.0, inf)]             10\n",
       "j16_1              3101      [(0.0, inf)]             10\n",
       "j22_1              2660   [(3600.0, inf)]             10\n",
       "j21_1              2660   [(3600.0, inf)]             10\n",
       "j41_1              2578      [(0.0, inf)]            208\n",
       "j1_1               1988   [(7200.0, inf)]             12\n",
       "j27_1              1987   [(7200.0, inf)]             12\n",
       "j28_1              1987   [(7200.0, inf)]             12\n",
       "j37_1              1987   [(7200.0, inf)]             12\n",
       "j5_1               1987   [(7200.0, inf)]             12\n",
       "j6_1               1987   [(7200.0, inf)]             12\n",
       "j2_1               1987   [(7200.0, inf)]             12\n",
       "j23_1              1657   [(7200.0, inf)]             10\n",
       "j24_1              1657   [(7200.0, inf)]             10\n",
       "j7_1               1440  [(10800.0, inf)]             12\n",
       "j8_1               1440  [(10800.0, inf)]             12"
      ]
     },
     "execution_count": 43,
     "metadata": {},
     "output_type": "execute_result"
    }
   ],
   "source": [
    "temp_j.sort_values('parcel_id', ascending=False)"
   ]
  },
  {
   "cell_type": "code",
   "execution_count": 12,
   "metadata": {
    "collapsed": true
   },
   "outputs": [],
   "source": [
    "# checking c wait counts\n",
    "\n",
    "ind_c = machine_table.equipment_id.str.startswith('c')\n",
    "ind_wait = machine_table.action == 'wait'\n",
    "ind_small = machine_table.parcel_type == 'small'"
   ]
  },
  {
   "cell_type": "code",
   "execution_count": null,
   "metadata": {
    "collapsed": false,
    "scrolled": true
   },
   "outputs": [],
   "source": [
    "temp_t = machine_table[ind_c & ind_wait & ind_small]"
   ]
  },
  {
   "cell_type": "code",
   "execution_count": null,
   "metadata": {
    "collapsed": false
   },
   "outputs": [],
   "source": [
    "res = temp_t.groupby('small_id').size()"
   ]
  },
  {
   "cell_type": "code",
   "execution_count": null,
   "metadata": {
    "collapsed": false,
    "scrolled": true
   },
   "outputs": [],
   "source": [
    "res.unique()"
   ]
  },
  {
   "cell_type": "code",
   "execution_count": null,
   "metadata": {
    "collapsed": false
   },
   "outputs": [],
   "source": [
    "# checking equal\n",
    "machine_table[(machine_table.action == 'start') & (machine_table.equipment_id.str.startswith('u'))]\\\n",
    "    .groupby(['equipment_id'])['parcel_id'].apply(lambda x: len(x.unique()))"
   ]
  },
  {
   "cell_type": "code",
   "execution_count": null,
   "metadata": {
    "collapsed": false,
    "scrolled": true
   },
   "outputs": [],
   "source": [
    "# checking \n",
    "machine_table[machine_table.small_id == '1142056'].sort_values('time_stamp')"
   ]
  },
  {
   "cell_type": "markdown",
   "metadata": {},
   "source": [
    "## checking machine process two items"
   ]
  },
  {
   "cell_type": "code",
   "execution_count": null,
   "metadata": {
    "collapsed": false,
    "scrolled": true
   },
   "outputs": [],
   "source": [
    "machine_table[(machine_table.action == 'start') & (machine_table.equipment_id.str.startswith('u'))].groupby(['equipment_id', 'time_stamp'])\\\n",
    "    ['parcel_id'].value_counts().groupby(level=[0, 1,]).count()"
   ]
  },
  {
   "cell_type": "markdown",
   "metadata": {},
   "source": [
    "## checking machine open time"
   ]
  },
  {
   "cell_type": "code",
   "execution_count": null,
   "metadata": {
    "collapsed": true
   },
   "outputs": [],
   "source": [
    "%matplotlib inline"
   ]
  },
  {
   "cell_type": "code",
   "execution_count": null,
   "metadata": {
    "collapsed": false
   },
   "outputs": [],
   "source": [
    "g = machine_table[(machine_table.action == 'start') & (machine_table.equipment_id.str.startswith('u'))]\\\n",
    "    .groupby('equipment_id')['time_stamp']"
   ]
  },
  {
   "cell_type": "code",
   "execution_count": null,
   "metadata": {
    "collapsed": false
   },
   "outputs": [],
   "source": [
    "g.groups.keys()"
   ]
  },
  {
   "cell_type": "code",
   "execution_count": null,
   "metadata": {
    "collapsed": false
   },
   "outputs": [],
   "source": [
    "g.get_group('u6_1').plot('hist')"
   ]
  },
  {
   "cell_type": "markdown",
   "metadata": {},
   "source": [
    "## checking path"
   ]
  },
  {
   "cell_type": "code",
   "execution_count": null,
   "metadata": {
    "collapsed": false
   },
   "outputs": [],
   "source": [
    "temp = machine_table.groupby('small_id')['equipment_id'].apply(lambda x: len(x.unique()))"
   ]
  },
  {
   "cell_type": "code",
   "execution_count": null,
   "metadata": {
    "collapsed": false
   },
   "outputs": [],
   "source": [
    "temp.value_counts()"
   ]
  },
  {
   "cell_type": "code",
   "execution_count": null,
   "metadata": {
    "collapsed": false,
    "scrolled": true
   },
   "outputs": [],
   "source": [
    "ind_2 = temp[temp == 16].index"
   ]
  },
  {
   "cell_type": "code",
   "execution_count": null,
   "metadata": {
    "collapsed": false
   },
   "outputs": [],
   "source": [
    "ind_2"
   ]
  },
  {
   "cell_type": "code",
   "execution_count": null,
   "metadata": {
    "collapsed": false
   },
   "outputs": [],
   "source": [
    "list_of_equipments = machine_table[machine_table.small_id.isin(ind_2)].equipment_id.unique()"
   ]
  },
  {
   "cell_type": "code",
   "execution_count": null,
   "metadata": {
    "collapsed": false,
    "scrolled": false
   },
   "outputs": [],
   "source": [
    "[x for x in list_of_equipments if x[0] == 'm']"
   ]
  },
  {
   "cell_type": "code",
   "execution_count": null,
   "metadata": {
    "collapsed": false
   },
   "outputs": [],
   "source": [
    "machine_table[machine_table.small_id == 676644]"
   ]
  },
  {
   "cell_type": "code",
   "execution_count": null,
   "metadata": {
    "collapsed": false,
    "scrolled": true
   },
   "outputs": [],
   "source": [
    "machine_table[machine_table.small_id.isin(ind_2)]"
   ]
  },
  {
   "cell_type": "code",
   "execution_count": null,
   "metadata": {
    "collapsed": false,
    "scrolled": true
   },
   "outputs": [],
   "source": [
    "machine_table[machine_table.small_id == '1072470']"
   ]
  },
  {
   "cell_type": "markdown",
   "metadata": {},
   "source": [
    "## checking m j wait time"
   ]
  },
  {
   "cell_type": "code",
   "execution_count": null,
   "metadata": {
    "collapsed": false,
    "scrolled": true
   },
   "outputs": [],
   "source": [
    "targe_small = machine_table[machine_table.equipment_id.str.contains('j')].small_id.unique()\n",
    "\n",
    "target_table = machine_table[machine_table.small_id.isin(targe_small)]\n",
    "\n",
    "ind_m = target_table.equipment_id.str.startswith('m')\n",
    "ind_j = target_table.equipment_id.str.startswith('j')\n",
    "\n",
    "ind_wait = target_table.action == 'wait'\n",
    "ind_end = target_table.action == 'end'\n",
    "ind_start = target_table.action == 'start'\n",
    "\n",
    "mj_table = target_table[(ind_m & ind_end) | (ind_j & ind_start)]\n",
    "\n",
    "result_diff = \\\n",
    "    mj_table.set_index(['equipment_id', 'small_id', 'action'])['time_stamp'].diff().reset_index()\n",
    "\n",
    "mj_table.set_index(['equipment_id', 'small_id', 'action'])\\\n",
    "    .groupby(level=1)['time_stamp'].apply(lambda x: x.diff()).reset_index()\n",
    "\n",
    "result = result_diff[result_diff.action == 'start']"
   ]
  },
  {
   "cell_type": "code",
   "execution_count": null,
   "metadata": {
    "collapsed": false
   },
   "outputs": [],
   "source": [
    "result.min()"
   ]
  },
  {
   "cell_type": "code",
   "execution_count": null,
   "metadata": {
    "collapsed": false,
    "scrolled": true
   },
   "outputs": [],
   "source": [
    "result.time_stamp.replace(0, np.nan).describe()"
   ]
  },
  {
   "cell_type": "code",
   "execution_count": null,
   "metadata": {
    "collapsed": false,
    "scrolled": false
   },
   "outputs": [],
   "source": [
    "%matplotlib inline\n",
    "result.time_stamp.plot(kind='hist')"
   ]
  },
  {
   "cell_type": "markdown",
   "metadata": {},
   "source": [
    "## checking r/a last work time"
   ]
  },
  {
   "cell_type": "code",
   "execution_count": null,
   "metadata": {
    "collapsed": false
   },
   "outputs": [],
   "source": [
    "r_a_table = machine_table[machine_table.equipment_id.str.get(0).isin(['r', 'a'])]\n",
    "\n",
    "r_a_table_last = r_a_table.groupby('equipment_id')['real_time_stamp'].max().reset_index()\n",
    "\n",
    "unload_setting = get_unload_setting()\n",
    "\n",
    "r_a_table_last['real_time_stamp'] = pd.to_datetime(r_a_table_last['real_time_stamp'])\n",
    "\n",
    "r_a_table_last_res = \\\n",
    "    r_a_table_last\\\n",
    "        .groupby([r_a_table_last['equipment_id']\\\n",
    "                  .apply(lambda x: tuple(unload_setting[x])), 'equipment_id'])\\\n",
    "            ['real_time_stamp'].apply(lambda x: list(x)[0])\n",
    "\n",
    "r_a_table_last_res = r_a_table_last_res.rename_axis(['unload_type', 'equipment_id']).reset_index()\n",
    "\n",
    "cols = ['unload_type', 'real_time_stamp']\n",
    "\n",
    "r_a_table_last_res_sort = \\\n",
    "    r_a_table_last_res.sort_values(cols).set_index(['unload_type', 'equipment_id'])"
   ]
  },
  {
   "cell_type": "code",
   "execution_count": null,
   "metadata": {
    "collapsed": false
   },
   "outputs": [],
   "source": [
    "r_a_table_last_res_sort"
   ]
  },
  {
   "cell_type": "markdown",
   "metadata": {},
   "source": [
    "## analysis truck"
   ]
  },
  {
   "cell_type": "code",
   "execution_count": null,
   "metadata": {
    "collapsed": false
   },
   "outputs": [],
   "source": [
    "truck_table_end = truck_table[truck_table.action == 'end']\n",
    "\n",
    "truck_table_end_store_count = \\\n",
    "    truck_table_end.groupby(\n",
    "        [truck_table_end['equipment_id'].apply(lambda x: tuple(unload_setting[x])), 'equipment_id'])\\\n",
    "            ['store_size'].sum()\n",
    "\n",
    "truck_table_end_store_count = \\\n",
    "    truck_table_end_store_count.rename_axis(['unload_type', 'equipment_id']).reset_index()\n",
    "\n",
    "cols = ['unload_type', 'store_size']\n",
    "truck_table_end_store_count_sort = \\\n",
    "    truck_table_end_store_count.sort_values(cols).set_index(['unload_type', 'equipment_id'])\n",
    "\n",
    "truck_unload_table = \\\n",
    "    pd.concat([truck_table_end_store_count_sort, r_a_table_last_res_sort], axis=1)\n",
    "\n",
    "truck_unload_table.reset_index(inplace=True)"
   ]
  },
  {
   "cell_type": "code",
   "execution_count": null,
   "metadata": {
    "collapsed": false,
    "scrolled": true
   },
   "outputs": [],
   "source": [
    "truck_unload_table.sort_values(['unload_type', 'store_size']).set_index(['unload_type', 'equipment_id'])"
   ]
  },
  {
   "cell_type": "markdown",
   "metadata": {},
   "source": [
    "## j table"
   ]
  },
  {
   "cell_type": "markdown",
   "metadata": {},
   "source": [
    "需要过安检的量"
   ]
  },
  {
   "cell_type": "code",
   "execution_count": null,
   "metadata": {
    "collapsed": false
   },
   "outputs": [],
   "source": [
    "truck_table_end[truck_table_end.truck_type == 'LA'].store_size.sum()"
   ]
  },
  {
   "cell_type": "code",
   "execution_count": null,
   "metadata": {
    "collapsed": false
   },
   "outputs": [],
   "source": [
    "j_table = machine_table[machine_table.equipment_id.str.contains('j')]"
   ]
  },
  {
   "cell_type": "code",
   "execution_count": null,
   "metadata": {
    "collapsed": true
   },
   "outputs": [],
   "source": [
    "j41_table = machine_table[machine_table.equipment_id.str.contains('j41')]"
   ]
  },
  {
   "cell_type": "markdown",
   "metadata": {},
   "source": [
    "实际过安检的量"
   ]
  },
  {
   "cell_type": "code",
   "execution_count": null,
   "metadata": {
    "collapsed": false
   },
   "outputs": [],
   "source": [
    "len(j_table.parcel_id.unique())"
   ]
  },
  {
   "cell_type": "markdown",
   "metadata": {},
   "source": [
    "过 j41 安检的量"
   ]
  },
  {
   "cell_type": "code",
   "execution_count": null,
   "metadata": {
    "collapsed": false
   },
   "outputs": [],
   "source": [
    "len(j41_table.parcel_id.unique())"
   ]
  },
  {
   "cell_type": "markdown",
   "metadata": {},
   "source": [
    "每个安检机处理的量"
   ]
  },
  {
   "cell_type": "code",
   "execution_count": null,
   "metadata": {
    "collapsed": true
   },
   "outputs": [],
   "source": [
    "j_process_count = j_table.groupby('equipment_id')['parcel_id'].apply(lambda x: len(set(x)))"
   ]
  },
  {
   "cell_type": "code",
   "execution_count": null,
   "metadata": {
    "collapsed": false,
    "scrolled": true
   },
   "outputs": [],
   "source": [
    "j_process_count"
   ]
  },
  {
   "cell_type": "markdown",
   "metadata": {},
   "source": [
    "# random"
   ]
  },
  {
   "cell_type": "code",
   "execution_count": null,
   "metadata": {
    "collapsed": false,
    "scrolled": false
   },
   "outputs": [],
   "source": [
    "import random\n",
    "\n",
    "small_id_store = machine_table.small_id.unique()"
   ]
  },
  {
   "cell_type": "code",
   "execution_count": null,
   "metadata": {
    "collapsed": true
   },
   "outputs": [],
   "source": [
    "g = machine_table.groupby('small_id')"
   ]
  },
  {
   "cell_type": "code",
   "execution_count": null,
   "metadata": {
    "collapsed": false,
    "scrolled": false
   },
   "outputs": [],
   "source": [
    "small_id = random.choice(small_id_store)\n",
    "g.get_group(small_id)"
   ]
  },
  {
   "cell_type": "code",
   "execution_count": null,
   "metadata": {
    "collapsed": true
   },
   "outputs": [],
   "source": [
    "one_package = g.get_group(small_id)"
   ]
  },
  {
   "cell_type": "code",
   "execution_count": null,
   "metadata": {
    "collapsed": false
   },
   "outputs": [],
   "source": [
    "one_package.set_index(['equipment_id', 'action',])['time_stamp'].diff()"
   ]
  },
  {
   "cell_type": "markdown",
   "metadata": {},
   "source": [
    "## 小件分拣机等待时间"
   ]
  },
  {
   "cell_type": "code",
   "execution_count": null,
   "metadata": {
    "collapsed": false
   },
   "outputs": [],
   "source": [
    "ind_j = machine_table.equipment_id.str.startswith('j')\n",
    "ind_c = machine_table.equipment_id.str.startswith('c')\n",
    "\n",
    "ind_u = machine_table.equipment_id.str.startswith('u')\n",
    "ind_x = machine_table.equipment_id.str.startswith('x6') | machine_table.equipment_id.str.startswith('x7')\n",
    "\n",
    "ind_r_a = machine_table.equipment_id.str.startswith('r') | machine_table.equipment_id.str.startswith('a')\n",
    "ind_m = machine_table.equipment_id.str.startswith('m')\n",
    "\n",
    "ind_end = machine_table.action == 'end'\n",
    "ind_wait = machine_table.action == 'wait'"
   ]
  },
  {
   "cell_type": "code",
   "execution_count": null,
   "metadata": {
    "collapsed": false
   },
   "outputs": [],
   "source": [
    "c_j_table = machine_table[ind_c & ind_end].append(machine_table[ind_j & ind_wait])\n",
    "u_x_table = machine_table[ind_x & ind_end].append(machine_table[ind_u & ind_wait])\n",
    "r_a_m_table = machine_table[ind_r_a & ind_end].append(machine_table[ind_m & ind_wait])"
   ]
  },
  {
   "cell_type": "code",
   "execution_count": null,
   "metadata": {
    "collapsed": false,
    "scrolled": true
   },
   "outputs": [],
   "source": [
    "u_x_table.sort_values(['small_id', 'action'], inplace=True)"
   ]
  },
  {
   "cell_type": "code",
   "execution_count": null,
   "metadata": {
    "collapsed": false
   },
   "outputs": [],
   "source": [
    "u_x_table.groupby('small_id').apply(lambda x: x['time_stamp'].diff()).apply(lambda x: round(x, 2)).unique()"
   ]
  },
  {
   "cell_type": "code",
   "execution_count": null,
   "metadata": {
    "collapsed": false,
    "scrolled": true
   },
   "outputs": [],
   "source": [
    "c_j_table.groupby('small_id').apply(lambda x: x['time_stamp'].diff()).apply(lambda x: round(x, 2)).unique()"
   ]
  },
  {
   "cell_type": "code",
   "execution_count": null,
   "metadata": {
    "collapsed": false
   },
   "outputs": [],
   "source": [
    "r_a_m_table.groupby('small_id').apply(lambda x: x['time_stamp'].diff()).apply(lambda x: round(x, 2)).unique()"
   ]
  },
  {
   "cell_type": "markdown",
   "metadata": {},
   "source": [
    "## 处理时间分布"
   ]
  },
  {
   "cell_type": "code",
   "execution_count": 13,
   "metadata": {
    "collapsed": true
   },
   "outputs": [],
   "source": [
    "g = machine_table.groupby('small_id')\n",
    "table_diff = g['time_stamp'].apply(lambda x: x.max() - x.min())"
   ]
  },
  {
   "cell_type": "code",
   "execution_count": 14,
   "metadata": {
    "collapsed": false
   },
   "outputs": [
    {
     "data": {
      "text/plain": [
       "count    151107.000000\n",
       "mean       3541.187989\n",
       "std        2507.104095\n",
       "min           0.000000\n",
       "25%        1661.020000\n",
       "50%        3111.700000\n",
       "75%        4986.600000\n",
       "max       20185.300000\n",
       "Name: time_stamp, dtype: float64"
      ]
     },
     "execution_count": 14,
     "metadata": {},
     "output_type": "execute_result"
    }
   ],
   "source": [
    "table_diff.describe()"
   ]
  },
  {
   "cell_type": "code",
   "execution_count": 15,
   "metadata": {
    "collapsed": false,
    "scrolled": true
   },
   "outputs": [
    {
     "data": {
      "text/plain": [
       "0"
      ]
     },
     "execution_count": 15,
     "metadata": {},
     "output_type": "execute_result"
    }
   ],
   "source": [
    "table_diff[table_diff > 30000].count()"
   ]
  },
  {
   "cell_type": "code",
   "execution_count": 16,
   "metadata": {
    "collapsed": false
   },
   "outputs": [],
   "source": [
    "bins = list(range(int(table_diff.min()), int(table_diff.max()), 1800))"
   ]
  },
  {
   "cell_type": "code",
   "execution_count": 17,
   "metadata": {
    "collapsed": false
   },
   "outputs": [
    {
     "data": {
      "text/plain": [
       "<matplotlib.axes._subplots.AxesSubplot at 0x1314b4dd8>"
      ]
     },
     "execution_count": 17,
     "metadata": {},
     "output_type": "execute_result"
    },
    {
     "data": {
      "image/png": "[encoded data removed]",
      "text/plain": [
       "<matplotlib.figure.Figure at 0x1314bd4a8>"
      ]
     },
     "metadata": {},
     "output_type": "display_data"
    }
   ],
   "source": [
    "table_diff.plot(kind='hist', bins=bins)"
   ]
  },
  {
   "cell_type": "code",
   "execution_count": 18,
   "metadata": {
    "collapsed": false
   },
   "outputs": [
    {
     "data": {
      "text/plain": [
       "0.9582301710307062"
      ]
     },
     "execution_count": 18,
     "metadata": {},
     "output_type": "execute_result"
    }
   ],
   "source": [
    "table_diff[table_diff <= 3600 * 3.5].sum() / table_diff.sum()"
   ]
  }
 ],
 "metadata": {
  "kernelspec": {
   "display_name": "Python (simpy_pip)",
   "language": "python",
   "name": "simpy_pip"
  },
  "language_info": {
   "codemirror_mode": {
    "name": "ipython",
    "version": 3
   },
   "file_extension": ".py",
   "mimetype": "text/x-python",
   "name": "python",
   "nbconvert_exporter": "python",
   "pygments_lexer": "ipython3",
   "version": "3.6.1"
  }
 },
 "nbformat": 4,
 "nbformat_minor": 2
}
