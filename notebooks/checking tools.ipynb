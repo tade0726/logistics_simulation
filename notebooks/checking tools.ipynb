{
 "cells": [
  {
   "cell_type": "code",
   "execution_count": 1,
   "metadata": {
    "collapsed": false
   },
   "outputs": [
    {
     "name": "stderr",
     "output_type": "stream",
     "text": [
      "2017-09-08 08:04:00,019 - sim - INFO - Reading mysql table i_reload_setting\n"
     ]
    }
   ],
   "source": [
    "import sys\n",
    "import pandas as pd\n",
    "\n",
    "sys.path.extend(['..'])\n",
    "\n",
    "from sim.db import *\n",
    "from sim.config import *\n",
    "\n",
    "import pandas as pd"
   ]
  },
  {
   "cell_type": "code",
   "execution_count": 6,
   "metadata": {
    "collapsed": false,
    "scrolled": true
   },
   "outputs": [
    {
     "name": "stderr",
     "output_type": "stream",
     "text": [
      "2017-09-08 08:45:49,861 - sim - INFO - Reading mysql table i_resource_limit\n"
     ]
    }
   ],
   "source": [
    "resource_table = load_from_mysql('i_resource_limit')"
   ]
  },
  {
   "cell_type": "code",
   "execution_count": 8,
   "metadata": {
    "collapsed": false,
    "scrolled": true
   },
   "outputs": [
    {
     "data": {
      "text/html": [
       "<div>\n",
       "<style>\n",
       "    .dataframe thead tr:only-child th {\n",
       "        text-align: right;\n",
       "    }\n",
       "\n",
       "    .dataframe thead th {\n",
       "        text-align: left;\n",
       "    }\n",
       "\n",
       "    .dataframe tbody tr th {\n",
       "        vertical-align: top;\n",
       "    }\n",
       "</style>\n",
       "<table border=\"1\" class=\"dataframe\">\n",
       "  <thead>\n",
       "    <tr style=\"text-align: right;\">\n",
       "      <th></th>\n",
       "      <th>resource_id</th>\n",
       "      <th>resource_name</th>\n",
       "      <th>resource_limit</th>\n",
       "      <th>capacity_per_resource</th>\n",
       "      <th>resource_on_number</th>\n",
       "      <th>resource_number</th>\n",
       "      <th>start_time</th>\n",
       "      <th>end_time</th>\n",
       "      <th>inserted_on</th>\n",
       "      <th>modified_on</th>\n",
       "    </tr>\n",
       "  </thead>\n",
       "  <tbody>\n",
       "    <tr>\n",
       "      <th>61</th>\n",
       "      <td>man_j38_1</td>\n",
       "      <td>j38人力1</td>\n",
       "      <td>1.0</td>\n",
       "      <td>1.0</td>\n",
       "      <td>1.0</td>\n",
       "      <td>1.0</td>\n",
       "      <td>2017-08-15 21:00:00</td>\n",
       "      <td>2017-08-15 21:30:00</td>\n",
       "      <td>2017-08-29 16:11:56</td>\n",
       "      <td>NaT</td>\n",
       "    </tr>\n",
       "    <tr>\n",
       "      <th>251</th>\n",
       "      <td>man_j38_1</td>\n",
       "      <td>j38人力1</td>\n",
       "      <td>1.0</td>\n",
       "      <td>1.0</td>\n",
       "      <td>1.0</td>\n",
       "      <td>1.0</td>\n",
       "      <td>2017-08-15 21:30:00</td>\n",
       "      <td>2017-08-15 22:00:00</td>\n",
       "      <td>2017-08-29 16:11:56</td>\n",
       "      <td>NaT</td>\n",
       "    </tr>\n",
       "    <tr>\n",
       "      <th>441</th>\n",
       "      <td>man_j38_1</td>\n",
       "      <td>j38人力1</td>\n",
       "      <td>1.0</td>\n",
       "      <td>1.0</td>\n",
       "      <td>1.0</td>\n",
       "      <td>1.0</td>\n",
       "      <td>2017-08-15 22:00:00</td>\n",
       "      <td>2017-08-15 22:30:00</td>\n",
       "      <td>2017-08-29 16:11:56</td>\n",
       "      <td>NaT</td>\n",
       "    </tr>\n",
       "    <tr>\n",
       "      <th>631</th>\n",
       "      <td>man_j38_1</td>\n",
       "      <td>j38人力1</td>\n",
       "      <td>1.0</td>\n",
       "      <td>1.0</td>\n",
       "      <td>1.0</td>\n",
       "      <td>1.0</td>\n",
       "      <td>2017-08-15 22:30:00</td>\n",
       "      <td>2017-08-15 23:00:00</td>\n",
       "      <td>2017-08-29 16:11:56</td>\n",
       "      <td>NaT</td>\n",
       "    </tr>\n",
       "    <tr>\n",
       "      <th>821</th>\n",
       "      <td>man_j38_1</td>\n",
       "      <td>j38人力1</td>\n",
       "      <td>1.0</td>\n",
       "      <td>1.0</td>\n",
       "      <td>1.0</td>\n",
       "      <td>1.0</td>\n",
       "      <td>2017-08-15 23:00:00</td>\n",
       "      <td>2017-08-15 23:30:00</td>\n",
       "      <td>2017-08-29 16:11:56</td>\n",
       "      <td>NaT</td>\n",
       "    </tr>\n",
       "    <tr>\n",
       "      <th>1011</th>\n",
       "      <td>man_j38_1</td>\n",
       "      <td>j38人力1</td>\n",
       "      <td>1.0</td>\n",
       "      <td>1.0</td>\n",
       "      <td>1.0</td>\n",
       "      <td>1.0</td>\n",
       "      <td>2017-08-15 23:30:00</td>\n",
       "      <td>2017-08-16 00:00:00</td>\n",
       "      <td>2017-08-29 16:11:56</td>\n",
       "      <td>NaT</td>\n",
       "    </tr>\n",
       "    <tr>\n",
       "      <th>1201</th>\n",
       "      <td>man_j38_1</td>\n",
       "      <td>j38人力1</td>\n",
       "      <td>1.0</td>\n",
       "      <td>1.0</td>\n",
       "      <td>1.0</td>\n",
       "      <td>1.0</td>\n",
       "      <td>2017-08-16 00:00:00</td>\n",
       "      <td>2017-08-16 00:30:00</td>\n",
       "      <td>2017-08-29 16:11:56</td>\n",
       "      <td>NaT</td>\n",
       "    </tr>\n",
       "    <tr>\n",
       "      <th>1391</th>\n",
       "      <td>man_j38_1</td>\n",
       "      <td>j38人力1</td>\n",
       "      <td>1.0</td>\n",
       "      <td>1.0</td>\n",
       "      <td>1.0</td>\n",
       "      <td>1.0</td>\n",
       "      <td>2017-08-16 00:30:00</td>\n",
       "      <td>2017-08-16 01:00:00</td>\n",
       "      <td>2017-08-29 16:11:56</td>\n",
       "      <td>NaT</td>\n",
       "    </tr>\n",
       "    <tr>\n",
       "      <th>1581</th>\n",
       "      <td>man_j38_1</td>\n",
       "      <td>j38人力1</td>\n",
       "      <td>1.0</td>\n",
       "      <td>1.0</td>\n",
       "      <td>1.0</td>\n",
       "      <td>1.0</td>\n",
       "      <td>2017-08-16 01:00:00</td>\n",
       "      <td>2017-08-16 01:30:00</td>\n",
       "      <td>2017-08-29 16:11:56</td>\n",
       "      <td>NaT</td>\n",
       "    </tr>\n",
       "    <tr>\n",
       "      <th>1771</th>\n",
       "      <td>man_j38_1</td>\n",
       "      <td>j38人力1</td>\n",
       "      <td>1.0</td>\n",
       "      <td>1.0</td>\n",
       "      <td>1.0</td>\n",
       "      <td>1.0</td>\n",
       "      <td>2017-08-16 01:30:00</td>\n",
       "      <td>2017-08-16 02:00:00</td>\n",
       "      <td>2017-08-29 16:11:56</td>\n",
       "      <td>NaT</td>\n",
       "    </tr>\n",
       "  </tbody>\n",
       "</table>\n",
       "</div>"
      ],
      "text/plain": [
       "     resource_id resource_name  resource_limit  capacity_per_resource  \\\n",
       "61     man_j38_1        j38人力1             1.0                    1.0   \n",
       "251    man_j38_1        j38人力1             1.0                    1.0   \n",
       "441    man_j38_1        j38人力1             1.0                    1.0   \n",
       "631    man_j38_1        j38人力1             1.0                    1.0   \n",
       "821    man_j38_1        j38人力1             1.0                    1.0   \n",
       "1011   man_j38_1        j38人力1             1.0                    1.0   \n",
       "1201   man_j38_1        j38人力1             1.0                    1.0   \n",
       "1391   man_j38_1        j38人力1             1.0                    1.0   \n",
       "1581   man_j38_1        j38人力1             1.0                    1.0   \n",
       "1771   man_j38_1        j38人力1             1.0                    1.0   \n",
       "\n",
       "      resource_on_number  resource_number          start_time  \\\n",
       "61                   1.0              1.0 2017-08-15 21:00:00   \n",
       "251                  1.0              1.0 2017-08-15 21:30:00   \n",
       "441                  1.0              1.0 2017-08-15 22:00:00   \n",
       "631                  1.0              1.0 2017-08-15 22:30:00   \n",
       "821                  1.0              1.0 2017-08-15 23:00:00   \n",
       "1011                 1.0              1.0 2017-08-15 23:30:00   \n",
       "1201                 1.0              1.0 2017-08-16 00:00:00   \n",
       "1391                 1.0              1.0 2017-08-16 00:30:00   \n",
       "1581                 1.0              1.0 2017-08-16 01:00:00   \n",
       "1771                 1.0              1.0 2017-08-16 01:30:00   \n",
       "\n",
       "                end_time         inserted_on modified_on  \n",
       "61   2017-08-15 21:30:00 2017-08-29 16:11:56         NaT  \n",
       "251  2017-08-15 22:00:00 2017-08-29 16:11:56         NaT  \n",
       "441  2017-08-15 22:30:00 2017-08-29 16:11:56         NaT  \n",
       "631  2017-08-15 23:00:00 2017-08-29 16:11:56         NaT  \n",
       "821  2017-08-15 23:30:00 2017-08-29 16:11:56         NaT  \n",
       "1011 2017-08-16 00:00:00 2017-08-29 16:11:56         NaT  \n",
       "1201 2017-08-16 00:30:00 2017-08-29 16:11:56         NaT  \n",
       "1391 2017-08-16 01:00:00 2017-08-29 16:11:56         NaT  \n",
       "1581 2017-08-16 01:30:00 2017-08-29 16:11:56         NaT  \n",
       "1771 2017-08-16 02:00:00 2017-08-29 16:11:56         NaT  "
      ]
     },
     "execution_count": 8,
     "metadata": {},
     "output_type": "execute_result"
    }
   ],
   "source": [
    "resource_table[resource_table.resource_id.str.contains('j38')]"
   ]
  },
  {
   "cell_type": "code",
   "execution_count": 2,
   "metadata": {
    "collapsed": false,
    "scrolled": true
   },
   "outputs": [
    {
     "name": "stderr",
     "output_type": "stream",
     "text": [
      "2017-09-08 08:06:06,179 - sim - INFO - Reading mysql table i_queue_io\n"
     ]
    }
   ],
   "source": [
    "queue_io = load_from_mysql('i_queue_io')\n",
    "\n",
    "queue_io[queue_io.equipment_port_next.str.contains('j')]\\\n",
    "    .groupby('equipment_port_next')['equipment_port_last'].apply(set).apply(len)"
   ]
  },
  {
   "cell_type": "code",
   "execution_count": null,
   "metadata": {
    "collapsed": false
   },
   "outputs": [],
   "source": [
    "share_store = get_equipment_store_dict()"
   ]
  },
  {
   "cell_type": "code",
   "execution_count": null,
   "metadata": {
    "collapsed": false
   },
   "outputs": [],
   "source": [
    "share_store"
   ]
  }
 ],
 "metadata": {
  "kernelspec": {
   "display_name": "Python (simpy_pip)",
   "language": "python",
   "name": "simpy_pip"
  },
  "language_info": {
   "codemirror_mode": {
    "name": "ipython",
    "version": 3
   },
   "file_extension": ".py",
   "mimetype": "text/x-python",
   "name": "python",
   "nbconvert_exporter": "python",
   "pygments_lexer": "ipython3",
   "version": "3.6.1"
  }
 },
 "nbformat": 4,
 "nbformat_minor": 2
}
