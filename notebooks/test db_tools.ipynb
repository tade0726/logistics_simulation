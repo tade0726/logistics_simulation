{
 "cells": [
  {
   "cell_type": "code",
   "execution_count": 1,
   "metadata": {
    "collapsed": true
   },
   "outputs": [],
   "source": [
    "import sys\n",
    "sys.path.append('..')\n",
    "from src.db import *"
   ]
  },
  {
   "cell_type": "code",
   "execution_count": 2,
   "metadata": {},
   "outputs": [
    {
     "name": "stderr",
     "output_type": "stream",
     "text": [
      "/opt/miniconda3/envs/simpy_py36/lib/python3.6/site-packages/pymysql/cursors.py:166: Warning: (1366, \"Incorrect string value: '\\\\xD6\\\\xD0\\\\xB9\\\\xFA\\\\xB1\\\\xEA...' for column 'VARIABLE_VALUE' at row 496\")\n",
      "  result = self._query(query)\n"
     ]
    }
   ],
   "source": [
    "test = get_pipelines()"
   ]
  },
  {
   "cell_type": "code",
   "execution_count": 11,
   "metadata": {},
   "outputs": [
    {
     "data": {
      "text/html": [
       "<div>\n",
       "<style>\n",
       "    .dataframe thead tr:only-child th {\n",
       "        text-align: right;\n",
       "    }\n",
       "\n",
       "    .dataframe thead th {\n",
       "        text-align: left;\n",
       "    }\n",
       "\n",
       "    .dataframe tbody tr th {\n",
       "        vertical-align: top;\n",
       "    }\n",
       "</style>\n",
       "<table border=\"1\" class=\"dataframe\">\n",
       "  <thead>\n",
       "    <tr style=\"text-align: right;\">\n",
       "      <th></th>\n",
       "      <th>equipment_port_last</th>\n",
       "      <th>equipment_port_next</th>\n",
       "      <th>sorter_zone</th>\n",
       "      <th>process_time</th>\n",
       "      <th>queue_id</th>\n",
       "      <th>machine_type</th>\n",
       "      <th>pipeline_type</th>\n",
       "    </tr>\n",
       "  </thead>\n",
       "  <tbody>\n",
       "    <tr>\n",
       "      <th>22053</th>\n",
       "      <td>r2_4</td>\n",
       "      <td>m1_4</td>\n",
       "      <td>LM1</td>\n",
       "      <td>42.26</td>\n",
       "      <td>r2_m1</td>\n",
       "      <td>presort</td>\n",
       "      <td>pipeline</td>\n",
       "    </tr>\n",
       "  </tbody>\n",
       "</table>\n",
       "</div>"
      ],
      "text/plain": [
       "      equipment_port_last equipment_port_next sorter_zone  process_time  \\\n",
       "22053                r2_4                m1_4         LM1         42.26   \n",
       "\n",
       "      queue_id machine_type pipeline_type  \n",
       "22053    r2_m1      presort      pipeline  "
      ]
     },
     "execution_count": 11,
     "metadata": {},
     "output_type": "execute_result"
    }
   ],
   "source": [
    "test[test.equipment_port_last == \"r2_4\"]"
   ]
  },
  {
   "cell_type": "code",
   "execution_count": 12,
   "metadata": {},
   "outputs": [
    {
     "data": {
      "text/html": [
       "<div>\n",
       "<style>\n",
       "    .dataframe thead tr:only-child th {\n",
       "        text-align: right;\n",
       "    }\n",
       "\n",
       "    .dataframe thead th {\n",
       "        text-align: left;\n",
       "    }\n",
       "\n",
       "    .dataframe tbody tr th {\n",
       "        vertical-align: top;\n",
       "    }\n",
       "</style>\n",
       "<table border=\"1\" class=\"dataframe\">\n",
       "  <thead>\n",
       "    <tr style=\"text-align: right;\">\n",
       "      <th></th>\n",
       "      <th>equipment_port_last</th>\n",
       "      <th>equipment_port_next</th>\n",
       "      <th>sorter_zone</th>\n",
       "      <th>process_time</th>\n",
       "      <th>queue_id</th>\n",
       "      <th>machine_type</th>\n",
       "      <th>pipeline_type</th>\n",
       "    </tr>\n",
       "  </thead>\n",
       "  <tbody>\n",
       "    <tr>\n",
       "      <th>21863</th>\n",
       "      <td>m1_4</td>\n",
       "      <td>i2_2</td>\n",
       "      <td>LS1</td>\n",
       "      <td>146.54</td>\n",
       "      <td>m1_i2</td>\n",
       "      <td>secondary_sort</td>\n",
       "      <td>pipeline</td>\n",
       "    </tr>\n",
       "    <tr>\n",
       "      <th>21864</th>\n",
       "      <td>m1_4</td>\n",
       "      <td>i7_3</td>\n",
       "      <td>LS2</td>\n",
       "      <td>136.89</td>\n",
       "      <td>m1_i7</td>\n",
       "      <td>secondary_sort</td>\n",
       "      <td>pipeline</td>\n",
       "    </tr>\n",
       "    <tr>\n",
       "      <th>21865</th>\n",
       "      <td>m1_4</td>\n",
       "      <td>x10_1</td>\n",
       "      <td>LM1</td>\n",
       "      <td>57.50</td>\n",
       "      <td>m1_x10</td>\n",
       "      <td>cross</td>\n",
       "      <td>pipeline</td>\n",
       "    </tr>\n",
       "  </tbody>\n",
       "</table>\n",
       "</div>"
      ],
      "text/plain": [
       "      equipment_port_last equipment_port_next sorter_zone  process_time  \\\n",
       "21863                m1_4                i2_2         LS1        146.54   \n",
       "21864                m1_4                i7_3         LS2        136.89   \n",
       "21865                m1_4               x10_1         LM1         57.50   \n",
       "\n",
       "      queue_id    machine_type pipeline_type  \n",
       "21863    m1_i2  secondary_sort      pipeline  \n",
       "21864    m1_i7  secondary_sort      pipeline  \n",
       "21865   m1_x10           cross      pipeline  "
      ]
     },
     "execution_count": 12,
     "metadata": {},
     "output_type": "execute_result"
    }
   ],
   "source": [
    "test[test.equipment_port_last == \"m1_4\"]"
   ]
  }
 ],
 "metadata": {
  "kernelspec": {
   "display_name": "Python 3",
   "language": "python",
   "name": "python3"
  },
  "language_info": {
   "codemirror_mode": {
    "name": "ipython",
    "version": 3
   },
   "file_extension": ".py",
   "mimetype": "text/x-python",
   "name": "python",
   "nbconvert_exporter": "python",
   "pygments_lexer": "ipython3",
   "version": "3.6.1"
  }
 },
 "nbformat": 4,
 "nbformat_minor": 2
}
