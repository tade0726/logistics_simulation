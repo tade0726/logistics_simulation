{
 "cells": [
  {
   "cell_type": "code",
   "execution_count": 2,
   "metadata": {
    "collapsed": true
   },
   "outputs": [],
   "source": [
    "import pickle\n",
    "import os"
   ]
  },
  {
   "cell_type": "code",
   "execution_count": 4,
   "metadata": {
    "collapsed": false
   },
   "outputs": [
    {
     "name": "stdout",
     "output_type": "stream",
     "text": [
      "i_equipment_io.csv        i_queue_io.csv            parcel-path.csv\r\n",
      "i_equipment_parameter.csv i_reload_setting.csv      path\r\n",
      "i_equipment_resource.csv  i_resource_limit.csv\r\n",
      "i_od_parcel_landside.csv  i_unload_setting.csv\r\n"
     ]
    }
   ],
   "source": [
    "!ls ../data"
   ]
  },
  {
   "cell_type": "code",
   "execution_count": 5,
   "metadata": {
    "collapsed": true
   },
   "outputs": [],
   "source": [
    "with open('../data/path', 'rb') as file:\n",
    "    path_dict = pickle.load(file)"
   ]
  },
  {
   "cell_type": "code",
   "execution_count": 10,
   "metadata": {
    "collapsed": false
   },
   "outputs": [
    {
     "data": {
      "text/plain": [
       "{('c9_1',\n",
       "  'c4_19'): {'hospital': [['c9_1',\n",
       "    'x9_1',\n",
       "    'x4_1',\n",
       "    'x5_1',\n",
       "    'i5_4',\n",
       "    'e2_1',\n",
       "    'h2_1',\n",
       "    'x9_1',\n",
       "    'x4_1',\n",
       "    'x5_1',\n",
       "    'i5_4',\n",
       "    'c4_19'],\n",
       "   ['c9_1',\n",
       "    'x9_1',\n",
       "    'x4_1',\n",
       "    'x5_1',\n",
       "    'i5_4',\n",
       "    'e2_1',\n",
       "    'h2_1',\n",
       "    'x9_1',\n",
       "    'x5_1',\n",
       "    'i5_4',\n",
       "    'c4_19']], 'without hospital': [['c9_1',\n",
       "    'x9_1',\n",
       "    'x4_1',\n",
       "    'x5_1',\n",
       "    'i5_4',\n",
       "    'c4_19'],\n",
       "   ['c9_1', 'x9_1', 'x5_1', 'i5_4', 'c4_19']]}}"
      ]
     },
     "execution_count": 10,
     "metadata": {},
     "output_type": "execute_result"
    }
   ],
   "source": [
    "{key: val for key, val in path_dict.items() if (key[0] == 'c9_1') and (key[1] == 'c4_19')}"
   ]
  }
 ],
 "metadata": {
  "kernelspec": {
   "display_name": "Python 3",
   "language": "python",
   "name": "python3"
  },
  "language_info": {
   "codemirror_mode": {
    "name": "ipython",
    "version": 3
   },
   "file_extension": ".py",
   "mimetype": "text/x-python",
   "name": "python",
   "nbconvert_exporter": "python",
   "pygments_lexer": "ipython3",
   "version": "3.6.1"
  }
 },
 "nbformat": 4,
 "nbformat_minor": 2
}
