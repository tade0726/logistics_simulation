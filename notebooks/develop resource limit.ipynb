{
 "cells": [
  {
   "cell_type": "code",
   "execution_count": 9,
   "metadata": {
    "collapsed": true
   },
   "outputs": [],
   "source": [
    "import sys\n",
    "\n",
    "sys.path.extend(['..'])\n",
    "\n",
    "from src.db import *\n",
    "from src.config import *\n",
    "\n",
    "import pandas as pd"
   ]
  },
  {
   "cell_type": "code",
   "execution_count": 10,
   "metadata": {
    "collapsed": false,
    "scrolled": true
   },
   "outputs": [
    {
     "name": "stderr",
     "output_type": "stream",
     "text": [
      "2017-08-17 09:29:39,868 - django - INFO - Reading Redis i_resource_limit\n"
     ]
    }
   ],
   "source": [
    "table = load_from_mysql('i_resource_limit')"
   ]
  },
  {
   "cell_type": "code",
   "execution_count": 35,
   "metadata": {
    "collapsed": false
   },
   "outputs": [
    {
     "name": "stderr",
     "output_type": "stream",
     "text": [
      "2017-08-17 09:45:01,565 - django - INFO - Reading mysql table i_od_parcel_landside\n",
      "2017-08-17 09:45:15,296 - django - INFO - Redis write table i_od_parcel_landside succeed!\n",
      "2017-08-17 09:45:15,306 - django - INFO - Reading mysql table i_od_small_landside\n",
      "2017-08-17 09:45:19,853 - django - INFO - Redis write table i_od_small_landside succeed!\n",
      "2017-08-17 09:45:20,828 - django - INFO - IS_LAND: True, input data, parcel counts: 500, small packages: 1873\n"
     ]
    }
   ],
   "source": [
    "truck_dict = get_vehicles(is_land=True, is_test=True)"
   ]
  },
  {
   "cell_type": "code",
   "execution_count": 37,
   "metadata": {
    "collapsed": false
   },
   "outputs": [
    {
     "name": "stderr",
     "output_type": "stream",
     "text": [
      "2017-08-17 09:45:58,799 - django - INFO - Reading Redis i_resource_limit\n"
     ]
    }
   ],
   "source": [
    "\"\"\"返回资源改变的时间表\"\"\"\n",
    "table = load_from_mysql('i_resource_limit')\n",
    "\n",
    "table['resource_occupy'] = table['resource_number'] - table['resource_limit']\n",
    "\n",
    "g_resource = table.sort_values('start_time').groupby('resource_id')\n",
    "table_resource_occupy_change = g_resource.apply(lambda x: x[x.resource_occupy.diff() != 0]).reset_index(drop=True)\n",
    "\n",
    "# convert to seconds\n",
    "table_resource_occupy_change[\"start_time\"] = \\\n",
    "    (pd.to_datetime(table_resource_occupy_change[\"start_time\"]) - TimeConfig.ZERO_TIMESTAMP) \\\n",
    "        .apply(lambda x: x.total_seconds() if x.total_seconds() > 0 else 0)"
   ]
  }
 ],
 "metadata": {
  "kernelspec": {
   "display_name": "Python (simpy_pip)",
   "language": "python",
   "name": "simpy_pip"
  },
  "language_info": {
   "codemirror_mode": {
    "name": "ipython",
    "version": 3
   },
   "file_extension": ".py",
   "mimetype": "text/x-python",
   "name": "python",
   "nbconvert_exporter": "python",
   "pygments_lexer": "ipython3",
   "version": "3.6.1"
  }
 },
 "nbformat": 4,
 "nbformat_minor": 2
}
