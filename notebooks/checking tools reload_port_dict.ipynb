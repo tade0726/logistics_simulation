{
 "cells": [
  {
   "cell_type": "code",
   "execution_count": 1,
   "metadata": {
    "collapsed": false
   },
   "outputs": [],
   "source": [
    "import sys\n",
    "import pandas as pd\n",
    "\n",
    "sys.path.extend(['..'])\n",
    "\n",
    "from src.db import *\n",
    "from src.config import *\n",
    "\n",
    "import pandas as pd"
   ]
  },
  {
   "cell_type": "code",
   "execution_count": 2,
   "metadata": {
    "collapsed": false
   },
   "outputs": [
    {
     "name": "stderr",
     "output_type": "stream",
     "text": [
      "2017-09-04 15:58:54,786 - simulation - INFO - Reading mysql table i_queue_io\n"
     ]
    }
   ],
   "source": [
    "queue_io_table = load_from_mysql('i_queue_io')"
   ]
  },
  {
   "cell_type": "code",
   "execution_count": 8,
   "metadata": {
    "collapsed": false
   },
   "outputs": [],
   "source": [
    "equipment_ports = queue_io_table.equipment_port_next.unique()"
   ]
  },
  {
   "cell_type": "code",
   "execution_count": 9,
   "metadata": {
    "collapsed": true
   },
   "outputs": [],
   "source": [
    "small_reload_equipements = [f\"c{i}\" for i in range(5, 13) ]"
   ]
  },
  {
   "cell_type": "code",
   "execution_count": 11,
   "metadata": {
    "collapsed": true
   },
   "outputs": [],
   "source": [
    "small_reload = [x for x in equipment_ports if x.split('_')[0] in small_reload_equipements]"
   ]
  },
  {
   "cell_type": "code",
   "execution_count": 3,
   "metadata": {
    "collapsed": false
   },
   "outputs": [
    {
     "name": "stderr",
     "output_type": "stream",
     "text": [
      "2017-09-04 15:58:56,760 - simulation - INFO - Reading mysql table i_reload_setting\n"
     ]
    }
   ],
   "source": [
    "reload_port = get_reload_port()"
   ]
  },
  {
   "cell_type": "code",
   "execution_count": 4,
   "metadata": {
    "collapsed": false
   },
   "outputs": [
    {
     "name": "stderr",
     "output_type": "stream",
     "text": [
      "2017-09-04 15:59:06,016 - simulation - INFO - Reading mysql table i_reload_setting\n"
     ]
    }
   ],
   "source": [
    "reload_setting = load_from_mysql('i_reload_setting')"
   ]
  },
  {
   "cell_type": "code",
   "execution_count": 16,
   "metadata": {
    "collapsed": false
   },
   "outputs": [
    {
     "data": {
      "text/plain": [
       "{'c12_52'}"
      ]
     },
     "execution_count": 16,
     "metadata": {},
     "output_type": "execute_result"
    }
   ],
   "source": [
    "set(small_reload) - set(reload_port['small_sort'])"
   ]
  }
 ],
 "metadata": {
  "kernelspec": {
   "display_name": "Python (simpy_pip)",
   "language": "python",
   "name": "simpy_pip"
  },
  "language_info": {
   "codemirror_mode": {
    "name": "ipython",
    "version": 3
   },
   "file_extension": ".py",
   "mimetype": "text/x-python",
   "name": "python",
   "nbconvert_exporter": "python",
   "pygments_lexer": "ipython3",
   "version": "3.6.1"
  }
 },
 "nbformat": 4,
 "nbformat_minor": 2
}
