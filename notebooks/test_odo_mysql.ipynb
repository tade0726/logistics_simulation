{
 "cells": [
  {
   "cell_type": "code",
   "execution_count": 2,
   "metadata": {
    "collapsed": true
   },
   "outputs": [],
   "source": [
    "import sys\n",
    "sys.path.append('..')\n",
    "\n",
    "from src.config import *\n",
    "from src.db.tools import *\n",
    "\n",
    "import pandas as pd\n",
    "import numpy as np"
   ]
  },
  {
   "cell_type": "code",
   "execution_count": 7,
   "metadata": {
    "collapsed": false
   },
   "outputs": [
    {
     "name": "stderr",
     "output_type": "stream",
     "text": [
      "2017-08-29 15:15:40,886 - simulation - INFO - Reading Redis i_queue_io\n"
     ]
    }
   ],
   "source": [
    "df = load_from_mysql('i_queue_io')"
   ]
  },
  {
   "cell_type": "code",
   "execution_count": 11,
   "metadata": {
    "collapsed": false
   },
   "outputs": [
    {
     "data": {
      "text/plain": [
       "Index(['equipment_port_last', 'equipment_port_next', 'equipment_type',\n",
       "       'queue_id', 'process_time', 'allocate_rule', 'parcel_type',\n",
       "       'sorter_zone', 'dest_type', 'normal_path', 'inserted_on',\n",
       "       'modified_on'],\n",
       "      dtype='object')"
      ]
     },
     "execution_count": 11,
     "metadata": {},
     "output_type": "execute_result"
    }
   ],
   "source": [
    "df.columns"
   ]
  },
  {
   "cell_type": "code",
   "execution_count": null,
   "metadata": {
    "collapsed": true
   },
   "outputs": [],
   "source": [
    "from odo import odo\n",
    "import sqlalchemy as sa\n",
    "metadata = sa.MetaData()\n",
    "\n",
    "tbl = sa.Table(\n",
    "     'tbl',\n",
    "     metadata,)\n",
    "\n",
    "odo(df, target=RemoteMySQLConfig.url+ '::test')  # pass the bind to odo here"
   ]
  },
  {
   "cell_type": "code",
   "execution_count": 17,
   "metadata": {
    "collapsed": false,
    "scrolled": true
   },
   "outputs": [
    {
     "data": {
      "text/plain": [
       "Table('tbl', MetaData(bind=None), Column('a', Integer(), table=<tbl>, primary_key=True, nullable=False), schema=None)"
      ]
     },
     "execution_count": 17,
     "metadata": {},
     "output_type": "execute_result"
    }
   ],
   "source": [
    "from odo import odo\n",
    "import sqlalchemy as sa\n",
    "metadata = sa.MetaData()\n",
    "\n",
    "tbl = sa.Table(\n",
    "     'tbl',\n",
    "     metadata,\n",
    "     sa.Column('a', sa.Integer, primary_key=True),)\n",
    "\n",
    "bind = RemoteMySQLConfig.url\n",
    "odo([[4], [5], [6]], tbl, dshape='var * {a: int}', bind=bind)  # pass the bind to odo here"
   ]
  },
  {
   "cell_type": "code",
   "execution_count": null,
   "metadata": {
    "collapsed": true
   },
   "outputs": [],
   "source": []
  }
 ],
 "metadata": {
  "kernelspec": {
   "display_name": "Python (simpy_pip)",
   "language": "python",
   "name": "simpy_pip"
  },
  "language_info": {
   "codemirror_mode": {
    "name": "ipython",
    "version": 3
   },
   "file_extension": ".py",
   "mimetype": "text/x-python",
   "name": "python",
   "nbconvert_exporter": "python",
   "pygments_lexer": "ipython3",
   "version": "3.6.1"
  }
 },
 "nbformat": 4,
 "nbformat_minor": 2
}
