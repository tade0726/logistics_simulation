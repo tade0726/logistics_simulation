{
 "cells": [
  {
   "cell_type": "code",
   "execution_count": 141,
   "metadata": {},
   "outputs": [],
   "source": [
    "import sys\n",
    "sys.path.append(\"..\")\n",
    "import os\n",
    "from os.path import join, splitext\n",
    "\n",
    "import pandas as pd\n",
    "from src.db import SaveConfig"
   ]
  },
  {
   "cell_type": "code",
   "execution_count": 142,
   "metadata": {
    "collapsed": true
   },
   "outputs": [],
   "source": [
    "def reading_tables():\n",
    "    table_names = os.listdir(SaveConfig.OUT_DIR)\n",
    "    tables_dict = dict()\n",
    "    for name in table_names:\n",
    "        tables_dict[splitext(name)[0]] = pd.read_csv(join(SaveConfig.OUT_DIR, name))\n",
    "    return tables_dict"
   ]
  },
  {
   "cell_type": "code",
   "execution_count": 143,
   "metadata": {},
   "outputs": [],
   "source": [
    "tables_dict = reading_tables()"
   ]
  },
  {
   "cell_type": "code",
   "execution_count": 144,
   "metadata": {
    "scrolled": true
   },
   "outputs": [
    {
     "data": {
      "text/plain": [
       "dict_keys(['pipeline_table', 'truck_table', 'machine_table'])"
      ]
     },
     "execution_count": 144,
     "metadata": {},
     "output_type": "execute_result"
    }
   ],
   "source": [
    "tables_dict.keys()"
   ]
  },
  {
   "cell_type": "code",
   "execution_count": 145,
   "metadata": {},
   "outputs": [],
   "source": [
    "machine_table = tables_dict[\"machine_table\"]"
   ]
  },
  {
   "cell_type": "code",
   "execution_count": 146,
   "metadata": {
    "scrolled": false
   },
   "outputs": [
    {
     "name": "stdout",
     "output_type": "stream",
     "text": [
      "<class 'pandas.core.frame.DataFrame'>\n",
      "RangeIndex: 821259 entries, 0 to 821258\n",
      "Data columns (total 5 columns):\n",
      "equipment_id       821259 non-null object\n",
      "package_id         821259 non-null int64\n",
      "time_stamp         821259 non-null float64\n",
      "action             821259 non-null object\n",
      "real_time_stamp    821259 non-null object\n",
      "dtypes: float64(1), int64(1), object(3)\n",
      "memory usage: 31.3+ MB\n"
     ]
    }
   ],
   "source": [
    "machine_table.info()"
   ]
  },
  {
   "cell_type": "code",
   "execution_count": 173,
   "metadata": {},
   "outputs": [
    {
     "data": {
      "text/html": [
       "<div>\n",
       "<style>\n",
       "    .dataframe thead tr:only-child th {\n",
       "        text-align: right;\n",
       "    }\n",
       "\n",
       "    .dataframe thead th {\n",
       "        text-align: left;\n",
       "    }\n",
       "\n",
       "    .dataframe tbody tr th {\n",
       "        vertical-align: top;\n",
       "    }\n",
       "</style>\n",
       "<table border=\"1\" class=\"dataframe\">\n",
       "  <thead>\n",
       "    <tr style=\"text-align: right;\">\n",
       "      <th></th>\n",
       "      <th>equipment_id</th>\n",
       "      <th>package_id</th>\n",
       "      <th>time_stamp</th>\n",
       "      <th>action</th>\n",
       "      <th>real_time_stamp</th>\n",
       "    </tr>\n",
       "  </thead>\n",
       "  <tbody>\n",
       "    <tr>\n",
       "      <th>177946</th>\n",
       "      <td>r3_3</td>\n",
       "      <td>86223806199</td>\n",
       "      <td>3131.60</td>\n",
       "      <td>start</td>\n",
       "      <td>2017-06-15 21:52:11.600</td>\n",
       "    </tr>\n",
       "    <tr>\n",
       "      <th>561958</th>\n",
       "      <td>r3_9</td>\n",
       "      <td>957582437416</td>\n",
       "      <td>23760.00</td>\n",
       "      <td>start</td>\n",
       "      <td>2017-06-16 03:36:00.000</td>\n",
       "    </tr>\n",
       "    <tr>\n",
       "      <th>104270</th>\n",
       "      <td>i6_2</td>\n",
       "      <td>845184592067</td>\n",
       "      <td>19069.90</td>\n",
       "      <td>end</td>\n",
       "      <td>2017-06-16 02:17:49.900</td>\n",
       "    </tr>\n",
       "    <tr>\n",
       "      <th>475409</th>\n",
       "      <td>r1_2</td>\n",
       "      <td>615160941748</td>\n",
       "      <td>20957.00</td>\n",
       "      <td>end</td>\n",
       "      <td>2017-06-16 02:49:17.000</td>\n",
       "    </tr>\n",
       "    <tr>\n",
       "      <th>199116</th>\n",
       "      <td>r5_1</td>\n",
       "      <td>615165909957</td>\n",
       "      <td>2776.00</td>\n",
       "      <td>wait</td>\n",
       "      <td>2017-06-15 21:46:16.000</td>\n",
       "    </tr>\n",
       "    <tr>\n",
       "      <th>482577</th>\n",
       "      <td>r2_2</td>\n",
       "      <td>974612797371</td>\n",
       "      <td>13150.00</td>\n",
       "      <td>wait</td>\n",
       "      <td>2017-06-16 00:39:10.000</td>\n",
       "    </tr>\n",
       "    <tr>\n",
       "      <th>764664</th>\n",
       "      <td>r3_9</td>\n",
       "      <td>974614650145</td>\n",
       "      <td>22646.00</td>\n",
       "      <td>wait</td>\n",
       "      <td>2017-06-16 03:17:26.000</td>\n",
       "    </tr>\n",
       "    <tr>\n",
       "      <th>682128</th>\n",
       "      <td>r5_3</td>\n",
       "      <td>216669638297</td>\n",
       "      <td>21576.00</td>\n",
       "      <td>wait</td>\n",
       "      <td>2017-06-16 02:59:36.000</td>\n",
       "    </tr>\n",
       "    <tr>\n",
       "      <th>714021</th>\n",
       "      <td>r4_2</td>\n",
       "      <td>615153840363</td>\n",
       "      <td>22856.00</td>\n",
       "      <td>wait</td>\n",
       "      <td>2017-06-16 03:20:56.000</td>\n",
       "    </tr>\n",
       "    <tr>\n",
       "      <th>147320</th>\n",
       "      <td>c2_30</td>\n",
       "      <td>928802516379</td>\n",
       "      <td>11231.95</td>\n",
       "      <td>wait</td>\n",
       "      <td>2017-06-16 00:07:11.950</td>\n",
       "    </tr>\n",
       "  </tbody>\n",
       "</table>\n",
       "</div>"
      ],
      "text/plain": [
       "       equipment_id    package_id  time_stamp action          real_time_stamp\n",
       "177946         r3_3   86223806199     3131.60  start  2017-06-15 21:52:11.600\n",
       "561958         r3_9  957582437416    23760.00  start  2017-06-16 03:36:00.000\n",
       "104270         i6_2  845184592067    19069.90    end  2017-06-16 02:17:49.900\n",
       "475409         r1_2  615160941748    20957.00    end  2017-06-16 02:49:17.000\n",
       "199116         r5_1  615165909957     2776.00   wait  2017-06-15 21:46:16.000\n",
       "482577         r2_2  974612797371    13150.00   wait  2017-06-16 00:39:10.000\n",
       "764664         r3_9  974614650145    22646.00   wait  2017-06-16 03:17:26.000\n",
       "682128         r5_3  216669638297    21576.00   wait  2017-06-16 02:59:36.000\n",
       "714021         r4_2  615153840363    22856.00   wait  2017-06-16 03:20:56.000\n",
       "147320        c2_30  928802516379    11231.95   wait  2017-06-16 00:07:11.950"
      ]
     },
     "execution_count": 173,
     "metadata": {},
     "output_type": "execute_result"
    }
   ],
   "source": [
    "machine_table.sample(10)"
   ]
  },
  {
   "cell_type": "code",
   "execution_count": 174,
   "metadata": {},
   "outputs": [
    {
     "data": {
      "text/html": [
       "<div>\n",
       "<style>\n",
       "    .dataframe thead tr:only-child th {\n",
       "        text-align: right;\n",
       "    }\n",
       "\n",
       "    .dataframe thead th {\n",
       "        text-align: left;\n",
       "    }\n",
       "\n",
       "    .dataframe tbody tr th {\n",
       "        vertical-align: top;\n",
       "    }\n",
       "</style>\n",
       "<table border=\"1\" class=\"dataframe\">\n",
       "  <thead>\n",
       "    <tr style=\"text-align: right;\">\n",
       "      <th></th>\n",
       "      <th></th>\n",
       "      <th></th>\n",
       "      <th>time_stamp</th>\n",
       "    </tr>\n",
       "    <tr>\n",
       "      <th></th>\n",
       "      <th>equipment_id</th>\n",
       "      <th>action</th>\n",
       "      <th></th>\n",
       "    </tr>\n",
       "  </thead>\n",
       "  <tbody>\n",
       "    <tr>\n",
       "      <th>104259</th>\n",
       "      <th>r1_1</th>\n",
       "      <th>wait</th>\n",
       "      <td>NaN</td>\n",
       "    </tr>\n",
       "    <tr>\n",
       "      <th>104260</th>\n",
       "      <th>r1_1</th>\n",
       "      <th>start</th>\n",
       "      <td>6768.40</td>\n",
       "    </tr>\n",
       "    <tr>\n",
       "      <th>104261</th>\n",
       "      <th>r1_1</th>\n",
       "      <th>end</th>\n",
       "      <td>4.80</td>\n",
       "    </tr>\n",
       "    <tr>\n",
       "      <th>104262</th>\n",
       "      <th>m1_1</th>\n",
       "      <th>wait</th>\n",
       "      <td>41.37</td>\n",
       "    </tr>\n",
       "    <tr>\n",
       "      <th>104263</th>\n",
       "      <th>m1_1</th>\n",
       "      <th>start</th>\n",
       "      <td>0.00</td>\n",
       "    </tr>\n",
       "    <tr>\n",
       "      <th>104264</th>\n",
       "      <th>m1_1</th>\n",
       "      <th>end</th>\n",
       "      <td>3.00</td>\n",
       "    </tr>\n",
       "    <tr>\n",
       "      <th>104265</th>\n",
       "      <th>i7_1</th>\n",
       "      <th>wait</th>\n",
       "      <td>136.89</td>\n",
       "    </tr>\n",
       "    <tr>\n",
       "      <th>104266</th>\n",
       "      <th>i7_1</th>\n",
       "      <th>start</th>\n",
       "      <td>0.00</td>\n",
       "    </tr>\n",
       "    <tr>\n",
       "      <th>104267</th>\n",
       "      <th>i7_1</th>\n",
       "      <th>end</th>\n",
       "      <td>207.60</td>\n",
       "    </tr>\n",
       "    <tr>\n",
       "      <th>104268</th>\n",
       "      <th>i6_2</th>\n",
       "      <th>wait</th>\n",
       "      <td>0.00</td>\n",
       "    </tr>\n",
       "    <tr>\n",
       "      <th>104269</th>\n",
       "      <th>i6_2</th>\n",
       "      <th>start</th>\n",
       "      <td>0.00</td>\n",
       "    </tr>\n",
       "    <tr>\n",
       "      <th>104270</th>\n",
       "      <th>i6_2</th>\n",
       "      <th>end</th>\n",
       "      <td>26.84</td>\n",
       "    </tr>\n",
       "    <tr>\n",
       "      <th>104271</th>\n",
       "      <th>c4_4</th>\n",
       "      <th>wait</th>\n",
       "      <td>0.00</td>\n",
       "    </tr>\n",
       "  </tbody>\n",
       "</table>\n",
       "</div>"
      ],
      "text/plain": [
       "                            time_stamp\n",
       "       equipment_id action            \n",
       "104259 r1_1         wait           NaN\n",
       "104260 r1_1         start      6768.40\n",
       "104261 r1_1         end           4.80\n",
       "104262 m1_1         wait         41.37\n",
       "104263 m1_1         start         0.00\n",
       "104264 m1_1         end           3.00\n",
       "104265 i7_1         wait        136.89\n",
       "104266 i7_1         start         0.00\n",
       "104267 i7_1         end         207.60\n",
       "104268 i6_2         wait          0.00\n",
       "104269 i6_2         start         0.00\n",
       "104270 i6_2         end          26.84\n",
       "104271 c4_4         wait          0.00"
      ]
     },
     "execution_count": 174,
     "metadata": {},
     "output_type": "execute_result"
    }
   ],
   "source": [
    "test = machine_table[machine_table.package_id == 845184592067]\n",
    "test.set_index(['equipment_id', \"action\"], append=1)[[\"time_stamp\"]].diff()"
   ]
  }
 ],
 "metadata": {
  "kernelspec": {
   "display_name": "Python 3",
   "language": "python",
   "name": "python3"
  },
  "language_info": {
   "codemirror_mode": {
    "name": "ipython",
    "version": 3
   },
   "file_extension": ".py",
   "mimetype": "text/x-python",
   "name": "python",
   "nbconvert_exporter": "python",
   "pygments_lexer": "ipython3",
   "version": "3.6.1"
  }
 },
 "nbformat": 4,
 "nbformat_minor": 2
}
