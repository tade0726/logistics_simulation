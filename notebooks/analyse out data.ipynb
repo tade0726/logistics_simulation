{
 "cells": [
  {
   "cell_type": "code",
   "execution_count": 141,
   "metadata": {
    "collapsed": true
   },
   "outputs": [],
   "source": [
    "import sys\n",
    "sys.path.append(\"..\")\n",
    "import os\n",
    "from os.path import join, splitext\n",
    "\n",
    "import pandas as pd\n",
    "from src.db import SaveConfig"
   ]
  },
  {
   "cell_type": "code",
   "execution_count": 211,
   "metadata": {
    "collapsed": true
   },
   "outputs": [],
   "source": [
    "def reading_tables():\n",
    "    table_names = os.listdir(SaveConfig.OUT_DIR)\n",
    "    tables_dict = dict()\n",
    "    for name in table_names:\n",
    "        tables_dict[splitext(name)[0]] = pd.read_csv(join(SaveConfig.OUT_DIR, name))\n",
    "    return tables_dict"
   ]
  },
  {
   "cell_type": "code",
   "execution_count": 239,
   "metadata": {
    "collapsed": true
   },
   "outputs": [],
   "source": [
    "tables_dict = reading_tables()"
   ]
  },
  {
   "cell_type": "code",
   "execution_count": 240,
   "metadata": {
    "scrolled": true
   },
   "outputs": [
    {
     "data": {
      "text/plain": [
       "dict_keys(['pipeline_table', 'truck_table', 'machine_table'])"
      ]
     },
     "execution_count": 240,
     "metadata": {},
     "output_type": "execute_result"
    }
   ],
   "source": [
    "tables_dict.keys()"
   ]
  },
  {
   "cell_type": "code",
   "execution_count": 241,
   "metadata": {},
   "outputs": [],
   "source": [
    "pipeline_table = tables_dict[\"pipeline_table\"]"
   ]
  },
  {
   "cell_type": "code",
   "execution_count": 242,
   "metadata": {
    "collapsed": true
   },
   "outputs": [],
   "source": [
    "machine_table = tables_dict[\"machine_table\"]"
   ]
  },
  {
   "cell_type": "code",
   "execution_count": 243,
   "metadata": {
    "scrolled": false
   },
   "outputs": [
    {
     "name": "stdout",
     "output_type": "stream",
     "text": [
      "<class 'pandas.core.frame.DataFrame'>\n",
      "RangeIndex: 938391 entries, 0 to 938390\n",
      "Data columns (total 5 columns):\n",
      "equipment_id       938391 non-null object\n",
      "package_id         938391 non-null int64\n",
      "time_stamp         938391 non-null float64\n",
      "action             938391 non-null object\n",
      "real_time_stamp    938391 non-null object\n",
      "dtypes: float64(1), int64(1), object(3)\n",
      "memory usage: 35.8+ MB\n"
     ]
    }
   ],
   "source": [
    "machine_table.info()"
   ]
  },
  {
   "cell_type": "code",
   "execution_count": 244,
   "metadata": {
    "scrolled": true
   },
   "outputs": [
    {
     "data": {
      "text/plain": [
       "array(['r4_2', 'm2_2', 'i2_1', 'i1_2', 'c1_1', 'r2_1', 'm1_2', 'i2_2',\n",
       "       'r2_4', 'm1_4', 'r3_7', 'm2_7', 'i1_1', 'r2_2', 'e1_1', 'h1_1',\n",
       "       'x8_1', 'x1_1', 'i4_1', 'r4_8', 'm2_8', 'r3_4', 'm2_3', 'r3_6',\n",
       "       'm2_5', 'r1_1', 'm1_1', 'i2_3', 'r1_3', 'm1_3', 'r2_3', 'r1_2',\n",
       "       'r3_10', 'm2_9', 'r1_4', 'r4_3', 'm2_4', 'c1_3', 'r3_8', 'r4_4',\n",
       "       'r5_4', 'm3_2', 'x15_1', 'i4_4', 'r5_2', 'm3_1', 'c1_4', 'r3_3',\n",
       "       'r4_9', 'm2_10', 'c1_5', 'c1_6', 'c1_7', 'r5_1', 'r5_3', 'r3_1',\n",
       "       'm2_1', 'r3_5', 'r4_5', 'm2_6', 'r4_7', 'c1_8', 'c1_9', 'c1_10',\n",
       "       'r4_6', 'c1_11', 'r4_10', 'r3_9', 'c1_12', 'r4_1', 'c1_13', 'c1_14',\n",
       "       'c1_15', 'c1_16', 'c1_17', 'c1_18', 'c1_19', 'c1_20', 'c1_21',\n",
       "       'c1_22', 'c1_23', 'c1_24', 'c1_25', 'c1_27', 'c1_29', 'r3_2',\n",
       "       'c1_30', 'c1_31', 'c1_32', 'c1_33', 'c1_34', 'c1_35', 'c1_36',\n",
       "       'c1_37', 'c1_38', 'c1_39', 'c1_40', 'c1_41', 'c1_42', 'c1_43',\n",
       "       'c1_44', 'c1_45', 'c1_46', 'c1_47', 'c1_48', 'c1_49', 'c1_50',\n",
       "       'c2_4', 'i3_1', 'i3_2', 'c2_6', 'c2_8', 'c2_10', 'c2_12', 'c2_14',\n",
       "       'c2_16', 'c2_18', 'c2_20', 'c2_22', 'c2_24', 'c2_26', 'c2_28',\n",
       "       'c2_30', 'c2_32', 'c2_34', 'c2_36', 'c2_38', 'c2_40', 'c2_42',\n",
       "       'c2_44', 'c2_46', 'c2_48', 'c2_50', 'unload_error'], dtype=object)"
      ]
     },
     "execution_count": 244,
     "metadata": {},
     "output_type": "execute_result"
    }
   ],
   "source": [
    "machine_table.equipment_id.unique()"
   ]
  },
  {
   "cell_type": "code",
   "execution_count": 245,
   "metadata": {},
   "outputs": [
    {
     "data": {
      "text/html": [
       "<div>\n",
       "<style>\n",
       "    .dataframe thead tr:only-child th {\n",
       "        text-align: right;\n",
       "    }\n",
       "\n",
       "    .dataframe thead th {\n",
       "        text-align: left;\n",
       "    }\n",
       "\n",
       "    .dataframe tbody tr th {\n",
       "        vertical-align: top;\n",
       "    }\n",
       "</style>\n",
       "<table border=\"1\" class=\"dataframe\">\n",
       "  <thead>\n",
       "    <tr style=\"text-align: right;\">\n",
       "      <th></th>\n",
       "      <th>equipment_id</th>\n",
       "      <th>package_id</th>\n",
       "      <th>time_stamp</th>\n",
       "      <th>action</th>\n",
       "      <th>real_time_stamp</th>\n",
       "    </tr>\n",
       "  </thead>\n",
       "  <tbody>\n",
       "    <tr>\n",
       "      <th>897449</th>\n",
       "      <td>r3_1</td>\n",
       "      <td>615162036203</td>\n",
       "      <td>34771.2</td>\n",
       "      <td>end</td>\n",
       "      <td>2017-06-16 06:39:31.200</td>\n",
       "    </tr>\n",
       "    <tr>\n",
       "      <th>360915</th>\n",
       "      <td>r3_5</td>\n",
       "      <td>139606033910</td>\n",
       "      <td>9219.0</td>\n",
       "      <td>wait</td>\n",
       "      <td>2017-06-15 23:33:39.000</td>\n",
       "    </tr>\n",
       "    <tr>\n",
       "      <th>104865</th>\n",
       "      <td>r3_2</td>\n",
       "      <td>869203466225</td>\n",
       "      <td>3280.4</td>\n",
       "      <td>end</td>\n",
       "      <td>2017-06-15 21:54:40.400</td>\n",
       "    </tr>\n",
       "    <tr>\n",
       "      <th>916314</th>\n",
       "      <td>unload_error</td>\n",
       "      <td>602844291416</td>\n",
       "      <td>44213.8</td>\n",
       "      <td>wait</td>\n",
       "      <td>2017-06-16 09:16:53.800</td>\n",
       "    </tr>\n",
       "    <tr>\n",
       "      <th>407524</th>\n",
       "      <td>r4_4</td>\n",
       "      <td>974615763916</td>\n",
       "      <td>17939.2</td>\n",
       "      <td>start</td>\n",
       "      <td>2017-06-16 01:58:59.200</td>\n",
       "    </tr>\n",
       "  </tbody>\n",
       "</table>\n",
       "</div>"
      ],
      "text/plain": [
       "        equipment_id    package_id  time_stamp action          real_time_stamp\n",
       "897449          r3_1  615162036203     34771.2    end  2017-06-16 06:39:31.200\n",
       "360915          r3_5  139606033910      9219.0   wait  2017-06-15 23:33:39.000\n",
       "104865          r3_2  869203466225      3280.4    end  2017-06-15 21:54:40.400\n",
       "916314  unload_error  602844291416     44213.8   wait  2017-06-16 09:16:53.800\n",
       "407524          r4_4  974615763916     17939.2  start  2017-06-16 01:58:59.200"
      ]
     },
     "execution_count": 245,
     "metadata": {},
     "output_type": "execute_result"
    }
   ],
   "source": [
    "machine_table.sample(5)"
   ]
  },
  {
   "cell_type": "code",
   "execution_count": 246,
   "metadata": {
    "collapsed": true
   },
   "outputs": [],
   "source": [
    "test = machine_table[machine_table.package_id == 958205218583]\n",
    "test_diff = test.set_index(['equipment_id', \"action\"], append=1)[[\"time_stamp\"]].diff()"
   ]
  },
  {
   "cell_type": "code",
   "execution_count": 247,
   "metadata": {},
   "outputs": [
    {
     "data": {
      "text/html": [
       "<div>\n",
       "<style>\n",
       "    .dataframe thead tr:only-child th {\n",
       "        text-align: right;\n",
       "    }\n",
       "\n",
       "    .dataframe thead th {\n",
       "        text-align: left;\n",
       "    }\n",
       "\n",
       "    .dataframe tbody tr th {\n",
       "        vertical-align: top;\n",
       "    }\n",
       "</style>\n",
       "<table border=\"1\" class=\"dataframe\">\n",
       "  <thead>\n",
       "    <tr style=\"text-align: right;\">\n",
       "      <th></th>\n",
       "      <th>equipment_id</th>\n",
       "      <th>package_id</th>\n",
       "      <th>time_stamp</th>\n",
       "      <th>action</th>\n",
       "      <th>real_time_stamp</th>\n",
       "    </tr>\n",
       "  </thead>\n",
       "  <tbody>\n",
       "    <tr>\n",
       "      <th>28255</th>\n",
       "      <td>r2_2</td>\n",
       "      <td>958205218583</td>\n",
       "      <td>35172.00</td>\n",
       "      <td>wait</td>\n",
       "      <td>2017-06-16 06:46:12.000</td>\n",
       "    </tr>\n",
       "    <tr>\n",
       "      <th>28256</th>\n",
       "      <td>r2_2</td>\n",
       "      <td>958205218583</td>\n",
       "      <td>46633.20</td>\n",
       "      <td>start</td>\n",
       "      <td>2017-06-16 09:57:13.200</td>\n",
       "    </tr>\n",
       "    <tr>\n",
       "      <th>28257</th>\n",
       "      <td>r2_2</td>\n",
       "      <td>958205218583</td>\n",
       "      <td>46638.00</td>\n",
       "      <td>end</td>\n",
       "      <td>2017-06-16 09:57:18.000</td>\n",
       "    </tr>\n",
       "    <tr>\n",
       "      <th>28258</th>\n",
       "      <td>m1_2</td>\n",
       "      <td>958205218583</td>\n",
       "      <td>46680.26</td>\n",
       "      <td>wait</td>\n",
       "      <td>2017-06-16 09:58:00.260</td>\n",
       "    </tr>\n",
       "    <tr>\n",
       "      <th>28259</th>\n",
       "      <td>m1_2</td>\n",
       "      <td>958205218583</td>\n",
       "      <td>46680.26</td>\n",
       "      <td>start</td>\n",
       "      <td>2017-06-16 09:58:00.260</td>\n",
       "    </tr>\n",
       "    <tr>\n",
       "      <th>28260</th>\n",
       "      <td>m1_2</td>\n",
       "      <td>958205218583</td>\n",
       "      <td>46683.26</td>\n",
       "      <td>end</td>\n",
       "      <td>2017-06-16 09:58:03.260</td>\n",
       "    </tr>\n",
       "    <tr>\n",
       "      <th>28261</th>\n",
       "      <td>i2_2</td>\n",
       "      <td>958205218583</td>\n",
       "      <td>46829.80</td>\n",
       "      <td>wait</td>\n",
       "      <td>2017-06-16 10:00:29.800</td>\n",
       "    </tr>\n",
       "    <tr>\n",
       "      <th>28262</th>\n",
       "      <td>i2_2</td>\n",
       "      <td>958205218583</td>\n",
       "      <td>46829.80</td>\n",
       "      <td>start</td>\n",
       "      <td>2017-06-16 10:00:29.800</td>\n",
       "    </tr>\n",
       "    <tr>\n",
       "      <th>28263</th>\n",
       "      <td>i2_2</td>\n",
       "      <td>958205218583</td>\n",
       "      <td>46970.73</td>\n",
       "      <td>end</td>\n",
       "      <td>2017-06-16 10:02:50.730</td>\n",
       "    </tr>\n",
       "    <tr>\n",
       "      <th>28264</th>\n",
       "      <td>i1_1</td>\n",
       "      <td>958205218583</td>\n",
       "      <td>46970.73</td>\n",
       "      <td>wait</td>\n",
       "      <td>2017-06-16 10:02:50.730</td>\n",
       "    </tr>\n",
       "    <tr>\n",
       "      <th>28265</th>\n",
       "      <td>i1_1</td>\n",
       "      <td>958205218583</td>\n",
       "      <td>46970.73</td>\n",
       "      <td>start</td>\n",
       "      <td>2017-06-16 10:02:50.730</td>\n",
       "    </tr>\n",
       "    <tr>\n",
       "      <th>28266</th>\n",
       "      <td>i1_1</td>\n",
       "      <td>958205218583</td>\n",
       "      <td>46997.57</td>\n",
       "      <td>end</td>\n",
       "      <td>2017-06-16 10:03:17.570</td>\n",
       "    </tr>\n",
       "    <tr>\n",
       "      <th>28267</th>\n",
       "      <td>c1_29</td>\n",
       "      <td>958205218583</td>\n",
       "      <td>46997.57</td>\n",
       "      <td>wait</td>\n",
       "      <td>2017-06-16 10:03:17.570</td>\n",
       "    </tr>\n",
       "    <tr>\n",
       "      <th>28268</th>\n",
       "      <td>c1_29</td>\n",
       "      <td>958205218583</td>\n",
       "      <td>46997.57</td>\n",
       "      <td>wait</td>\n",
       "      <td>2017-06-16 10:03:17.570</td>\n",
       "    </tr>\n",
       "  </tbody>\n",
       "</table>\n",
       "</div>"
      ],
      "text/plain": [
       "      equipment_id    package_id  time_stamp action          real_time_stamp\n",
       "28255         r2_2  958205218583    35172.00   wait  2017-06-16 06:46:12.000\n",
       "28256         r2_2  958205218583    46633.20  start  2017-06-16 09:57:13.200\n",
       "28257         r2_2  958205218583    46638.00    end  2017-06-16 09:57:18.000\n",
       "28258         m1_2  958205218583    46680.26   wait  2017-06-16 09:58:00.260\n",
       "28259         m1_2  958205218583    46680.26  start  2017-06-16 09:58:00.260\n",
       "28260         m1_2  958205218583    46683.26    end  2017-06-16 09:58:03.260\n",
       "28261         i2_2  958205218583    46829.80   wait  2017-06-16 10:00:29.800\n",
       "28262         i2_2  958205218583    46829.80  start  2017-06-16 10:00:29.800\n",
       "28263         i2_2  958205218583    46970.73    end  2017-06-16 10:02:50.730\n",
       "28264         i1_1  958205218583    46970.73   wait  2017-06-16 10:02:50.730\n",
       "28265         i1_1  958205218583    46970.73  start  2017-06-16 10:02:50.730\n",
       "28266         i1_1  958205218583    46997.57    end  2017-06-16 10:03:17.570\n",
       "28267        c1_29  958205218583    46997.57   wait  2017-06-16 10:03:17.570\n",
       "28268        c1_29  958205218583    46997.57   wait  2017-06-16 10:03:17.570"
      ]
     },
     "execution_count": 247,
     "metadata": {},
     "output_type": "execute_result"
    }
   ],
   "source": [
    "test"
   ]
  },
  {
   "cell_type": "code",
   "execution_count": 248,
   "metadata": {
    "collapsed": true
   },
   "outputs": [],
   "source": [
    "test_diff = test_diff.reset_index(\"action\")"
   ]
  },
  {
   "cell_type": "code",
   "execution_count": 249,
   "metadata": {},
   "outputs": [
    {
     "data": {
      "text/html": [
       "<div>\n",
       "<style>\n",
       "    .dataframe thead tr:only-child th {\n",
       "        text-align: right;\n",
       "    }\n",
       "\n",
       "    .dataframe thead th {\n",
       "        text-align: left;\n",
       "    }\n",
       "\n",
       "    .dataframe tbody tr th {\n",
       "        vertical-align: top;\n",
       "    }\n",
       "</style>\n",
       "<table border=\"1\" class=\"dataframe\">\n",
       "  <thead>\n",
       "    <tr style=\"text-align: right;\">\n",
       "      <th></th>\n",
       "      <th></th>\n",
       "      <th>action</th>\n",
       "      <th>time_stamp</th>\n",
       "    </tr>\n",
       "    <tr>\n",
       "      <th></th>\n",
       "      <th>equipment_id</th>\n",
       "      <th></th>\n",
       "      <th></th>\n",
       "    </tr>\n",
       "  </thead>\n",
       "  <tbody>\n",
       "    <tr>\n",
       "      <th>28255</th>\n",
       "      <th>r2_2</th>\n",
       "      <td>wait</td>\n",
       "      <td>NaN</td>\n",
       "    </tr>\n",
       "    <tr>\n",
       "      <th>28256</th>\n",
       "      <th>r2_2</th>\n",
       "      <td>start</td>\n",
       "      <td>11461.20</td>\n",
       "    </tr>\n",
       "    <tr>\n",
       "      <th>28257</th>\n",
       "      <th>r2_2</th>\n",
       "      <td>end</td>\n",
       "      <td>4.80</td>\n",
       "    </tr>\n",
       "    <tr>\n",
       "      <th>28258</th>\n",
       "      <th>m1_2</th>\n",
       "      <td>wait</td>\n",
       "      <td>42.26</td>\n",
       "    </tr>\n",
       "    <tr>\n",
       "      <th>28259</th>\n",
       "      <th>m1_2</th>\n",
       "      <td>start</td>\n",
       "      <td>0.00</td>\n",
       "    </tr>\n",
       "    <tr>\n",
       "      <th>28260</th>\n",
       "      <th>m1_2</th>\n",
       "      <td>end</td>\n",
       "      <td>3.00</td>\n",
       "    </tr>\n",
       "    <tr>\n",
       "      <th>28261</th>\n",
       "      <th>i2_2</th>\n",
       "      <td>wait</td>\n",
       "      <td>146.54</td>\n",
       "    </tr>\n",
       "    <tr>\n",
       "      <th>28262</th>\n",
       "      <th>i2_2</th>\n",
       "      <td>start</td>\n",
       "      <td>0.00</td>\n",
       "    </tr>\n",
       "    <tr>\n",
       "      <th>28263</th>\n",
       "      <th>i2_2</th>\n",
       "      <td>end</td>\n",
       "      <td>140.93</td>\n",
       "    </tr>\n",
       "    <tr>\n",
       "      <th>28264</th>\n",
       "      <th>i1_1</th>\n",
       "      <td>wait</td>\n",
       "      <td>0.00</td>\n",
       "    </tr>\n",
       "    <tr>\n",
       "      <th>28265</th>\n",
       "      <th>i1_1</th>\n",
       "      <td>start</td>\n",
       "      <td>0.00</td>\n",
       "    </tr>\n",
       "    <tr>\n",
       "      <th>28266</th>\n",
       "      <th>i1_1</th>\n",
       "      <td>end</td>\n",
       "      <td>26.84</td>\n",
       "    </tr>\n",
       "    <tr>\n",
       "      <th>28267</th>\n",
       "      <th>c1_29</th>\n",
       "      <td>wait</td>\n",
       "      <td>0.00</td>\n",
       "    </tr>\n",
       "    <tr>\n",
       "      <th>28268</th>\n",
       "      <th>c1_29</th>\n",
       "      <td>wait</td>\n",
       "      <td>0.00</td>\n",
       "    </tr>\n",
       "  </tbody>\n",
       "</table>\n",
       "</div>"
      ],
      "text/plain": [
       "                   action  time_stamp\n",
       "      equipment_id                   \n",
       "28255 r2_2           wait         NaN\n",
       "28256 r2_2          start    11461.20\n",
       "28257 r2_2            end        4.80\n",
       "28258 m1_2           wait       42.26\n",
       "28259 m1_2          start        0.00\n",
       "28260 m1_2            end        3.00\n",
       "28261 i2_2           wait      146.54\n",
       "28262 i2_2          start        0.00\n",
       "28263 i2_2            end      140.93\n",
       "28264 i1_1           wait        0.00\n",
       "28265 i1_1          start        0.00\n",
       "28266 i1_1            end       26.84\n",
       "28267 c1_29          wait        0.00\n",
       "28268 c1_29          wait        0.00"
      ]
     },
     "execution_count": 249,
     "metadata": {},
     "output_type": "execute_result"
    }
   ],
   "source": [
    "test_diff"
   ]
  },
  {
   "cell_type": "code",
   "execution_count": 250,
   "metadata": {
    "scrolled": true
   },
   "outputs": [
    {
     "data": {
      "text/html": [
       "<div>\n",
       "<style>\n",
       "    .dataframe thead tr:only-child th {\n",
       "        text-align: right;\n",
       "    }\n",
       "\n",
       "    .dataframe thead th {\n",
       "        text-align: left;\n",
       "    }\n",
       "\n",
       "    .dataframe tbody tr th {\n",
       "        vertical-align: top;\n",
       "    }\n",
       "</style>\n",
       "<table border=\"1\" class=\"dataframe\">\n",
       "  <thead>\n",
       "    <tr style=\"text-align: right;\">\n",
       "      <th></th>\n",
       "      <th></th>\n",
       "      <th>action</th>\n",
       "      <th>time_stamp</th>\n",
       "    </tr>\n",
       "    <tr>\n",
       "      <th></th>\n",
       "      <th>equipment_id</th>\n",
       "      <th></th>\n",
       "      <th></th>\n",
       "    </tr>\n",
       "  </thead>\n",
       "  <tbody>\n",
       "    <tr>\n",
       "      <th>28256</th>\n",
       "      <th>r2_2</th>\n",
       "      <td>start</td>\n",
       "      <td>11461.2</td>\n",
       "    </tr>\n",
       "    <tr>\n",
       "      <th>28259</th>\n",
       "      <th>m1_2</th>\n",
       "      <td>start</td>\n",
       "      <td>0.0</td>\n",
       "    </tr>\n",
       "    <tr>\n",
       "      <th>28262</th>\n",
       "      <th>i2_2</th>\n",
       "      <td>start</td>\n",
       "      <td>0.0</td>\n",
       "    </tr>\n",
       "    <tr>\n",
       "      <th>28265</th>\n",
       "      <th>i1_1</th>\n",
       "      <td>start</td>\n",
       "      <td>0.0</td>\n",
       "    </tr>\n",
       "  </tbody>\n",
       "</table>\n",
       "</div>"
      ],
      "text/plain": [
       "                   action  time_stamp\n",
       "      equipment_id                   \n",
       "28256 r2_2          start     11461.2\n",
       "28259 m1_2          start         0.0\n",
       "28262 i2_2          start         0.0\n",
       "28265 i1_1          start         0.0"
      ]
     },
     "execution_count": 250,
     "metadata": {},
     "output_type": "execute_result"
    }
   ],
   "source": [
    "test_diff[test_diff.action == \"start\"]"
   ]
  },
  {
   "cell_type": "markdown",
   "metadata": {},
   "source": [
    "## checking package numbers"
   ]
  },
  {
   "cell_type": "code",
   "execution_count": 251,
   "metadata": {
    "collapsed": true
   },
   "outputs": [],
   "source": [
    "machine_table_split = dict(list(machine_table.groupby(\"package_id\")))"
   ]
  },
  {
   "cell_type": "code",
   "execution_count": 254,
   "metadata": {
    "collapsed": true
   },
   "outputs": [],
   "source": [
    "truck_table = tables_dict[\"truck_table\"]"
   ]
  },
  {
   "cell_type": "code",
   "execution_count": 258,
   "metadata": {},
   "outputs": [],
   "source": [
    "truck_count_table = truck_table[truck_table.action == \"start\"]"
   ]
  },
  {
   "cell_type": "code",
   "execution_count": 259,
   "metadata": {},
   "outputs": [
    {
     "data": {
      "text/plain": [
       "222619"
      ]
     },
     "execution_count": 259,
     "metadata": {},
     "output_type": "execute_result"
    }
   ],
   "source": [
    "truck_count_table.store_size.sum()"
   ]
  },
  {
   "cell_type": "code",
   "execution_count": 252,
   "metadata": {},
   "outputs": [
    {
     "data": {
      "text/plain": [
       "222619"
      ]
     },
     "execution_count": 252,
     "metadata": {},
     "output_type": "execute_result"
    }
   ],
   "source": [
    "len(machine_table_spilt)"
   ]
  },
  {
   "cell_type": "code",
   "execution_count": 253,
   "metadata": {},
   "outputs": [
    {
     "data": {
      "text/plain": [
       "222619"
      ]
     },
     "execution_count": 253,
     "metadata": {},
     "output_type": "execute_result"
    }
   ],
   "source": [
    "len(pipeline_table.package_id.unique())"
   ]
  },
  {
   "cell_type": "code",
   "execution_count": null,
   "metadata": {
    "collapsed": true
   },
   "outputs": [],
   "source": [
    "machine_table"
   ]
  }
 ],
 "metadata": {
  "kernelspec": {
   "display_name": "Python 3",
   "language": "python",
   "name": "python3"
  },
  "language_info": {
   "codemirror_mode": {
    "name": "ipython",
    "version": 3
   },
   "file_extension": ".py",
   "mimetype": "text/x-python",
   "name": "python",
   "nbconvert_exporter": "python",
   "pygments_lexer": "ipython3",
   "version": "3.6.1"
  }
 },
 "nbformat": 4,
 "nbformat_minor": 2
}
