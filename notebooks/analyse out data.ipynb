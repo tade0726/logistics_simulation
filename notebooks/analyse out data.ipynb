{
 "cells": [
  {
   "cell_type": "code",
   "execution_count": 141,
   "metadata": {},
   "outputs": [],
   "source": [
    "import sys\n",
    "sys.path.append(\"..\")\n",
    "import os\n",
    "from os.path import join, splitext\n",
    "\n",
    "import pandas as pd\n",
    "from src.db import SaveConfig"
   ]
  },
  {
   "cell_type": "code",
   "execution_count": 142,
   "metadata": {
    "collapsed": true
   },
   "outputs": [],
   "source": [
    "def reading_tables():\n",
    "    table_names = os.listdir(SaveConfig.OUT_DIR)\n",
    "    tables_dict = dict()\n",
    "    for name in table_names:\n",
    "        tables_dict[splitext(name)[0]] = pd.read_csv(join(SaveConfig.OUT_DIR, name))\n",
    "    return tables_dict"
   ]
  },
  {
   "cell_type": "code",
   "execution_count": 143,
   "metadata": {},
   "outputs": [],
   "source": [
    "tables_dict = reading_tables()"
   ]
  },
  {
   "cell_type": "code",
   "execution_count": 144,
   "metadata": {
    "scrolled": true
   },
   "outputs": [
    {
     "data": {
      "text/plain": [
       "dict_keys(['pipeline_table', 'truck_table', 'machine_table'])"
      ]
     },
     "execution_count": 144,
     "metadata": {},
     "output_type": "execute_result"
    }
   ],
   "source": [
    "tables_dict.keys()"
   ]
  },
  {
   "cell_type": "code",
   "execution_count": 145,
   "metadata": {},
   "outputs": [],
   "source": [
    "machine_table = tables_dict[\"machine_table\"]"
   ]
  },
  {
   "cell_type": "code",
   "execution_count": 146,
   "metadata": {
    "scrolled": false
   },
   "outputs": [
    {
     "name": "stdout",
     "output_type": "stream",
     "text": [
      "<class 'pandas.core.frame.DataFrame'>\n",
      "RangeIndex: 821259 entries, 0 to 821258\n",
      "Data columns (total 5 columns):\n",
      "equipment_id       821259 non-null object\n",
      "package_id         821259 non-null int64\n",
      "time_stamp         821259 non-null float64\n",
      "action             821259 non-null object\n",
      "real_time_stamp    821259 non-null object\n",
      "dtypes: float64(1), int64(1), object(3)\n",
      "memory usage: 31.3+ MB\n"
     ]
    }
   ],
   "source": [
    "machine_table.info()"
   ]
  },
  {
   "cell_type": "code",
   "execution_count": 207,
   "metadata": {},
   "outputs": [
    {
     "data": {
      "text/html": [
       "<div>\n",
       "<style>\n",
       "    .dataframe thead tr:only-child th {\n",
       "        text-align: right;\n",
       "    }\n",
       "\n",
       "    .dataframe thead th {\n",
       "        text-align: left;\n",
       "    }\n",
       "\n",
       "    .dataframe tbody tr th {\n",
       "        vertical-align: top;\n",
       "    }\n",
       "</style>\n",
       "<table border=\"1\" class=\"dataframe\">\n",
       "  <thead>\n",
       "    <tr style=\"text-align: right;\">\n",
       "      <th></th>\n",
       "      <th>equipment_id</th>\n",
       "      <th>package_id</th>\n",
       "      <th>time_stamp</th>\n",
       "      <th>action</th>\n",
       "      <th>real_time_stamp</th>\n",
       "    </tr>\n",
       "  </thead>\n",
       "  <tbody>\n",
       "    <tr>\n",
       "      <th>513484</th>\n",
       "      <td>r4_1</td>\n",
       "      <td>845573158717</td>\n",
       "      <td>22171.2</td>\n",
       "      <td>start</td>\n",
       "      <td>2017-06-16 03:09:31.200</td>\n",
       "    </tr>\n",
       "    <tr>\n",
       "      <th>394863</th>\n",
       "      <td>r3_7</td>\n",
       "      <td>86458297435</td>\n",
       "      <td>11079.0</td>\n",
       "      <td>wait</td>\n",
       "      <td>2017-06-16 00:04:39.000</td>\n",
       "    </tr>\n",
       "    <tr>\n",
       "      <th>60260</th>\n",
       "      <td>i7_1</td>\n",
       "      <td>845180865035</td>\n",
       "      <td>12044.7</td>\n",
       "      <td>end</td>\n",
       "      <td>2017-06-16 00:20:44.700</td>\n",
       "    </tr>\n",
       "    <tr>\n",
       "      <th>304141</th>\n",
       "      <td>r3_3</td>\n",
       "      <td>370843300934</td>\n",
       "      <td>13444.4</td>\n",
       "      <td>start</td>\n",
       "      <td>2017-06-16 00:44:04.400</td>\n",
       "    </tr>\n",
       "    <tr>\n",
       "      <th>660703</th>\n",
       "      <td>r3_6</td>\n",
       "      <td>132958493780</td>\n",
       "      <td>30164.8</td>\n",
       "      <td>start</td>\n",
       "      <td>2017-06-16 05:22:44.800</td>\n",
       "    </tr>\n",
       "  </tbody>\n",
       "</table>\n",
       "</div>"
      ],
      "text/plain": [
       "       equipment_id    package_id  time_stamp action          real_time_stamp\n",
       "513484         r4_1  845573158717     22171.2  start  2017-06-16 03:09:31.200\n",
       "394863         r3_7   86458297435     11079.0   wait  2017-06-16 00:04:39.000\n",
       "60260          i7_1  845180865035     12044.7    end  2017-06-16 00:20:44.700\n",
       "304141         r3_3  370843300934     13444.4  start  2017-06-16 00:44:04.400\n",
       "660703         r3_6  132958493780     30164.8  start  2017-06-16 05:22:44.800"
      ]
     },
     "execution_count": 207,
     "metadata": {},
     "output_type": "execute_result"
    }
   ],
   "source": [
    "machine_table.sample(5)"
   ]
  },
  {
   "cell_type": "code",
   "execution_count": 208,
   "metadata": {},
   "outputs": [],
   "source": [
    "test = machine_table[machine_table.package_id == 845180865035]\n",
    "test_diff = test.set_index(['equipment_id', \"action\"], append=1)[[\"time_stamp\"]].diff()"
   ]
  },
  {
   "cell_type": "code",
   "execution_count": 209,
   "metadata": {},
   "outputs": [],
   "source": [
    "test_diff = test_diff.reset_index(\"action\")"
   ]
  },
  {
   "cell_type": "code",
   "execution_count": 210,
   "metadata": {},
   "outputs": [
    {
     "data": {
      "text/html": [
       "<div>\n",
       "<style>\n",
       "    .dataframe thead tr:only-child th {\n",
       "        text-align: right;\n",
       "    }\n",
       "\n",
       "    .dataframe thead th {\n",
       "        text-align: left;\n",
       "    }\n",
       "\n",
       "    .dataframe tbody tr th {\n",
       "        vertical-align: top;\n",
       "    }\n",
       "</style>\n",
       "<table border=\"1\" class=\"dataframe\">\n",
       "  <thead>\n",
       "    <tr style=\"text-align: right;\">\n",
       "      <th></th>\n",
       "      <th></th>\n",
       "      <th>action</th>\n",
       "      <th>time_stamp</th>\n",
       "    </tr>\n",
       "    <tr>\n",
       "      <th></th>\n",
       "      <th>equipment_id</th>\n",
       "      <th></th>\n",
       "      <th></th>\n",
       "    </tr>\n",
       "  </thead>\n",
       "  <tbody>\n",
       "    <tr>\n",
       "      <th>60253</th>\n",
       "      <th>r1_4</th>\n",
       "      <td>start</td>\n",
       "      <td>4506.6</td>\n",
       "    </tr>\n",
       "    <tr>\n",
       "      <th>60256</th>\n",
       "      <th>m1_3</th>\n",
       "      <td>start</td>\n",
       "      <td>0.0</td>\n",
       "    </tr>\n",
       "    <tr>\n",
       "      <th>60259</th>\n",
       "      <th>i7_1</th>\n",
       "      <td>start</td>\n",
       "      <td>0.0</td>\n",
       "    </tr>\n",
       "  </tbody>\n",
       "</table>\n",
       "</div>"
      ],
      "text/plain": [
       "                   action  time_stamp\n",
       "      equipment_id                   \n",
       "60253 r1_4          start      4506.6\n",
       "60256 m1_3          start         0.0\n",
       "60259 i7_1          start         0.0"
      ]
     },
     "execution_count": 210,
     "metadata": {},
     "output_type": "execute_result"
    }
   ],
   "source": [
    "test_diff[test_diff.action == \"start\"]"
   ]
  }
 ],
 "metadata": {
  "kernelspec": {
   "display_name": "Python 3",
   "language": "python",
   "name": "python3"
  },
  "language_info": {
   "codemirror_mode": {
    "name": "ipython",
    "version": 3
   },
   "file_extension": ".py",
   "mimetype": "text/x-python",
   "name": "python",
   "nbconvert_exporter": "python",
   "pygments_lexer": "ipython3",
   "version": "3.6.1"
  }
 },
 "nbformat": 4,
 "nbformat_minor": 2
}
