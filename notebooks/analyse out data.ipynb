{
 "cells": [
  {
   "cell_type": "code",
   "execution_count": 141,
   "metadata": {
    "collapsed": true
   },
   "outputs": [],
   "source": [
    "import sys\n",
    "sys.path.append(\"..\")\n",
    "import os\n",
    "from os.path import join, splitext\n",
    "\n",
    "import pandas as pd\n",
    "from src.db import SaveConfig"
   ]
  },
  {
   "cell_type": "code",
   "execution_count": 211,
   "metadata": {
    "collapsed": true
   },
   "outputs": [],
   "source": [
    "def reading_tables():\n",
    "    table_names = os.listdir(SaveConfig.OUT_DIR)\n",
    "    tables_dict = dict()\n",
    "    for name in table_names:\n",
    "        tables_dict[splitext(name)[0]] = pd.read_csv(join(SaveConfig.OUT_DIR, name))\n",
    "    return tables_dict"
   ]
  },
  {
   "cell_type": "code",
   "execution_count": 212,
   "metadata": {
    "collapsed": true
   },
   "outputs": [],
   "source": [
    "tables_dict = reading_tables()"
   ]
  },
  {
   "cell_type": "code",
   "execution_count": 213,
   "metadata": {
    "scrolled": true
   },
   "outputs": [
    {
     "data": {
      "text/plain": [
       "dict_keys(['pipeline_table', 'truck_table', 'machine_table'])"
      ]
     },
     "execution_count": 213,
     "metadata": {},
     "output_type": "execute_result"
    }
   ],
   "source": [
    "tables_dict.keys()"
   ]
  },
  {
   "cell_type": "code",
   "execution_count": 225,
   "metadata": {},
   "outputs": [],
   "source": [
    "pipeline_table = tables_dict[\"pipeline_table\"]"
   ]
  },
  {
   "cell_type": "code",
   "execution_count": 214,
   "metadata": {
    "collapsed": true
   },
   "outputs": [],
   "source": [
    "machine_table = tables_dict[\"machine_table\"]"
   ]
  },
  {
   "cell_type": "code",
   "execution_count": 215,
   "metadata": {
    "scrolled": false
   },
   "outputs": [
    {
     "name": "stdout",
     "output_type": "stream",
     "text": [
      "<class 'pandas.core.frame.DataFrame'>\n",
      "RangeIndex: 821259 entries, 0 to 821258\n",
      "Data columns (total 5 columns):\n",
      "equipment_id       821259 non-null object\n",
      "package_id         821259 non-null int64\n",
      "time_stamp         821259 non-null float64\n",
      "action             821259 non-null object\n",
      "real_time_stamp    821259 non-null object\n",
      "dtypes: float64(1), int64(1), object(3)\n",
      "memory usage: 31.3+ MB\n"
     ]
    }
   ],
   "source": [
    "machine_table.info()"
   ]
  },
  {
   "cell_type": "code",
   "execution_count": 223,
   "metadata": {},
   "outputs": [
    {
     "data": {
      "text/plain": [
       "array(['r3_1', 'm2_1', 'i2_1', 'i1_2', 'c1_1', 'r1_4', 'm1_3', 'i2_3',\n",
       "       'i1_1', 'r3_8', 'm2_7', 'r4_9', 'm2_10', 'r5_2', 'm3_1', 'x15_1',\n",
       "       'i4_4', 'r2_4', 'm1_4', 'i2_2', 'e1_1', 'h1_1', 'x8_1', 'x1_1',\n",
       "       'i4_1', 'r1_2', 'm1_1', 'r4_7', 'm2_8', 'r1_1', 'r2_3', 'r2_2',\n",
       "       'm1_2', 'r1_3', 'r3_3', 'm2_3', 'r3_5', 'm2_5', 'r3_10', 'm2_9',\n",
       "       'c1_3', 'r4_2', 'm2_2', 'r2_1', 'r4_6', 'm2_6', 'r3_6', 'c1_4',\n",
       "       'r3_9', 'r3_7', 'r4_10', 'r5_1', 'c1_5', 'c1_6', 'c1_7', 'r5_3',\n",
       "       'm3_2', 'r4_8', 'r4_1', 'r4_4', 'm2_4', 'c1_8', 'c1_9', 'c1_10',\n",
       "       'c1_11', 'r3_2', 'r3_4', 'c1_12', 'c1_13', 'c1_14', 'c1_15',\n",
       "       'c1_16', 'c1_17', 'c1_18', 'c1_19', 'c1_20', 'r5_4', 'c1_21',\n",
       "       'c1_22', 'r4_3', 'c1_23', 'c1_24', 'c1_25', 'c1_27', 'c1_29',\n",
       "       'c1_30', 'c1_31', 'c1_32', 'c1_33', 'c1_34', 'c1_35', 'c1_36',\n",
       "       'c1_37', 'c1_38', 'c1_39', 'c1_40', 'c1_41', 'c1_42', 'c1_43',\n",
       "       'c1_44', 'c1_45', 'c1_46', 'c1_47', 'c1_48', 'c1_49', 'c1_50',\n",
       "       'c2_1', 'i3_2', 'i3_1', 'r4_5', 'c2_25', 'c2_49', 'i7_3', 'c3_42',\n",
       "       'x16_1', 'i5_1', 'i8_2', 'i8_1', 'i7_1', 'i7_2', 'e2_1', 'h2_1',\n",
       "       'x9_1', 'x4_1', 'x5_1', 'i5_4', 'c3_44', 'c3_46', 'c3_47', 'c3_49',\n",
       "       'c4_1', 'i6_1', 'i6_2', 'c4_2', 'c4_3', 'c4_4', 'c4_13', 'c4_16',\n",
       "       'c4_17', 'c4_20', 'c4_24', 'c2_4', 'c2_6', 'c2_8', 'c2_10', 'c2_12',\n",
       "       'c2_14', 'c2_16', 'c2_18', 'c2_20', 'c2_22', 'c2_24', 'c2_26',\n",
       "       'c2_28', 'c2_30', 'c2_32', 'c2_34', 'c2_36', 'c2_38', 'c2_40',\n",
       "       'c2_42', 'c2_44', 'c2_46', 'c2_48', 'c2_50'], dtype=object)"
      ]
     },
     "execution_count": 223,
     "metadata": {},
     "output_type": "execute_result"
    }
   ],
   "source": [
    "machine_table.equipment_id.unique()"
   ]
  },
  {
   "cell_type": "code",
   "execution_count": 216,
   "metadata": {},
   "outputs": [
    {
     "data": {
      "text/html": [
       "<div>\n",
       "<style>\n",
       "    .dataframe thead tr:only-child th {\n",
       "        text-align: right;\n",
       "    }\n",
       "\n",
       "    .dataframe thead th {\n",
       "        text-align: left;\n",
       "    }\n",
       "\n",
       "    .dataframe tbody tr th {\n",
       "        vertical-align: top;\n",
       "    }\n",
       "</style>\n",
       "<table border=\"1\" class=\"dataframe\">\n",
       "  <thead>\n",
       "    <tr style=\"text-align: right;\">\n",
       "      <th></th>\n",
       "      <th>equipment_id</th>\n",
       "      <th>package_id</th>\n",
       "      <th>time_stamp</th>\n",
       "      <th>action</th>\n",
       "      <th>real_time_stamp</th>\n",
       "    </tr>\n",
       "  </thead>\n",
       "  <tbody>\n",
       "    <tr>\n",
       "      <th>760863</th>\n",
       "      <td>r3_2</td>\n",
       "      <td>786587035231</td>\n",
       "      <td>24375.00</td>\n",
       "      <td>wait</td>\n",
       "      <td>2017-06-16 03:46:15.000</td>\n",
       "    </tr>\n",
       "    <tr>\n",
       "      <th>26191</th>\n",
       "      <td>i1_1</td>\n",
       "      <td>958205218583</td>\n",
       "      <td>50677.04</td>\n",
       "      <td>end</td>\n",
       "      <td>2017-06-16 11:04:37.040</td>\n",
       "    </tr>\n",
       "    <tr>\n",
       "      <th>523098</th>\n",
       "      <td>r4_8</td>\n",
       "      <td>824350487011</td>\n",
       "      <td>13410.00</td>\n",
       "      <td>wait</td>\n",
       "      <td>2017-06-16 00:43:30.000</td>\n",
       "    </tr>\n",
       "    <tr>\n",
       "      <th>348401</th>\n",
       "      <td>r4_5</td>\n",
       "      <td>40145587619</td>\n",
       "      <td>16587.60</td>\n",
       "      <td>end</td>\n",
       "      <td>2017-06-16 01:36:27.600</td>\n",
       "    </tr>\n",
       "    <tr>\n",
       "      <th>347487</th>\n",
       "      <td>r4_9</td>\n",
       "      <td>869165063874</td>\n",
       "      <td>8514.00</td>\n",
       "      <td>wait</td>\n",
       "      <td>2017-06-15 23:21:54.000</td>\n",
       "    </tr>\n",
       "  </tbody>\n",
       "</table>\n",
       "</div>"
      ],
      "text/plain": [
       "       equipment_id    package_id  time_stamp action          real_time_stamp\n",
       "760863         r3_2  786587035231    24375.00   wait  2017-06-16 03:46:15.000\n",
       "26191          i1_1  958205218583    50677.04    end  2017-06-16 11:04:37.040\n",
       "523098         r4_8  824350487011    13410.00   wait  2017-06-16 00:43:30.000\n",
       "348401         r4_5   40145587619    16587.60    end  2017-06-16 01:36:27.600\n",
       "347487         r4_9  869165063874     8514.00   wait  2017-06-15 23:21:54.000"
      ]
     },
     "execution_count": 216,
     "metadata": {},
     "output_type": "execute_result"
    }
   ],
   "source": [
    "machine_table.sample(5)"
   ]
  },
  {
   "cell_type": "code",
   "execution_count": 218,
   "metadata": {
    "collapsed": true
   },
   "outputs": [],
   "source": [
    "test = machine_table[machine_table.package_id == 958205218583]\n",
    "test_diff = test.set_index(['equipment_id', \"action\"], append=1)[[\"time_stamp\"]].diff()"
   ]
  },
  {
   "cell_type": "code",
   "execution_count": 221,
   "metadata": {},
   "outputs": [
    {
     "data": {
      "text/html": [
       "<div>\n",
       "<style>\n",
       "    .dataframe thead tr:only-child th {\n",
       "        text-align: right;\n",
       "    }\n",
       "\n",
       "    .dataframe thead th {\n",
       "        text-align: left;\n",
       "    }\n",
       "\n",
       "    .dataframe tbody tr th {\n",
       "        vertical-align: top;\n",
       "    }\n",
       "</style>\n",
       "<table border=\"1\" class=\"dataframe\">\n",
       "  <thead>\n",
       "    <tr style=\"text-align: right;\">\n",
       "      <th></th>\n",
       "      <th>equipment_id</th>\n",
       "      <th>package_id</th>\n",
       "      <th>time_stamp</th>\n",
       "      <th>action</th>\n",
       "      <th>real_time_stamp</th>\n",
       "    </tr>\n",
       "  </thead>\n",
       "  <tbody>\n",
       "    <tr>\n",
       "      <th>26180</th>\n",
       "      <td>r3_1</td>\n",
       "      <td>958205218583</td>\n",
       "      <td>35172.00</td>\n",
       "      <td>wait</td>\n",
       "      <td>2017-06-16 06:46:12.000</td>\n",
       "    </tr>\n",
       "    <tr>\n",
       "      <th>26181</th>\n",
       "      <td>r3_1</td>\n",
       "      <td>958205218583</td>\n",
       "      <td>50225.80</td>\n",
       "      <td>start</td>\n",
       "      <td>2017-06-16 10:57:05.800</td>\n",
       "    </tr>\n",
       "    <tr>\n",
       "      <th>26182</th>\n",
       "      <td>r3_1</td>\n",
       "      <td>958205218583</td>\n",
       "      <td>50230.60</td>\n",
       "      <td>end</td>\n",
       "      <td>2017-06-16 10:57:10.600</td>\n",
       "    </tr>\n",
       "    <tr>\n",
       "      <th>26183</th>\n",
       "      <td>m2_1</td>\n",
       "      <td>958205218583</td>\n",
       "      <td>50288.51</td>\n",
       "      <td>wait</td>\n",
       "      <td>2017-06-16 10:58:08.510</td>\n",
       "    </tr>\n",
       "    <tr>\n",
       "      <th>26184</th>\n",
       "      <td>m2_1</td>\n",
       "      <td>958205218583</td>\n",
       "      <td>50288.51</td>\n",
       "      <td>start</td>\n",
       "      <td>2017-06-16 10:58:08.510</td>\n",
       "    </tr>\n",
       "    <tr>\n",
       "      <th>26185</th>\n",
       "      <td>m2_1</td>\n",
       "      <td>958205218583</td>\n",
       "      <td>50291.51</td>\n",
       "      <td>end</td>\n",
       "      <td>2017-06-16 10:58:11.510</td>\n",
       "    </tr>\n",
       "    <tr>\n",
       "      <th>26186</th>\n",
       "      <td>i2_1</td>\n",
       "      <td>958205218583</td>\n",
       "      <td>50509.27</td>\n",
       "      <td>wait</td>\n",
       "      <td>2017-06-16 11:01:49.270</td>\n",
       "    </tr>\n",
       "    <tr>\n",
       "      <th>26187</th>\n",
       "      <td>i2_1</td>\n",
       "      <td>958205218583</td>\n",
       "      <td>50509.27</td>\n",
       "      <td>start</td>\n",
       "      <td>2017-06-16 11:01:49.270</td>\n",
       "    </tr>\n",
       "    <tr>\n",
       "      <th>26188</th>\n",
       "      <td>i2_1</td>\n",
       "      <td>958205218583</td>\n",
       "      <td>50650.20</td>\n",
       "      <td>end</td>\n",
       "      <td>2017-06-16 11:04:10.200</td>\n",
       "    </tr>\n",
       "    <tr>\n",
       "      <th>26189</th>\n",
       "      <td>i1_1</td>\n",
       "      <td>958205218583</td>\n",
       "      <td>50650.20</td>\n",
       "      <td>wait</td>\n",
       "      <td>2017-06-16 11:04:10.200</td>\n",
       "    </tr>\n",
       "    <tr>\n",
       "      <th>26190</th>\n",
       "      <td>i1_1</td>\n",
       "      <td>958205218583</td>\n",
       "      <td>50650.20</td>\n",
       "      <td>start</td>\n",
       "      <td>2017-06-16 11:04:10.200</td>\n",
       "    </tr>\n",
       "    <tr>\n",
       "      <th>26191</th>\n",
       "      <td>i1_1</td>\n",
       "      <td>958205218583</td>\n",
       "      <td>50677.04</td>\n",
       "      <td>end</td>\n",
       "      <td>2017-06-16 11:04:37.040</td>\n",
       "    </tr>\n",
       "    <tr>\n",
       "      <th>26192</th>\n",
       "      <td>c1_29</td>\n",
       "      <td>958205218583</td>\n",
       "      <td>50677.04</td>\n",
       "      <td>wait</td>\n",
       "      <td>2017-06-16 11:04:37.040</td>\n",
       "    </tr>\n",
       "  </tbody>\n",
       "</table>\n",
       "</div>"
      ],
      "text/plain": [
       "      equipment_id    package_id  time_stamp action          real_time_stamp\n",
       "26180         r3_1  958205218583    35172.00   wait  2017-06-16 06:46:12.000\n",
       "26181         r3_1  958205218583    50225.80  start  2017-06-16 10:57:05.800\n",
       "26182         r3_1  958205218583    50230.60    end  2017-06-16 10:57:10.600\n",
       "26183         m2_1  958205218583    50288.51   wait  2017-06-16 10:58:08.510\n",
       "26184         m2_1  958205218583    50288.51  start  2017-06-16 10:58:08.510\n",
       "26185         m2_1  958205218583    50291.51    end  2017-06-16 10:58:11.510\n",
       "26186         i2_1  958205218583    50509.27   wait  2017-06-16 11:01:49.270\n",
       "26187         i2_1  958205218583    50509.27  start  2017-06-16 11:01:49.270\n",
       "26188         i2_1  958205218583    50650.20    end  2017-06-16 11:04:10.200\n",
       "26189         i1_1  958205218583    50650.20   wait  2017-06-16 11:04:10.200\n",
       "26190         i1_1  958205218583    50650.20  start  2017-06-16 11:04:10.200\n",
       "26191         i1_1  958205218583    50677.04    end  2017-06-16 11:04:37.040\n",
       "26192        c1_29  958205218583    50677.04   wait  2017-06-16 11:04:37.040"
      ]
     },
     "execution_count": 221,
     "metadata": {},
     "output_type": "execute_result"
    }
   ],
   "source": [
    "test"
   ]
  },
  {
   "cell_type": "code",
   "execution_count": 219,
   "metadata": {
    "collapsed": true
   },
   "outputs": [],
   "source": [
    "test_diff = test_diff.reset_index(\"action\")"
   ]
  },
  {
   "cell_type": "code",
   "execution_count": 222,
   "metadata": {},
   "outputs": [
    {
     "data": {
      "text/html": [
       "<div>\n",
       "<style>\n",
       "    .dataframe thead tr:only-child th {\n",
       "        text-align: right;\n",
       "    }\n",
       "\n",
       "    .dataframe thead th {\n",
       "        text-align: left;\n",
       "    }\n",
       "\n",
       "    .dataframe tbody tr th {\n",
       "        vertical-align: top;\n",
       "    }\n",
       "</style>\n",
       "<table border=\"1\" class=\"dataframe\">\n",
       "  <thead>\n",
       "    <tr style=\"text-align: right;\">\n",
       "      <th></th>\n",
       "      <th></th>\n",
       "      <th>action</th>\n",
       "      <th>time_stamp</th>\n",
       "    </tr>\n",
       "    <tr>\n",
       "      <th></th>\n",
       "      <th>equipment_id</th>\n",
       "      <th></th>\n",
       "      <th></th>\n",
       "    </tr>\n",
       "  </thead>\n",
       "  <tbody>\n",
       "    <tr>\n",
       "      <th>26180</th>\n",
       "      <th>r3_1</th>\n",
       "      <td>wait</td>\n",
       "      <td>NaN</td>\n",
       "    </tr>\n",
       "    <tr>\n",
       "      <th>26181</th>\n",
       "      <th>r3_1</th>\n",
       "      <td>start</td>\n",
       "      <td>15053.80</td>\n",
       "    </tr>\n",
       "    <tr>\n",
       "      <th>26182</th>\n",
       "      <th>r3_1</th>\n",
       "      <td>end</td>\n",
       "      <td>4.80</td>\n",
       "    </tr>\n",
       "    <tr>\n",
       "      <th>26183</th>\n",
       "      <th>m2_1</th>\n",
       "      <td>wait</td>\n",
       "      <td>57.91</td>\n",
       "    </tr>\n",
       "    <tr>\n",
       "      <th>26184</th>\n",
       "      <th>m2_1</th>\n",
       "      <td>start</td>\n",
       "      <td>0.00</td>\n",
       "    </tr>\n",
       "    <tr>\n",
       "      <th>26185</th>\n",
       "      <th>m2_1</th>\n",
       "      <td>end</td>\n",
       "      <td>3.00</td>\n",
       "    </tr>\n",
       "    <tr>\n",
       "      <th>26186</th>\n",
       "      <th>i2_1</th>\n",
       "      <td>wait</td>\n",
       "      <td>217.76</td>\n",
       "    </tr>\n",
       "    <tr>\n",
       "      <th>26187</th>\n",
       "      <th>i2_1</th>\n",
       "      <td>start</td>\n",
       "      <td>0.00</td>\n",
       "    </tr>\n",
       "    <tr>\n",
       "      <th>26188</th>\n",
       "      <th>i2_1</th>\n",
       "      <td>end</td>\n",
       "      <td>140.93</td>\n",
       "    </tr>\n",
       "    <tr>\n",
       "      <th>26189</th>\n",
       "      <th>i1_1</th>\n",
       "      <td>wait</td>\n",
       "      <td>0.00</td>\n",
       "    </tr>\n",
       "    <tr>\n",
       "      <th>26190</th>\n",
       "      <th>i1_1</th>\n",
       "      <td>start</td>\n",
       "      <td>0.00</td>\n",
       "    </tr>\n",
       "    <tr>\n",
       "      <th>26191</th>\n",
       "      <th>i1_1</th>\n",
       "      <td>end</td>\n",
       "      <td>26.84</td>\n",
       "    </tr>\n",
       "    <tr>\n",
       "      <th>26192</th>\n",
       "      <th>c1_29</th>\n",
       "      <td>wait</td>\n",
       "      <td>0.00</td>\n",
       "    </tr>\n",
       "  </tbody>\n",
       "</table>\n",
       "</div>"
      ],
      "text/plain": [
       "                   action  time_stamp\n",
       "      equipment_id                   \n",
       "26180 r3_1           wait         NaN\n",
       "26181 r3_1          start    15053.80\n",
       "26182 r3_1            end        4.80\n",
       "26183 m2_1           wait       57.91\n",
       "26184 m2_1          start        0.00\n",
       "26185 m2_1            end        3.00\n",
       "26186 i2_1           wait      217.76\n",
       "26187 i2_1          start        0.00\n",
       "26188 i2_1            end      140.93\n",
       "26189 i1_1           wait        0.00\n",
       "26190 i1_1          start        0.00\n",
       "26191 i1_1            end       26.84\n",
       "26192 c1_29          wait        0.00"
      ]
     },
     "execution_count": 222,
     "metadata": {},
     "output_type": "execute_result"
    }
   ],
   "source": [
    "test_diff"
   ]
  },
  {
   "cell_type": "code",
   "execution_count": 220,
   "metadata": {},
   "outputs": [
    {
     "data": {
      "text/html": [
       "<div>\n",
       "<style>\n",
       "    .dataframe thead tr:only-child th {\n",
       "        text-align: right;\n",
       "    }\n",
       "\n",
       "    .dataframe thead th {\n",
       "        text-align: left;\n",
       "    }\n",
       "\n",
       "    .dataframe tbody tr th {\n",
       "        vertical-align: top;\n",
       "    }\n",
       "</style>\n",
       "<table border=\"1\" class=\"dataframe\">\n",
       "  <thead>\n",
       "    <tr style=\"text-align: right;\">\n",
       "      <th></th>\n",
       "      <th></th>\n",
       "      <th>action</th>\n",
       "      <th>time_stamp</th>\n",
       "    </tr>\n",
       "    <tr>\n",
       "      <th></th>\n",
       "      <th>equipment_id</th>\n",
       "      <th></th>\n",
       "      <th></th>\n",
       "    </tr>\n",
       "  </thead>\n",
       "  <tbody>\n",
       "    <tr>\n",
       "      <th>26181</th>\n",
       "      <th>r3_1</th>\n",
       "      <td>start</td>\n",
       "      <td>15053.8</td>\n",
       "    </tr>\n",
       "    <tr>\n",
       "      <th>26184</th>\n",
       "      <th>m2_1</th>\n",
       "      <td>start</td>\n",
       "      <td>0.0</td>\n",
       "    </tr>\n",
       "    <tr>\n",
       "      <th>26187</th>\n",
       "      <th>i2_1</th>\n",
       "      <td>start</td>\n",
       "      <td>0.0</td>\n",
       "    </tr>\n",
       "    <tr>\n",
       "      <th>26190</th>\n",
       "      <th>i1_1</th>\n",
       "      <td>start</td>\n",
       "      <td>0.0</td>\n",
       "    </tr>\n",
       "  </tbody>\n",
       "</table>\n",
       "</div>"
      ],
      "text/plain": [
       "                   action  time_stamp\n",
       "      equipment_id                   \n",
       "26181 r3_1          start     15053.8\n",
       "26184 m2_1          start         0.0\n",
       "26187 i2_1          start         0.0\n",
       "26190 i1_1          start         0.0"
      ]
     },
     "execution_count": 220,
     "metadata": {},
     "output_type": "execute_result"
    }
   ],
   "source": [
    "test_diff[test_diff.action == \"start\"]"
   ]
  }
 ],
 "metadata": {
  "kernelspec": {
   "display_name": "Python 3",
   "language": "python",
   "name": "python3"
  },
  "language_info": {
   "codemirror_mode": {
    "name": "ipython",
    "version": 3
   },
   "file_extension": ".py",
   "mimetype": "text/x-python",
   "name": "python",
   "nbconvert_exporter": "python",
   "pygments_lexer": "ipython3",
   "version": "3.6.1"
  }
 },
 "nbformat": 4,
 "nbformat_minor": 2
}
