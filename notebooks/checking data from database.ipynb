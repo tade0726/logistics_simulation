{
 "cells": [
  {
   "cell_type": "code",
   "execution_count": 79,
   "metadata": {
    "collapsed": true
   },
   "outputs": [],
   "source": [
    "import sys\n",
    "sys.path.append('..')\n",
    "from src.db import *"
   ]
  },
  {
   "cell_type": "code",
   "execution_count": 100,
   "metadata": {},
   "outputs": [],
   "source": [
    "table = load_from_mysql(\"i_equipment_parameter\")"
   ]
  },
  {
   "cell_type": "code",
   "execution_count": 116,
   "metadata": {},
   "outputs": [],
   "source": [
    "table_dict = table.groupby([\"equipment_id\"]).apply(lambda x: x.grou)"
   ]
  },
  {
   "cell_type": "code",
   "execution_count": 117,
   "metadata": {
    "scrolled": false
   },
   "outputs": [
    {
     "data": {
      "text/plain": [
       "equipment_id\n",
       "a1     [parameter_id, parameter_value]\n",
       "a2     [parameter_id, parameter_value]\n",
       "h1     [parameter_id, parameter_value]\n",
       "h2     [parameter_id, parameter_value]\n",
       "h3     [parameter_id, parameter_value]\n",
       "j1     [parameter_id, parameter_value]\n",
       "j10    [parameter_id, parameter_value]\n",
       "j11    [parameter_id, parameter_value]\n",
       "j12    [parameter_id, parameter_value]\n",
       "j13    [parameter_id, parameter_value]\n",
       "j14    [parameter_id, parameter_value]\n",
       "j15    [parameter_id, parameter_value]\n",
       "j16    [parameter_id, parameter_value]\n",
       "j17    [parameter_id, parameter_value]\n",
       "j18    [parameter_id, parameter_value]\n",
       "j19    [parameter_id, parameter_value]\n",
       "j2     [parameter_id, parameter_value]\n",
       "j20    [parameter_id, parameter_value]\n",
       "j21    [parameter_id, parameter_value]\n",
       "j22    [parameter_id, parameter_value]\n",
       "j23    [parameter_id, parameter_value]\n",
       "j24    [parameter_id, parameter_value]\n",
       "j25    [parameter_id, parameter_value]\n",
       "j26    [parameter_id, parameter_value]\n",
       "j27    [parameter_id, parameter_value]\n",
       "j28    [parameter_id, parameter_value]\n",
       "j29    [parameter_id, parameter_value]\n",
       "j3     [parameter_id, parameter_value]\n",
       "j30    [parameter_id, parameter_value]\n",
       "j31    [parameter_id, parameter_value]\n",
       "j32    [parameter_id, parameter_value]\n",
       "j33    [parameter_id, parameter_value]\n",
       "j34    [parameter_id, parameter_value]\n",
       "j35    [parameter_id, parameter_value]\n",
       "j36    [parameter_id, parameter_value]\n",
       "j37    [parameter_id, parameter_value]\n",
       "j38    [parameter_id, parameter_value]\n",
       "j39    [parameter_id, parameter_value]\n",
       "j4     [parameter_id, parameter_value]\n",
       "j40    [parameter_id, parameter_value]\n",
       "j41    [parameter_id, parameter_value]\n",
       "j5     [parameter_id, parameter_value]\n",
       "j6     [parameter_id, parameter_value]\n",
       "j7     [parameter_id, parameter_value]\n",
       "j8     [parameter_id, parameter_value]\n",
       "j9     [parameter_id, parameter_value]\n",
       "r1     [parameter_id, parameter_value]\n",
       "r2     [parameter_id, parameter_value]\n",
       "r3     [parameter_id, parameter_value]\n",
       "r4     [parameter_id, parameter_value]\n",
       "r5     [parameter_id, parameter_value]\n",
       "dtype: object"
      ]
     },
     "execution_count": 117,
     "metadata": {},
     "output_type": "execute_result"
    }
   ],
   "source": [
    "table_dict"
   ]
  }
 ],
 "metadata": {
  "kernelspec": {
   "display_name": "Python 3",
   "language": "python",
   "name": "python3"
  },
  "language_info": {
   "codemirror_mode": {
    "name": "ipython",
    "version": 3
   },
   "file_extension": ".py",
   "mimetype": "text/x-python",
   "name": "python",
   "nbconvert_exporter": "python",
   "pygments_lexer": "ipython3",
   "version": "3.6.1"
  }
 },
 "nbformat": 4,
 "nbformat_minor": 2
}
