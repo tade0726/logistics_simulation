{
 "cells": [
  {
   "cell_type": "code",
   "execution_count": 1,
   "metadata": {
    "collapsed": true
   },
   "outputs": [],
   "source": [
    "import sys\n",
    "sys.path.append(\"..\")\n",
    "import os\n",
    "from os.path import join, splitext\n",
    "\n",
    "import pandas as pd\n",
    "from src.db import *"
   ]
  },
  {
   "cell_type": "code",
   "execution_count": 7,
   "metadata": {},
   "outputs": [
    {
     "name": "stderr",
     "output_type": "stream",
     "text": [
      "2017-08-16 05:18:28,513 - django - INFO - Reading Redis i_od_parcel_airside\n",
      "2017-08-16 05:18:28,808 - django - INFO - Reading Redis i_od_small_airside\n"
     ]
    }
   ],
   "source": [
    "data = load_from_mysql('i_od_parcel_airside')\n",
    "data2 = load_from_mysql('i_od_small_airside')"
   ]
  },
  {
   "cell_type": "code",
   "execution_count": 4,
   "metadata": {},
   "outputs": [
    {
     "data": {
      "text/html": [
       "<div>\n",
       "<style>\n",
       "    .dataframe thead tr:only-child th {\n",
       "        text-align: right;\n",
       "    }\n",
       "\n",
       "    .dataframe thead th {\n",
       "        text-align: left;\n",
       "    }\n",
       "\n",
       "    .dataframe tbody tr th {\n",
       "        vertical-align: top;\n",
       "    }\n",
       "</style>\n",
       "<table border=\"1\" class=\"dataframe\">\n",
       "  <thead>\n",
       "    <tr style=\"text-align: right;\">\n",
       "      <th></th>\n",
       "      <th>parcel_id</th>\n",
       "      <th>src_dist_code</th>\n",
       "      <th>src_type</th>\n",
       "      <th>dest_dist_code</th>\n",
       "      <th>dest_zone_code</th>\n",
       "      <th>put_package_to_cage_tm</th>\n",
       "      <th>ident_des_zno</th>\n",
       "      <th>dest_type</th>\n",
       "      <th>uld_num</th>\n",
       "      <th>plate_num</th>\n",
       "      <th>parcel_type</th>\n",
       "      <th>limit_type_code</th>\n",
       "      <th>arrive_time</th>\n",
       "      <th>send_time</th>\n",
       "      <th>inserted_on</th>\n",
       "      <th>modified_on</th>\n",
       "    </tr>\n",
       "  </thead>\n",
       "  <tbody>\n",
       "    <tr>\n",
       "      <th>150241</th>\n",
       "      <td>526256</td>\n",
       "      <td>024</td>\n",
       "      <td>A</td>\n",
       "      <td>510</td>\n",
       "      <td>510HB</td>\n",
       "      <td>2017-07-26 02:28:02</td>\n",
       "      <td>510</td>\n",
       "      <td>L</td>\n",
       "      <td>None</td>\n",
       "      <td>336197494888</td>\n",
       "      <td>small</td>\n",
       "      <td>T4</td>\n",
       "      <td>2017-07-26 02:03:38</td>\n",
       "      <td>2017-07-26 04:57:25</td>\n",
       "      <td>NaT</td>\n",
       "      <td>NaT</td>\n",
       "    </tr>\n",
       "  </tbody>\n",
       "</table>\n",
       "</div>"
      ],
      "text/plain": [
       "       parcel_id src_dist_code src_type dest_dist_code dest_zone_code  \\\n",
       "150241    526256           024        A            510          510HB   \n",
       "\n",
       "       put_package_to_cage_tm ident_des_zno dest_type uld_num     plate_num  \\\n",
       "150241    2017-07-26 02:28:02           510         L    None  336197494888   \n",
       "\n",
       "       parcel_type limit_type_code         arrive_time           send_time  \\\n",
       "150241       small              T4 2017-07-26 02:03:38 2017-07-26 04:57:25   \n",
       "\n",
       "       inserted_on modified_on  \n",
       "150241         NaT         NaT  "
      ]
     },
     "execution_count": 4,
     "metadata": {},
     "output_type": "execute_result"
    }
   ],
   "source": [
    "data[data.parcel_id == '526256']"
   ]
  },
  {
   "cell_type": "code",
   "execution_count": 8,
   "metadata": {},
   "outputs": [
    {
     "data": {
      "text/html": [
       "<div>\n",
       "<style>\n",
       "    .dataframe thead tr:only-child th {\n",
       "        text-align: right;\n",
       "    }\n",
       "\n",
       "    .dataframe thead th {\n",
       "        text-align: left;\n",
       "    }\n",
       "\n",
       "    .dataframe tbody tr th {\n",
       "        vertical-align: top;\n",
       "    }\n",
       "</style>\n",
       "<table border=\"1\" class=\"dataframe\">\n",
       "  <thead>\n",
       "    <tr style=\"text-align: right;\">\n",
       "      <th></th>\n",
       "      <th>small_id</th>\n",
       "      <th>parcel_id</th>\n",
       "      <th>src_dist_code</th>\n",
       "      <th>src_type</th>\n",
       "      <th>dest_dist_code</th>\n",
       "      <th>dest_zone_code</th>\n",
       "      <th>put_package_to_cage_tm</th>\n",
       "      <th>ident_des_zno</th>\n",
       "      <th>dest_type</th>\n",
       "      <th>uld_num</th>\n",
       "      <th>plate_num</th>\n",
       "      <th>parcel_type</th>\n",
       "      <th>limit_type_code</th>\n",
       "      <th>arrive_time</th>\n",
       "      <th>send_time</th>\n",
       "      <th>inserted_on</th>\n",
       "      <th>modified_on</th>\n",
       "    </tr>\n",
       "  </thead>\n",
       "  <tbody>\n",
       "    <tr>\n",
       "      <th>1963</th>\n",
       "      <td>526256</td>\n",
       "      <td>526256</td>\n",
       "      <td>024</td>\n",
       "      <td>A</td>\n",
       "      <td>510</td>\n",
       "      <td>510HB</td>\n",
       "      <td>2017-07-26 02:28:02</td>\n",
       "      <td>510</td>\n",
       "      <td>L</td>\n",
       "      <td>None</td>\n",
       "      <td>336197494888</td>\n",
       "      <td>small</td>\n",
       "      <td>T4</td>\n",
       "      <td>2017-07-26 02:03:38</td>\n",
       "      <td>2017-07-26 04:57:25</td>\n",
       "      <td>NaT</td>\n",
       "      <td>NaT</td>\n",
       "    </tr>\n",
       "  </tbody>\n",
       "</table>\n",
       "</div>"
      ],
      "text/plain": [
       "     small_id parcel_id src_dist_code src_type dest_dist_code dest_zone_code  \\\n",
       "1963   526256    526256           024        A            510          510HB   \n",
       "\n",
       "     put_package_to_cage_tm ident_des_zno dest_type uld_num     plate_num  \\\n",
       "1963    2017-07-26 02:28:02           510         L    None  336197494888   \n",
       "\n",
       "     parcel_type limit_type_code         arrive_time           send_time  \\\n",
       "1963       small              T4 2017-07-26 02:03:38 2017-07-26 04:57:25   \n",
       "\n",
       "     inserted_on modified_on  \n",
       "1963         NaT         NaT  "
      ]
     },
     "execution_count": 8,
     "metadata": {},
     "output_type": "execute_result"
    }
   ],
   "source": [
    "data2[data2.parcel_id == '526256']"
   ]
  }
 ],
 "metadata": {
  "kernelspec": {
   "display_name": "Python 3",
   "language": "python",
   "name": "python3"
  },
  "language_info": {
   "codemirror_mode": {
    "name": "ipython",
    "version": 3
   },
   "file_extension": ".py",
   "mimetype": "text/x-python",
   "name": "python",
   "nbconvert_exporter": "python",
   "pygments_lexer": "ipython3",
   "version": "3.6.1"
  }
 },
 "nbformat": 4,
 "nbformat_minor": 2
}
