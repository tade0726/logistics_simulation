{
 "cells": [
  {
   "cell_type": "code",
   "execution_count": 1,
   "metadata": {
    "collapsed": false
   },
   "outputs": [],
   "source": [
    "import pandas as pd\n",
    "import numpy as np\n",
    "import os\n",
    "\n",
    "import pickle\n",
    "from collections import defaultdict"
   ]
  },
  {
   "cell_type": "code",
   "execution_count": 4,
   "metadata": {
    "collapsed": false
   },
   "outputs": [],
   "source": [
    "DATA_DIR = '../inbox'\n",
    "DATA_CSV_DIR = '../data'\n",
    "FILE_NAME = '04-1 仿真数据库样例数据V1.0.20170713.xlsx'\n",
    "DATA_PATH = os.path.join(DATA_DIR, FILE_NAME)\n",
    "\n",
    "sheet_names = \\\n",
    "    ['i_container_capacity',\n",
    "    'i_equipment_io',\n",
    "    'i_equipment_parameter',\n",
    "    'i_equipment_resource',\n",
    "    'i_queue_io',\n",
    "    'i_reload_setting',\n",
    "    'i_resource_limit', \n",
    "    'i_od_parcel_landside',\n",
    "    'i_unload_setting',\n",
    "    'i_reload_setting',]\n",
    "\n",
    "if 1 == 1:\n",
    "    tables = {name : pd.read_excel(DATA_PATH, sheetname=name) for name in sheet_names}\n",
    "    for name, table in tables.items():\n",
    "        table.to_csv(f'../data/{name}.csv', index=0)\n",
    "else: \n",
    "    tables = {name : pd.read_csv(os.path.join(DATA_CSV_DIR, name + '.csv')) for name in sheet_names}"
   ]
  },
  {
   "cell_type": "code",
   "execution_count": 9,
   "metadata": {
    "collapsed": false
   },
   "outputs": [
    {
     "data": {
      "text/plain": [
       "array(['LM', 'LS', 'SE', 'AC', 'AM', 'AS', 'MS'], dtype=object)"
      ]
     },
     "execution_count": 9,
     "metadata": {},
     "output_type": "execute_result"
    }
   ],
   "source": [
    "tables['i_queue_io']['sorter_zone'].apply(lambda x: x[:2]).unique()"
   ]
  },
  {
   "cell_type": "markdown",
   "metadata": {},
   "source": [
    "# change\n",
    "- queue io\n",
    "- equipment io"
   ]
  },
  {
   "cell_type": "code",
   "execution_count": null,
   "metadata": {
    "collapsed": false
   },
   "outputs": [],
   "source": [
    "table_equipment_io = tables['i_equipment_io']\n",
    "\n",
    "cols = ['equipment_port_last',\n",
    "'equipment_port_next',\n",
    "'equipment_type',\n",
    "'queue_id',\n",
    "'process_time',\n",
    "'allocate_rule',]\n",
    "\n",
    "table_queue_io = tables['i_queue_io'][cols]\n",
    "\n",
    "import collections\n",
    "\n",
    "def generate_tree_dict(table: pd.DataFrame):\n",
    "    tree_dict = collections.defaultdict(set)\n",
    "    for _, row in table.iterrows():\n",
    "        tree_dict[row['equipment_port_last']].add(row['equipment_port_next'])\n",
    "    return tree_dict"
   ]
  },
  {
   "cell_type": "code",
   "execution_count": null,
   "metadata": {
    "collapsed": false
   },
   "outputs": [],
   "source": [
    "table_queue_io['equipment_id_in'] = table_queue_io['queue_id'].str.split('_').str.get(0)\n",
    "table_queue_io['equipment_id_out'] = table_queue_io['queue_id'].str.split('_').str.get(1)\n",
    "\n",
    "MS_code = [f'u{x}' for x in range(1, 9)]\n",
    "\n",
    "table_package = table_queue_io[~table_queue_io.equipment_id_out.isin(MS_code)]"
   ]
  },
  {
   "cell_type": "code",
   "execution_count": null,
   "metadata": {
    "collapsed": true
   },
   "outputs": [],
   "source": [
    "tree_package = generate_tree_dict(table_package)"
   ]
  },
  {
   "cell_type": "code",
   "execution_count": null,
   "metadata": {
    "collapsed": true
   },
   "outputs": [],
   "source": [
    "import copy\n",
    "from itertools import product"
   ]
  },
  {
   "cell_type": "code",
   "execution_count": null,
   "metadata": {
    "collapsed": true
   },
   "outputs": [],
   "source": [
    "tree_dict = copy.deepcopy(tree_package)"
   ]
  },
  {
   "cell_type": "code",
   "execution_count": null,
   "metadata": {
    "collapsed": true
   },
   "outputs": [],
   "source": [
    "def clean_h(locs: list):\n",
    "    return [x for x in locs if 'h' not in x]\n",
    "\n",
    "def check_h(locs: list):\n",
    "    return any([x for x in locs if 'h' in x])\n",
    "\n",
    "def generate_path(change_paths: list, fixed_paths: list):\n",
    "    \n",
    "    pathss = []\n",
    "    end_locs = []\n",
    "    \n",
    "    for path in change_paths:\n",
    "                \n",
    "        last_loc = path[-1]\n",
    "        new_locs = list(tree_dict[last_loc])\n",
    "                \n",
    "        if check_h(path):\n",
    "            new_locs = clean_h(new_locs)\n",
    "                    \n",
    "        if new_locs:\n",
    "            paths = [path + [new_loc] for new_loc in new_locs]\n",
    "            pathss.extend(paths)\n",
    "        else:\n",
    "            fixed_paths.append(path)\n",
    "        \n",
    "        end_locs.append(new_locs)\n",
    "\n",
    "    if any(end_locs):\n",
    "        return generate_path(pathss, fixed_paths)\n",
    "    else:\n",
    "        return set(tuple(x) for x in (change_paths + fixed_paths))"
   ]
  },
  {
   "cell_type": "code",
   "execution_count": null,
   "metadata": {
    "collapsed": false,
    "scrolled": false
   },
   "outputs": [],
   "source": [
    "all_paths = generate_path([['r1_4']], [])"
   ]
  },
  {
   "cell_type": "code",
   "execution_count": null,
   "metadata": {
    "collapsed": false,
    "scrolled": true
   },
   "outputs": [],
   "source": [
    "len(all_paths)"
   ]
  },
  {
   "cell_type": "code",
   "execution_count": null,
   "metadata": {
    "collapsed": false,
    "scrolled": true
   },
   "outputs": [],
   "source": [
    "all_paths"
   ]
  },
  {
   "cell_type": "code",
   "execution_count": null,
   "metadata": {
    "collapsed": true
   },
   "outputs": [],
   "source": [
    "import random\n",
    "from functools import partial"
   ]
  },
  {
   "cell_type": "code",
   "execution_count": null,
   "metadata": {
    "collapsed": false
   },
   "outputs": [],
   "source": [
    "def path_filter(path, start, end):\n",
    "    return (path[0] == start) and (path[-1] == end)\n",
    "\n",
    "path_filter_test1 = partial(path_filter, start='r1_1', end='c1_14')\n",
    "path_filter_test2 = partial(path_filter, start='r1_1', end='c1_16')"
   ]
  },
  {
   "cell_type": "code",
   "execution_count": null,
   "metadata": {
    "collapsed": false,
    "scrolled": true
   },
   "outputs": [],
   "source": [
    "%time path_test1 = list(filter(lambda x: path_filter_test1(x), all_paths))\n",
    "%time path_test2 = list(filter(lambda x: path_filter_test2(x), all_paths))"
   ]
  },
  {
   "cell_type": "code",
   "execution_count": null,
   "metadata": {
    "collapsed": false,
    "scrolled": false
   },
   "outputs": [],
   "source": [
    "test1 = set(tuple(x) for x in path_test1)\n",
    "test2 = set(tuple(x) for x in path_test2)"
   ]
  },
  {
   "cell_type": "code",
   "execution_count": null,
   "metadata": {
    "collapsed": false,
    "scrolled": false
   },
   "outputs": [],
   "source": [
    "test1"
   ]
  },
  {
   "cell_type": "code",
   "execution_count": null,
   "metadata": {
    "collapsed": false
   },
   "outputs": [],
   "source": [
    "test2"
   ]
  },
  {
   "cell_type": "code",
   "execution_count": null,
   "metadata": {
    "collapsed": false
   },
   "outputs": [],
   "source": [
    "list(filter(lambda x: check_h(x), all_paths))"
   ]
  }
 ],
 "metadata": {
  "kernelspec": {
   "display_name": "Python 3",
   "language": "python",
   "name": "python3"
  },
  "language_info": {
   "codemirror_mode": {
    "name": "ipython",
    "version": 3
   },
   "file_extension": ".py",
   "mimetype": "text/x-python",
   "name": "python",
   "nbconvert_exporter": "python",
   "pygments_lexer": "ipython3",
   "version": "3.6.0"
  }
 },
 "nbformat": 4,
 "nbformat_minor": 2
}
