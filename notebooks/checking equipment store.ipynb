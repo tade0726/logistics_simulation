{
 "cells": [
  {
   "cell_type": "code",
   "execution_count": 1,
   "metadata": {
    "collapsed": true
   },
   "outputs": [],
   "source": [
    "import sys\n",
    "\n",
    "sys.path.extend(['..'])\n",
    "\n",
    "from src.db import *"
   ]
  },
  {
   "cell_type": "code",
   "execution_count": 2,
   "metadata": {
    "collapsed": false
   },
   "outputs": [
    {
     "name": "stderr",
     "output_type": "stream",
     "text": [
      "2017-08-21 13:06:51,002 - simulation - INFO - Reading Redis i_queue_io\n"
     ]
    }
   ],
   "source": [
    "data = get_equipment_store_dict()"
   ]
  },
  {
   "cell_type": "code",
   "execution_count": 3,
   "metadata": {
    "collapsed": false,
    "scrolled": true
   },
   "outputs": [
    {
     "data": {
      "text/plain": [
       "{'j10_1': 'J_214',\n",
       " 'j11_1': 'J_219',\n",
       " 'j12_1': 'J_214',\n",
       " 'j13_1': 'J_219',\n",
       " 'j14_1': 'J_214',\n",
       " 'j15_1': 'J_219',\n",
       " 'j16_1': 'J_214',\n",
       " 'j17_1': 'J_219',\n",
       " 'j18_1': 'J_214',\n",
       " 'j19_1': 'J_219',\n",
       " 'j1_1': 'J_215',\n",
       " 'j20_1': 'J_214',\n",
       " 'j21_1': 'J_219',\n",
       " 'j22_1': 'J_214',\n",
       " 'j23_1': 'J_219',\n",
       " 'j24_1': 'J_214',\n",
       " 'j25_1': 'J_220',\n",
       " 'j26_1': 'J_218',\n",
       " 'j27_1': 'J_220',\n",
       " 'j28_1': 'J_218',\n",
       " 'j29_1': 'J_220',\n",
       " 'j2_1': 'J_215',\n",
       " 'j30_1': 'J_218',\n",
       " 'j31_1': 'J_220',\n",
       " 'j32_1': 'J_218',\n",
       " 'j33_1': 'J_220',\n",
       " 'j34_1': 'J_218',\n",
       " 'j35_1': 'J_220',\n",
       " 'j36_1': 'J_218',\n",
       " 'j37_1': 'J_220',\n",
       " 'j38_1': 'J_218',\n",
       " 'j39_1': 'J_220',\n",
       " 'j3_1': 'J_215',\n",
       " 'j40_1': 'J_218',\n",
       " 'j4_1': 'J_215',\n",
       " 'j5_1': 'J_215',\n",
       " 'j6_1': 'J_215',\n",
       " 'j7_1': 'J_215',\n",
       " 'j8_1': 'J_215',\n",
       " 'j9_1': 'J_219',\n",
       " 'u1_1': 'U_1',\n",
       " 'u1_2': 'U_1',\n",
       " 'u1_3': 'U_1',\n",
       " 'u1_4': 'U_1',\n",
       " 'u1_5': 'U_1',\n",
       " 'u1_6': 'U_1',\n",
       " 'u1_7': 'U_1',\n",
       " 'u2_1': 'U_1',\n",
       " 'u2_2': 'U_1',\n",
       " 'u2_3': 'U_1',\n",
       " 'u2_4': 'U_1',\n",
       " 'u2_5': 'U_1',\n",
       " 'u2_6': 'U_1',\n",
       " 'u2_7': 'U_1',\n",
       " 'u3_1': 'U_1',\n",
       " 'u3_2': 'U_1',\n",
       " 'u3_3': 'U_1',\n",
       " 'u3_4': 'U_1',\n",
       " 'u3_5': 'U_1',\n",
       " 'u3_6': 'U_1',\n",
       " 'u3_7': 'U_1',\n",
       " 'u4_1': 'U_1',\n",
       " 'u4_2': 'U_1',\n",
       " 'u4_3': 'U_1',\n",
       " 'u4_4': 'U_1',\n",
       " 'u4_5': 'U_1',\n",
       " 'u4_6': 'U_1',\n",
       " 'u4_7': 'U_1',\n",
       " 'u5_1': 'U_2',\n",
       " 'u5_2': 'U_2',\n",
       " 'u5_3': 'U_2',\n",
       " 'u5_4': 'U_2',\n",
       " 'u5_5': 'U_2',\n",
       " 'u5_6': 'U_2',\n",
       " 'u5_7': 'U_2',\n",
       " 'u6_1': 'U_2',\n",
       " 'u6_2': 'U_2',\n",
       " 'u6_3': 'U_2',\n",
       " 'u6_4': 'U_2',\n",
       " 'u6_5': 'U_2',\n",
       " 'u6_6': 'U_2',\n",
       " 'u6_7': 'U_2',\n",
       " 'u7_1': 'U_2',\n",
       " 'u7_2': 'U_2',\n",
       " 'u7_3': 'U_2',\n",
       " 'u7_4': 'U_2',\n",
       " 'u7_5': 'U_2',\n",
       " 'u7_6': 'U_2',\n",
       " 'u7_7': 'U_2',\n",
       " 'u8_1': 'U_2',\n",
       " 'u8_2': 'U_2',\n",
       " 'u8_3': 'U_2',\n",
       " 'u8_4': 'U_2',\n",
       " 'u8_5': 'U_2',\n",
       " 'u8_6': 'U_2',\n",
       " 'u8_7': 'U_2'}"
      ]
     },
     "execution_count": 3,
     "metadata": {},
     "output_type": "execute_result"
    }
   ],
   "source": [
    "data"
   ]
  }
 ],
 "metadata": {
  "kernelspec": {
   "display_name": "Python (simpy-pip)",
   "language": "python",
   "name": "simpy-pip"
  },
  "language_info": {
   "codemirror_mode": {
    "name": "ipython",
    "version": 3
   },
   "file_extension": ".py",
   "mimetype": "text/x-python",
   "name": "python",
   "nbconvert_exporter": "python",
   "pygments_lexer": "ipython3",
   "version": "3.6.0"
  }
 },
 "nbformat": 4,
 "nbformat_minor": 2
}
