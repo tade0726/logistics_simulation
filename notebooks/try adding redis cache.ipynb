{
 "cells": [
  {
   "cell_type": "code",
   "execution_count": 1,
   "metadata": {
    "collapsed": true
   },
   "outputs": [],
   "source": [
    "import sys\n",
    "sys.path.append(\"..\")"
   ]
  },
  {
   "cell_type": "code",
   "execution_count": 2,
   "metadata": {
    "collapsed": true
   },
   "outputs": [],
   "source": [
    "from functools import wraps\n",
    "from os.path import join, isfile\n",
    "import pandas as pd\n",
    "\n",
    "from src.config import *\n",
    "from src.db import load_from_local, write_local\n",
    "\n",
    "import logging\n",
    "logging.basicConfig(level=logging.DEBUG)"
   ]
  },
  {
   "cell_type": "code",
   "execution_count": 51,
   "metadata": {
    "collapsed": true
   },
   "outputs": [],
   "source": [
    "def checking_file(table_name):\n",
    "    return isfile(join(SaveConfig.DATA_DIR, f\"{table_name}.csv\"))\n",
    "\n",
    "def load_cache(func):\n",
    "    \"\"\"cache to local csv\"\"\"\n",
    "    @wraps(func)\n",
    "    def wrapper(table_name):\n",
    "        if not checking_file(table_name):\n",
    "            table = func(table_name)\n",
    "            write_local(table_name, data=table, is_out=False)\n",
    "            return table\n",
    "        else:\n",
    "            return load_from_local(table_name)\n",
    "    return wrapper\n",
    "\n",
    "@load_cache\n",
    "def load_from_mysql(table_name: str):\n",
    "    \"\"\"读取远程mysql数据表\"\"\"\n",
    "    logging.debug(msg=f\"Reading mysql table {table_name}\")\n",
    "    table = pd.read_sql_table(con=RemoteMySQLConfig.engine, table_name=f\"{table_name}\")\n",
    "    return table"
   ]
  },
  {
   "cell_type": "code",
   "execution_count": 52,
   "metadata": {},
   "outputs": [
    {
     "name": "stderr",
     "output_type": "stream",
     "text": [
      "DEBUG:root:Reading mysql table i_queue_io\n",
      "INFO:root:csv write table i_queue_io succeed!\n"
     ]
    }
   ],
   "source": [
    "table = load_from_mysql('i_queue_io')"
   ]
  }
 ],
 "metadata": {
  "kernelspec": {
   "display_name": "Python 3",
   "language": "python",
   "name": "python3"
  },
  "language_info": {
   "codemirror_mode": {
    "name": "ipython",
    "version": 3
   },
   "file_extension": ".py",
   "mimetype": "text/x-python",
   "name": "python",
   "nbconvert_exporter": "python",
   "pygments_lexer": "ipython3",
   "version": "3.6.1"
  }
 },
 "nbformat": 4,
 "nbformat_minor": 2
}
